{
  "nbformat": 4,
  "nbformat_minor": 0,
  "metadata": {
    "colab": {
      "name": "Math6373HW2.ipynb",
      "provenance": []
    },
    "kernelspec": {
      "name": "python3",
      "display_name": "Python 3"
    },
    "language_info": {
      "name": "python"
    }
  },
  "cells": [
    {
      "cell_type": "code",
      "execution_count": null,
      "metadata": {
        "id": "IAE7PYRHz03T"
      },
      "outputs": [],
      "source": [
        "import tensorflow as tf\n",
        "\n",
        "from tensorflow.keras import datasets, layers, models\n",
        "import matplotlib.pyplot as plt\n"
      ]
    },
    {
      "cell_type": "code",
      "source": [
        "### import the dataset and transform the the image to gray scale images\n",
        "\n",
        "(X_train, Y_train), (X_test, Y_test) = datasets.cifar10.load_data()\n",
        "X_train, X_test = X_train / 255.0, X_test / 255.0\n",
        "import numpy as np\n",
        "\n",
        "Xtrain=np.empty(shape=(50000,32,32))\n",
        "Xtest=np.empty(shape=(10000,32,32))\n",
        "from PIL import Image\n",
        "for i in range(50000):\n",
        "  img = Image.fromarray((X_train[i] * 255).astype(np.uint8))\n",
        "  imgGray = img.convert('L')\n",
        "  Xtrain[i]=np.asarray(imgGray)\n",
        "\n",
        "for i in range(10000):\n",
        "  img = Image.fromarray((X_test[i] * 255).astype(np.uint8))\n",
        "  imgGray = img.convert('L')\n",
        "  Xtest[i]=np.asarray(imgGray)\n",
        "\n"
      ],
      "metadata": {
        "id": "NMOCFlBUz9K0",
        "colab": {
          "base_uri": "https://localhost:8080/"
        },
        "outputId": "076429d4-5829-4a86-9ca7-10ec55334fcf"
      },
      "execution_count": null,
      "outputs": [
        {
          "output_type": "stream",
          "name": "stdout",
          "text": [
            "Downloading data from https://www.cs.toronto.edu/~kriz/cifar-10-python.tar.gz\n",
            "170500096/170498071 [==============================] - 2s 0us/step\n",
            "170508288/170498071 [==============================] - 2s 0us/step\n"
          ]
        }
      ]
    },
    {
      "cell_type": "code",
      "source": [
        "L=[]\n",
        "for i in range(10):\n",
        "  l=np.where(Y_train==i)\n",
        "  L.append(l[0])\n",
        "\n",
        "l1=np.where(Y_train==0)\n",
        "l2=np.where(Y_train==1)\n",
        "l3=np.where(Y_train==2)\n",
        "l4=np.where(Y_train==3)\n",
        "l5=np.where(Y_train==4)\n",
        "l6=np.where(Y_train==5)\n",
        "l7=np.where(Y_train==6)\n",
        "l8=np.where(Y_train==7)\n",
        "l9=np.where(Y_train==8)\n",
        "l10=np.where(Y_train==9)\n",
        "\n"
      ],
      "metadata": {
        "id": "P2HSNWiVwvqA"
      },
      "execution_count": null,
      "outputs": []
    },
    {
      "cell_type": "code",
      "source": [
        "L"
      ],
      "metadata": {
        "colab": {
          "base_uri": "https://localhost:8080/"
        },
        "id": "ryEN668y3a0F",
        "outputId": "69204290-3e36-40a2-cc68-81b3b37fcd92"
      },
      "execution_count": null,
      "outputs": [
        {
          "output_type": "execute_result",
          "data": {
            "text/plain": [
              "[array([   29,    30,    35, ..., 49941, 49992, 49994]),\n",
              " array([    4,     5,    32, ..., 49993, 49998, 49999]),\n",
              " array([    6,    13,    18, ..., 49987, 49991, 49995]),\n",
              " array([    9,    17,    21, ..., 49979, 49982, 49983]),\n",
              " array([    3,    10,    20, ..., 49981, 49984, 49990]),\n",
              " array([   27,    40,    51, ..., 49964, 49980, 49988]),\n",
              " array([    0,    19,    22, ..., 49962, 49966, 49996]),\n",
              " array([    7,    11,    12, ..., 49965, 49978, 49986]),\n",
              " array([    8,    62,    69, ..., 49968, 49976, 49985]),\n",
              " array([    1,     2,    14, ..., 49963, 49971, 49997])]"
            ]
          },
          "metadata": {},
          "execution_count": 35
        }
      ]
    },
    {
      "cell_type": "code",
      "source": [
        "from tensorflow.keras.utils import to_categorical\n",
        "# Set the input shape\n",
        "feature_vector_length= 32*32\n",
        "input_shape = (feature_vector_length,)\n",
        "print(f'Feature shape: {input_shape}')\n",
        "num_classes=10\n",
        "\n",
        "# Reshape the data - MLPs do not understand such things as '2D'.\n",
        "# Reshape to 32 x 32 pixels = 1024 features\n",
        "Xtrain = Xtrain.reshape(Xtrain.shape[0], feature_vector_length)\n",
        "Xtest = Xtest.reshape(Xtest.shape[0], feature_vector_length)\n",
        "\n",
        "# change the the type of the data set\n",
        "Xtrain = Xtrain.astype('float32')\n",
        "Xtest = Xtest.astype('float32')\n",
        "X_train /= 255\n",
        "X_test /= 255\n",
        "\n",
        "# Convert target classes to categorical ones\n",
        "Y_train = to_categorical(Y_train, num_classes)\n",
        "Y_test = to_categorical(Y_test, num_classes)\n"
      ],
      "metadata": {
        "colab": {
          "base_uri": "https://localhost:8080/"
        },
        "id": "N0xTh0q42Ddo",
        "outputId": "05d553a8-363d-4920-ec02-7617ca2612a6"
      },
      "execution_count": null,
      "outputs": [
        {
          "output_type": "stream",
          "name": "stdout",
          "text": [
            "Feature shape: (1024,)\n"
          ]
        }
      ]
    },
    {
      "cell_type": "code",
      "source": [
        "Y_train[0]"
      ],
      "metadata": {
        "colab": {
          "base_uri": "https://localhost:8080/"
        },
        "id": "K_rWeIp8B4Ho",
        "outputId": "98e468e9-9c87-44fd-cb09-7ec2a66e2261"
      },
      "execution_count": null,
      "outputs": [
        {
          "output_type": "execute_result",
          "data": {
            "text/plain": [
              "array([0., 0., 0., 0., 0., 0., 1., 0., 0., 0.], dtype=float32)"
            ]
          },
          "metadata": {},
          "execution_count": 20
        }
      ]
    },
    {
      "cell_type": "code",
      "source": [
        "import tensorflow as tf\n",
        "from tensorflow.keras.models import Sequential\n",
        "from tensorflow.keras.layers import Dense\n",
        "input = tf.keras.Input(shape=input_shape)\n",
        "hidden1 = Dense(1024, activation='relu')(input)\n",
        "output = Dense(10, activation='softmax')(hidden1)\n",
        "\n",
        "MLP1 = tf.keras.Model(input, output)\n",
        "MLP1.summary()\n",
        "Hidden=tf.keras.Model(input,hidden1)\n",
        "loss = tf.keras.losses.CategoricalCrossentropy()\n"
      ],
      "metadata": {
        "id": "qTuMhQZvEecB",
        "colab": {
          "base_uri": "https://localhost:8080/"
        },
        "outputId": "64578444-b893-4c45-a6cf-096dd4bc20de"
      },
      "execution_count": null,
      "outputs": [
        {
          "output_type": "stream",
          "name": "stdout",
          "text": [
            "Model: \"model\"\n",
            "_________________________________________________________________\n",
            " Layer (type)                Output Shape              Param #   \n",
            "=================================================================\n",
            " input_1 (InputLayer)        [(None, 1024)]            0         \n",
            "                                                                 \n",
            " dense (Dense)               (None, 1024)              1049600   \n",
            "                                                                 \n",
            " dense_1 (Dense)             (None, 10)                10250     \n",
            "                                                                 \n",
            "=================================================================\n",
            "Total params: 1,059,850\n",
            "Trainable params: 1,059,850\n",
            "Non-trainable params: 0\n",
            "_________________________________________________________________\n"
          ]
        }
      ]
    },
    {
      "cell_type": "code",
      "source": [
        ""
      ],
      "metadata": {
        "id": "xbUXbH36GETs"
      },
      "execution_count": null,
      "outputs": []
    },
    {
      "cell_type": "code",
      "source": [
        "import time\n",
        "MLP1.compile(loss=loss, optimizer='adam', metrics=['accuracy'])\n",
        "time1=time.time()\n",
        "history=MLP1.fit(Xtrain, Y_train, epochs=50, batch_size=1000, verbose=1, validation_data=(Xtest,Y_test))\n",
        "time2=time.time()-time1"
      ],
      "metadata": {
        "colab": {
          "base_uri": "https://localhost:8080/"
        },
        "id": "hNDtcEqQExgq",
        "outputId": "c8d3a3d4-ab96-4d1a-b0fc-9a4d5af04d17"
      },
      "execution_count": null,
      "outputs": [
        {
          "output_type": "stream",
          "name": "stdout",
          "text": [
            "Epoch 1/5\n",
            "50/50 [==============================] - 8s 145ms/step - loss: 2.1347 - accuracy: 0.2058 - val_loss: 2.1010 - val_accuracy: 0.2140\n",
            "Epoch 2/5\n",
            "50/50 [==============================] - 5s 103ms/step - loss: 2.0814 - accuracy: 0.2241 - val_loss: 2.1077 - val_accuracy: 0.2081\n",
            "Epoch 3/5\n",
            "50/50 [==============================] - 5s 99ms/step - loss: 2.0769 - accuracy: 0.2265 - val_loss: 2.1021 - val_accuracy: 0.2186\n",
            "Epoch 4/5\n",
            "50/50 [==============================] - 5s 100ms/step - loss: 2.0759 - accuracy: 0.2240 - val_loss: 2.0954 - val_accuracy: 0.2139\n",
            "Epoch 5/5\n",
            "50/50 [==============================] - 5s 99ms/step - loss: 2.0713 - accuracy: 0.2240 - val_loss: 2.0928 - val_accuracy: 0.2144\n"
          ]
        }
      ]
    },
    {
      "cell_type": "code",
      "source": [
        "time2"
      ],
      "metadata": {
        "colab": {
          "base_uri": "https://localhost:8080/"
        },
        "id": "e8nwZe4vh4px",
        "outputId": "772f22b3-4f1b-41b2-8864-ab46243cb155"
      },
      "execution_count": null,
      "outputs": [
        {
          "output_type": "execute_result",
          "data": {
            "text/plain": [
              "41.66899514198303"
            ]
          },
          "metadata": {},
          "execution_count": 14
        }
      ]
    },
    {
      "cell_type": "code",
      "source": [
        "print(history.history.keys())\n",
        "\n",
        "plt.plot(history.history['accuracy'])\n",
        "plt.plot(history.history['val_accuracy'])\n",
        "plt.title('model accuracy')\n",
        "plt.ylabel('accuracy')\n",
        "plt.xlabel('epoch')\n",
        "plt.legend(['train', 'test'], loc='upper left')\n",
        "\n",
        "plt.show()\n",
        "\n",
        "plt.plot(range(30,50),history.history['loss'][30:50])\n",
        "plt.plot(range(30,50),history.history['val_loss'][30:50])\n",
        "plt.title('loss function')\n",
        "plt.ylabel('loss function')\n",
        "plt.xlabel('epoch')\n",
        "plt.legend(['train', 'test'], loc='upper left')\n",
        "plt.show()\n",
        "\n",
        "plt.plot(np.exp(-1*np.array(history.history['loss'])))\n",
        "plt.plot(np.exp(-1*np.array(history.history['val_loss'])))\n",
        "plt.title('transfered probability')\n",
        "plt.ylabel('transfered probability')\n",
        "plt.xlabel('epoch')\n",
        "plt.legend(['train', 'test'], loc='upper left')\n",
        "plt.show()\n",
        "\n",
        "\n"
      ],
      "metadata": {
        "colab": {
          "base_uri": "https://localhost:8080/",
          "height": 928
        },
        "id": "Wcam6ppF0TR6",
        "outputId": "25fbe254-94e3-468a-9c85-584c04fff59a"
      },
      "execution_count": null,
      "outputs": [
        {
          "output_type": "stream",
          "name": "stdout",
          "text": [
            "dict_keys(['loss', 'accuracy', 'val_loss', 'val_accuracy'])\n"
          ]
        },
        {
          "output_type": "display_data",
          "data": {
            "text/plain": [
              "<Figure size 432x288 with 1 Axes>"
            ],
            "image/png": "[encoded data removed]"
          },
          "metadata": {
            "needs_background": "light"
          }
        },
        {
          "output_type": "error",
          "ename": "ValueError",
          "evalue": "ignored",
          "traceback": [
            "\u001b[0;31m---------------------------------------------------------------------------\u001b[0m",
            "\u001b[0;31mValueError\u001b[0m                                Traceback (most recent call last)",
            "\u001b[0;32m<ipython-input-15-ad78f69cd26b>\u001b[0m in \u001b[0;36m<module>\u001b[0;34m()\u001b[0m\n\u001b[1;32m     10\u001b[0m \u001b[0mplt\u001b[0m\u001b[0;34m.\u001b[0m\u001b[0mshow\u001b[0m\u001b[0;34m(\u001b[0m\u001b[0;34m)\u001b[0m\u001b[0;34m\u001b[0m\u001b[0;34m\u001b[0m\u001b[0m\n\u001b[1;32m     11\u001b[0m \u001b[0;34m\u001b[0m\u001b[0m\n\u001b[0;32m---> 12\u001b[0;31m \u001b[0mplt\u001b[0m\u001b[0;34m.\u001b[0m\u001b[0mplot\u001b[0m\u001b[0;34m(\u001b[0m\u001b[0mrange\u001b[0m\u001b[0;34m(\u001b[0m\u001b[0;36m30\u001b[0m\u001b[0;34m,\u001b[0m\u001b[0;36m50\u001b[0m\u001b[0;34m)\u001b[0m\u001b[0;34m,\u001b[0m\u001b[0mhistory\u001b[0m\u001b[0;34m.\u001b[0m\u001b[0mhistory\u001b[0m\u001b[0;34m[\u001b[0m\u001b[0;34m'loss'\u001b[0m\u001b[0;34m]\u001b[0m\u001b[0;34m[\u001b[0m\u001b[0;36m30\u001b[0m\u001b[0;34m:\u001b[0m\u001b[0;36m50\u001b[0m\u001b[0;34m]\u001b[0m\u001b[0;34m)\u001b[0m\u001b[0;34m\u001b[0m\u001b[0;34m\u001b[0m\u001b[0m\n\u001b[0m\u001b[1;32m     13\u001b[0m \u001b[0mplt\u001b[0m\u001b[0;34m.\u001b[0m\u001b[0mplot\u001b[0m\u001b[0;34m(\u001b[0m\u001b[0mrange\u001b[0m\u001b[0;34m(\u001b[0m\u001b[0;36m30\u001b[0m\u001b[0;34m,\u001b[0m\u001b[0;36m50\u001b[0m\u001b[0;34m)\u001b[0m\u001b[0;34m,\u001b[0m\u001b[0mhistory\u001b[0m\u001b[0;34m.\u001b[0m\u001b[0mhistory\u001b[0m\u001b[0;34m[\u001b[0m\u001b[0;34m'val_loss'\u001b[0m\u001b[0;34m]\u001b[0m\u001b[0;34m[\u001b[0m\u001b[0;36m30\u001b[0m\u001b[0;34m:\u001b[0m\u001b[0;36m50\u001b[0m\u001b[0;34m]\u001b[0m\u001b[0;34m)\u001b[0m\u001b[0;34m\u001b[0m\u001b[0;34m\u001b[0m\u001b[0m\n\u001b[1;32m     14\u001b[0m \u001b[0mplt\u001b[0m\u001b[0;34m.\u001b[0m\u001b[0mtitle\u001b[0m\u001b[0;34m(\u001b[0m\u001b[0;34m'loss function'\u001b[0m\u001b[0;34m)\u001b[0m\u001b[0;34m\u001b[0m\u001b[0;34m\u001b[0m\u001b[0m\n",
            "\u001b[0;32m/usr/local/lib/python3.7/dist-packages/matplotlib/pyplot.py\u001b[0m in \u001b[0;36mplot\u001b[0;34m(scalex, scaley, data, *args, **kwargs)\u001b[0m\n\u001b[1;32m   2761\u001b[0m     return gca().plot(\n\u001b[1;32m   2762\u001b[0m         *args, scalex=scalex, scaley=scaley, **({\"data\": data} if data\n\u001b[0;32m-> 2763\u001b[0;31m         is not None else {}), **kwargs)\n\u001b[0m\u001b[1;32m   2764\u001b[0m \u001b[0;34m\u001b[0m\u001b[0m\n\u001b[1;32m   2765\u001b[0m \u001b[0;34m\u001b[0m\u001b[0m\n",
            "\u001b[0;32m/usr/local/lib/python3.7/dist-packages/matplotlib/axes/_axes.py\u001b[0m in \u001b[0;36mplot\u001b[0;34m(self, scalex, scaley, data, *args, **kwargs)\u001b[0m\n\u001b[1;32m   1645\u001b[0m         \"\"\"\n\u001b[1;32m   1646\u001b[0m         \u001b[0mkwargs\u001b[0m \u001b[0;34m=\u001b[0m \u001b[0mcbook\u001b[0m\u001b[0;34m.\u001b[0m\u001b[0mnormalize_kwargs\u001b[0m\u001b[0;34m(\u001b[0m\u001b[0mkwargs\u001b[0m\u001b[0;34m,\u001b[0m \u001b[0mmlines\u001b[0m\u001b[0;34m.\u001b[0m\u001b[0mLine2D\u001b[0m\u001b[0;34m)\u001b[0m\u001b[0;34m\u001b[0m\u001b[0;34m\u001b[0m\u001b[0m\n\u001b[0;32m-> 1647\u001b[0;31m         \u001b[0mlines\u001b[0m \u001b[0;34m=\u001b[0m \u001b[0;34m[\u001b[0m\u001b[0;34m*\u001b[0m\u001b[0mself\u001b[0m\u001b[0;34m.\u001b[0m\u001b[0m_get_lines\u001b[0m\u001b[0;34m(\u001b[0m\u001b[0;34m*\u001b[0m\u001b[0margs\u001b[0m\u001b[0;34m,\u001b[0m \u001b[0mdata\u001b[0m\u001b[0;34m=\u001b[0m\u001b[0mdata\u001b[0m\u001b[0;34m,\u001b[0m \u001b[0;34m**\u001b[0m\u001b[0mkwargs\u001b[0m\u001b[0;34m)\u001b[0m\u001b[0;34m]\u001b[0m\u001b[0;34m\u001b[0m\u001b[0;34m\u001b[0m\u001b[0m\n\u001b[0m\u001b[1;32m   1648\u001b[0m         \u001b[0;32mfor\u001b[0m \u001b[0mline\u001b[0m \u001b[0;32min\u001b[0m \u001b[0mlines\u001b[0m\u001b[0;34m:\u001b[0m\u001b[0;34m\u001b[0m\u001b[0;34m\u001b[0m\u001b[0m\n\u001b[1;32m   1649\u001b[0m             \u001b[0mself\u001b[0m\u001b[0;34m.\u001b[0m\u001b[0madd_line\u001b[0m\u001b[0;34m(\u001b[0m\u001b[0mline\u001b[0m\u001b[0;34m)\u001b[0m\u001b[0;34m\u001b[0m\u001b[0;34m\u001b[0m\u001b[0m\n",
            "\u001b[0;32m/usr/local/lib/python3.7/dist-packages/matplotlib/axes/_base.py\u001b[0m in \u001b[0;36m__call__\u001b[0;34m(self, *args, **kwargs)\u001b[0m\n\u001b[1;32m    214\u001b[0m                 \u001b[0mthis\u001b[0m \u001b[0;34m+=\u001b[0m \u001b[0margs\u001b[0m\u001b[0;34m[\u001b[0m\u001b[0;36m0\u001b[0m\u001b[0;34m]\u001b[0m\u001b[0;34m,\u001b[0m\u001b[0;34m\u001b[0m\u001b[0;34m\u001b[0m\u001b[0m\n\u001b[1;32m    215\u001b[0m                 \u001b[0margs\u001b[0m \u001b[0;34m=\u001b[0m \u001b[0margs\u001b[0m\u001b[0;34m[\u001b[0m\u001b[0;36m1\u001b[0m\u001b[0;34m:\u001b[0m\u001b[0;34m]\u001b[0m\u001b[0;34m\u001b[0m\u001b[0;34m\u001b[0m\u001b[0m\n\u001b[0;32m--> 216\u001b[0;31m             \u001b[0;32myield\u001b[0m \u001b[0;32mfrom\u001b[0m \u001b[0mself\u001b[0m\u001b[0;34m.\u001b[0m\u001b[0m_plot_args\u001b[0m\u001b[0;34m(\u001b[0m\u001b[0mthis\u001b[0m\u001b[0;34m,\u001b[0m \u001b[0mkwargs\u001b[0m\u001b[0;34m)\u001b[0m\u001b[0;34m\u001b[0m\u001b[0;34m\u001b[0m\u001b[0m\n\u001b[0m\u001b[1;32m    217\u001b[0m \u001b[0;34m\u001b[0m\u001b[0m\n\u001b[1;32m    218\u001b[0m     \u001b[0;32mdef\u001b[0m \u001b[0mget_next_color\u001b[0m\u001b[0;34m(\u001b[0m\u001b[0mself\u001b[0m\u001b[0;34m)\u001b[0m\u001b[0;34m:\u001b[0m\u001b[0;34m\u001b[0m\u001b[0;34m\u001b[0m\u001b[0m\n",
            "\u001b[0;32m/usr/local/lib/python3.7/dist-packages/matplotlib/axes/_base.py\u001b[0m in \u001b[0;36m_plot_args\u001b[0;34m(self, tup, kwargs)\u001b[0m\n\u001b[1;32m    340\u001b[0m \u001b[0;34m\u001b[0m\u001b[0m\n\u001b[1;32m    341\u001b[0m         \u001b[0;32mif\u001b[0m \u001b[0mx\u001b[0m\u001b[0;34m.\u001b[0m\u001b[0mshape\u001b[0m\u001b[0;34m[\u001b[0m\u001b[0;36m0\u001b[0m\u001b[0;34m]\u001b[0m \u001b[0;34m!=\u001b[0m \u001b[0my\u001b[0m\u001b[0;34m.\u001b[0m\u001b[0mshape\u001b[0m\u001b[0;34m[\u001b[0m\u001b[0;36m0\u001b[0m\u001b[0;34m]\u001b[0m\u001b[0;34m:\u001b[0m\u001b[0;34m\u001b[0m\u001b[0;34m\u001b[0m\u001b[0m\n\u001b[0;32m--> 342\u001b[0;31m             raise ValueError(f\"x and y must have same first dimension, but \"\n\u001b[0m\u001b[1;32m    343\u001b[0m                              f\"have shapes {x.shape} and {y.shape}\")\n\u001b[1;32m    344\u001b[0m         \u001b[0;32mif\u001b[0m \u001b[0mx\u001b[0m\u001b[0;34m.\u001b[0m\u001b[0mndim\u001b[0m \u001b[0;34m>\u001b[0m \u001b[0;36m2\u001b[0m \u001b[0;32mor\u001b[0m \u001b[0my\u001b[0m\u001b[0;34m.\u001b[0m\u001b[0mndim\u001b[0m \u001b[0;34m>\u001b[0m \u001b[0;36m2\u001b[0m\u001b[0;34m:\u001b[0m\u001b[0;34m\u001b[0m\u001b[0;34m\u001b[0m\u001b[0m\n",
            "\u001b[0;31mValueError\u001b[0m: x and y must have same first dimension, but have shapes (20,) and (0,)"
          ]
        },
        {
          "output_type": "display_data",
          "data": {
            "text/plain": [
              "<Figure size 432x288 with 1 Axes>"
            ],
            "image/png": "[encoded data removed]"
          },
          "metadata": {
            "needs_background": "light"
          }
        }
      ]
    },
    {
      "cell_type": "code",
      "source": [
        "history.history['accuracy']"
      ],
      "metadata": {
        "id": "zTukBzuM6zAB"
      },
      "execution_count": null,
      "outputs": []
    },
    {
      "cell_type": "code",
      "source": [
        ""
      ],
      "metadata": {
        "id": "FfNhJQhWJaBE"
      },
      "execution_count": null,
      "outputs": []
    },
    {
      "cell_type": "code",
      "source": [
        "for i in range(10):\n",
        "  logits= MLP1(Xtrain[L[i]])\n",
        "  lossvalue=loss(logits,Y_train[L[i]])\n",
        "  print(np.exp(-lossvalue.numpy()))\n"
      ],
      "metadata": {
        "colab": {
          "base_uri": "https://localhost:8080/"
        },
        "id": "bOpwoqZl0n3T",
        "outputId": "58d26427-6305-4bc3-c6e3-4243389df20f"
      },
      "execution_count": null,
      "outputs": [
        {
          "output_type": "stream",
          "name": "stdout",
          "text": [
            "1.8231657e-06\n",
            "1.4127006e-05\n",
            "1.39994e-06\n",
            "2.0848863e-06\n",
            "1.1034334e-06\n",
            "3.0219303e-06\n",
            "1.6350592e-06\n",
            "3.6697413e-06\n",
            "5.96523e-06\n",
            "8.8995575e-06\n"
          ]
        }
      ]
    },
    {
      "cell_type": "code",
      "source": [
        "Y_train[L[0]]\n",
        "logits= MLP1(Xtrain[L[0]])\n",
        "print(logits.numpy())"
      ],
      "metadata": {
        "colab": {
          "base_uri": "https://localhost:8080/"
        },
        "id": "zkgbqJM26ghL",
        "outputId": "faac2d69-f11d-4089-9550-65c93bcd47b9"
      },
      "execution_count": null,
      "outputs": [
        {
          "output_type": "stream",
          "name": "stdout",
          "text": [
            "[[0.03077665 0.43386513 0.0112376  ... 0.04473832 0.06940825 0.21727367]\n",
            " [0.06783165 0.03110566 0.11659723 ... 0.07755457 0.06795204 0.02056724]\n",
            " [0.14093886 0.06988662 0.1274615  ... 0.12761945 0.09421172 0.0775971 ]\n",
            " ...\n",
            " [0.12747678 0.05315659 0.15630104 ... 0.13230416 0.05712352 0.05038005]\n",
            " [0.14608578 0.08210769 0.10601319 ... 0.11985028 0.13040595 0.10222478]\n",
            " [0.13035794 0.09481484 0.10069828 ... 0.12048421 0.10746454 0.10020209]]\n"
          ]
        }
      ]
    },
    {
      "cell_type": "code",
      "source": [
        "from sklearn.preprocessing import StandardScaler\n",
        "scaler = StandardScaler()\n",
        "scaler.fit(Xtrain)\n",
        "Xtrain=scaler.transform(Xtrain)\n",
        "scaler.fit(Xtest)\n",
        "Xtest=scaler.transform(Xtest)\n",
        "\n",
        "from numpy import linalg as LA\n",
        "from numpy import mean\n",
        "Xnorm=LA.norm(Xtrain, axis=1)\n",
        "print(Xnorm)\n",
        "Xnorm=mean(Xnorm)\n",
        "Xnorm\n",
        "\n",
        "\n",
        "from sklearn.decomposition import PCA\n",
        "pca = PCA(n_components=0.99, svd_solver='full')\n",
        "X=pca.fit_transform(Xtrain,)\n",
        "print(X.shape)\n",
        "X_ori=pca.inverse_transform(X)\n",
        "X_ori\n"
      ],
      "metadata": {
        "colab": {
          "base_uri": "https://localhost:8080/"
        },
        "id": "XqUZkR8HBH_-",
        "outputId": "2daed26c-57ab-4388-90a2-80f15ef89d29"
      },
      "execution_count": null,
      "outputs": [
        {
          "output_type": "stream",
          "name": "stdout",
          "text": [
            "[24.024992 32.364025 39.931084 ... 35.891026 36.117348 28.17051 ]\n",
            "(50000, 438)\n"
          ]
        },
        {
          "output_type": "execute_result",
          "data": {
            "text/plain": [
              "array([[-1.160528  , -1.2812915 , -1.2567952 , ...,  0.68083525,\n",
              "         0.22880678, -0.33339313],\n",
              "       [ 0.32610348,  0.0608338 , -0.26928803, ...,  0.33002496,\n",
              "         0.39525923,  0.4197632 ],\n",
              "       [ 1.6348237 ,  1.6344247 ,  1.6278718 , ..., -0.7083146 ,\n",
              "        -0.69389385, -0.7024459 ],\n",
              "       ...,\n",
              "       [ 0.12626909,  0.06553104,  0.11837747, ..., -1.2853109 ,\n",
              "        -1.450967  , -1.5555464 ],\n",
              "       [ 1.0253321 ,  1.0150337 ,  0.9952373 , ...,  1.0442867 ,\n",
              "         0.91656226,  0.8154459 ],\n",
              "       [ 1.3117199 ,  1.4263111 ,  1.4455717 , ...,  0.7251121 ,\n",
              "         0.72977805,  0.74263066]], dtype=float32)"
            ]
          },
          "metadata": {},
          "execution_count": 17
        }
      ]
    },
    {
      "cell_type": "code",
      "source": [
        "plt.plot(X[l1,1],X[l1,2], 'r.',X[l2,1],X[l2,2],'b*', X[l3,1],X[l3,2],'go')"
      ],
      "metadata": {
        "colab": {
          "base_uri": "https://localhost:8080/",
          "height": 1000
        },
        "id": "fd6jDdDEbxAH",
        "outputId": "48d87af4-574b-4087-d8e9-626b277386db"
      },
      "execution_count": null,
      "outputs": [
        {
          "output_type": "execute_result",
          "data": {
            "text/plain": [
              "[<matplotlib.lines.Line2D at 0x7ff31623e090>,\n",
              " <matplotlib.lines.Line2D at 0x7ff3161e6fd0>,\n",
              " <matplotlib.lines.Line2D at 0x7ff3161e6e90>,\n",
              " <matplotlib.lines.Line2D at 0x7ff3161f5390>,\n",
              " <matplotlib.lines.Line2D at 0x7ff3161f5550>,\n",
              " <matplotlib.lines.Line2D at 0x7ff3161f54d0>,\n",
              " <matplotlib.lines.Line2D at 0x7ff3161f5910>,\n",
              " <matplotlib.lines.Line2D at 0x7ff3161f5ad0>,\n",
              " <matplotlib.lines.Line2D at 0x7ff3161f5c90>,\n",
              " <matplotlib.lines.Line2D at 0x7ff3161f5710>,\n",
              " <matplotlib.lines.Line2D at 0x7ff3161f5fd0>,\n",
              " <matplotlib.lines.Line2D at 0x7ff3161f5f50>,\n",
              " <matplotlib.lines.Line2D at 0x7ff3161f9390>,\n",
              " <matplotlib.lines.Line2D at 0x7ff3161f9550>,\n",
              " <matplotlib.lines.Line2D at 0x7ff3161f9710>,\n",
              " <matplotlib.lines.Line2D at 0x7ff3161f98d0>,\n",
              " <matplotlib.lines.Line2D at 0x7ff3161f9a90>,\n",
              " <matplotlib.lines.Line2D at 0x7ff3161f9c50>,\n",
              " <matplotlib.lines.Line2D at 0x7ff3161f9e10>,\n",
              " <matplotlib.lines.Line2D at 0x7ff3161f9fd0>,\n",
              " <matplotlib.lines.Line2D at 0x7ff3161f9f50>,\n",
              " <matplotlib.lines.Line2D at 0x7ff3161fc390>,\n",
              " <matplotlib.lines.Line2D at 0x7ff3161fc550>,\n",
              " <matplotlib.lines.Line2D at 0x7ff3161fc710>,\n",
              " <matplotlib.lines.Line2D at 0x7ff3161fc8d0>,\n",
              " <matplotlib.lines.Line2D at 0x7ff3161fca90>,\n",
              " <matplotlib.lines.Line2D at 0x7ff3161fcc50>,\n",
              " <matplotlib.lines.Line2D at 0x7ff3161fce10>,\n",
              " <matplotlib.lines.Line2D at 0x7ff3161fcfd0>,\n",
              " <matplotlib.lines.Line2D at 0x7ff3161fcf50>,\n",
              " <matplotlib.lines.Line2D at 0x7ff316200390>,\n",
              " <matplotlib.lines.Line2D at 0x7ff316200550>,\n",
              " <matplotlib.lines.Line2D at 0x7ff316200710>,\n",
              " <matplotlib.lines.Line2D at 0x7ff3162008d0>,\n",
              " <matplotlib.lines.Line2D at 0x7ff316200a90>,\n",
              " <matplotlib.lines.Line2D at 0x7ff316200c50>,\n",
              " <matplotlib.lines.Line2D at 0x7ff316200e10>,\n",
              " <matplotlib.lines.Line2D at 0x7ff316200fd0>,\n",
              " <matplotlib.lines.Line2D at 0x7ff316200f50>,\n",
              " <matplotlib.lines.Line2D at 0x7ff316185390>,\n",
              " <matplotlib.lines.Line2D at 0x7ff316185550>,\n",
              " <matplotlib.lines.Line2D at 0x7ff316185710>,\n",
              " <matplotlib.lines.Line2D at 0x7ff3161858d0>,\n",
              " <matplotlib.lines.Line2D at 0x7ff316185a90>,\n",
              " <matplotlib.lines.Line2D at 0x7ff316185c50>,\n",
              " <matplotlib.lines.Line2D at 0x7ff316185e10>,\n",
              " <matplotlib.lines.Line2D at 0x7ff316185fd0>,\n",
              " <matplotlib.lines.Line2D at 0x7ff316185f50>,\n",
              " <matplotlib.lines.Line2D at 0x7ff316189390>,\n",
              " <matplotlib.lines.Line2D at 0x7ff316189550>,\n",
              " <matplotlib.lines.Line2D at 0x7ff316189710>,\n",
              " <matplotlib.lines.Line2D at 0x7ff3161898d0>,\n",
              " <matplotlib.lines.Line2D at 0x7ff316189a90>,\n",
              " <matplotlib.lines.Line2D at 0x7ff316189c50>,\n",
              " <matplotlib.lines.Line2D at 0x7ff316189e10>,\n",
              " <matplotlib.lines.Line2D at 0x7ff316189fd0>,\n",
              " <matplotlib.lines.Line2D at 0x7ff316189f50>,\n",
              " <matplotlib.lines.Line2D at 0x7ff31618e390>,\n",
              " <matplotlib.lines.Line2D at 0x7ff31618e550>,\n",
              " <matplotlib.lines.Line2D at 0x7ff31618e710>,\n",
              " <matplotlib.lines.Line2D at 0x7ff31618e8d0>,\n",
              " <matplotlib.lines.Line2D at 0x7ff31618ea90>,\n",
              " <matplotlib.lines.Line2D at 0x7ff31618ec50>,\n",
              " <matplotlib.lines.Line2D at 0x7ff31618ee10>,\n",
              " <matplotlib.lines.Line2D at 0x7ff31618efd0>,\n",
              " <matplotlib.lines.Line2D at 0x7ff31618ef50>,\n",
              " <matplotlib.lines.Line2D at 0x7ff316191390>,\n",
              " <matplotlib.lines.Line2D at 0x7ff316191550>,\n",
              " <matplotlib.lines.Line2D at 0x7ff316191710>,\n",
              " <matplotlib.lines.Line2D at 0x7ff3161918d0>,\n",
              " <matplotlib.lines.Line2D at 0x7ff316191a90>,\n",
              " <matplotlib.lines.Line2D at 0x7ff316191c50>,\n",
              " <matplotlib.lines.Line2D at 0x7ff316191e10>,\n",
              " <matplotlib.lines.Line2D at 0x7ff316191fd0>,\n",
              " <matplotlib.lines.Line2D at 0x7ff316191f50>,\n",
              " <matplotlib.lines.Line2D at 0x7ff316196390>,\n",
              " <matplotlib.lines.Line2D at 0x7ff316196550>,\n",
              " <matplotlib.lines.Line2D at 0x7ff316196710>,\n",
              " <matplotlib.lines.Line2D at 0x7ff3161968d0>,\n",
              " <matplotlib.lines.Line2D at 0x7ff316196a90>,\n",
              " <matplotlib.lines.Line2D at 0x7ff316196c50>,\n",
              " <matplotlib.lines.Line2D at 0x7ff316196e10>,\n",
              " <matplotlib.lines.Line2D at 0x7ff316196fd0>,\n",
              " <matplotlib.lines.Line2D at 0x7ff316196f50>,\n",
              " <matplotlib.lines.Line2D at 0x7ff31619a390>,\n",
              " <matplotlib.lines.Line2D at 0x7ff31619a550>,\n",
              " <matplotlib.lines.Line2D at 0x7ff31619a710>,\n",
              " <matplotlib.lines.Line2D at 0x7ff31619a8d0>,\n",
              " <matplotlib.lines.Line2D at 0x7ff31619aa90>,\n",
              " <matplotlib.lines.Line2D at 0x7ff31619ac50>,\n",
              " <matplotlib.lines.Line2D at 0x7ff31619ae10>,\n",
              " <matplotlib.lines.Line2D at 0x7ff31619afd0>,\n",
              " <matplotlib.lines.Line2D at 0x7ff31619af50>,\n",
              " <matplotlib.lines.Line2D at 0x7ff3161a0390>,\n",
              " <matplotlib.lines.Line2D at 0x7ff3161a0550>,\n",
              " <matplotlib.lines.Line2D at 0x7ff3161a0710>,\n",
              " <matplotlib.lines.Line2D at 0x7ff3161a08d0>,\n",
              " <matplotlib.lines.Line2D at 0x7ff3161a0a90>,\n",
              " <matplotlib.lines.Line2D at 0x7ff3161a0c50>,\n",
              " <matplotlib.lines.Line2D at 0x7ff3161a0e10>,\n",
              " <matplotlib.lines.Line2D at 0x7ff3161a0fd0>,\n",
              " <matplotlib.lines.Line2D at 0x7ff3161a0f50>,\n",
              " <matplotlib.lines.Line2D at 0x7ff3161a4390>,\n",
              " <matplotlib.lines.Line2D at 0x7ff3161a4550>,\n",
              " <matplotlib.lines.Line2D at 0x7ff3161a4710>,\n",
              " <matplotlib.lines.Line2D at 0x7ff3161a48d0>,\n",
              " <matplotlib.lines.Line2D at 0x7ff3161a4a90>,\n",
              " <matplotlib.lines.Line2D at 0x7ff3161a4c50>,\n",
              " <matplotlib.lines.Line2D at 0x7ff3161a4e10>,\n",
              " <matplotlib.lines.Line2D at 0x7ff3161a4fd0>,\n",
              " <matplotlib.lines.Line2D at 0x7ff3161a4f50>,\n",
              " <matplotlib.lines.Line2D at 0x7ff3161a9390>,\n",
              " <matplotlib.lines.Line2D at 0x7ff3161a9550>,\n",
              " <matplotlib.lines.Line2D at 0x7ff3161a9710>,\n",
              " <matplotlib.lines.Line2D at 0x7ff3161a98d0>,\n",
              " <matplotlib.lines.Line2D at 0x7ff3161a9a90>,\n",
              " <matplotlib.lines.Line2D at 0x7ff3161a9c50>,\n",
              " <matplotlib.lines.Line2D at 0x7ff3161a9e10>,\n",
              " <matplotlib.lines.Line2D at 0x7ff3161a9fd0>,\n",
              " <matplotlib.lines.Line2D at 0x7ff3161a9f50>,\n",
              " <matplotlib.lines.Line2D at 0x7ff3161ad390>,\n",
              " <matplotlib.lines.Line2D at 0x7ff3161ad550>,\n",
              " <matplotlib.lines.Line2D at 0x7ff3161ad710>,\n",
              " <matplotlib.lines.Line2D at 0x7ff3161ad8d0>,\n",
              " <matplotlib.lines.Line2D at 0x7ff3161ada90>,\n",
              " <matplotlib.lines.Line2D at 0x7ff3161adc50>,\n",
              " <matplotlib.lines.Line2D at 0x7ff3161ade10>,\n",
              " <matplotlib.lines.Line2D at 0x7ff3161adfd0>,\n",
              " <matplotlib.lines.Line2D at 0x7ff3161adf50>,\n",
              " <matplotlib.lines.Line2D at 0x7ff3161b1390>,\n",
              " <matplotlib.lines.Line2D at 0x7ff3161b1550>,\n",
              " <matplotlib.lines.Line2D at 0x7ff3161b1710>,\n",
              " <matplotlib.lines.Line2D at 0x7ff3161b18d0>,\n",
              " <matplotlib.lines.Line2D at 0x7ff3161b1a90>,\n",
              " <matplotlib.lines.Line2D at 0x7ff3161b1c50>,\n",
              " <matplotlib.lines.Line2D at 0x7ff3161b1e10>,\n",
              " <matplotlib.lines.Line2D at 0x7ff3161b1fd0>,\n",
              " <matplotlib.lines.Line2D at 0x7ff3161b1f50>,\n",
              " <matplotlib.lines.Line2D at 0x7ff3161b6390>,\n",
              " <matplotlib.lines.Line2D at 0x7ff3161b6550>,\n",
              " <matplotlib.lines.Line2D at 0x7ff3161b6710>,\n",
              " <matplotlib.lines.Line2D at 0x7ff3161b68d0>,\n",
              " <matplotlib.lines.Line2D at 0x7ff3161b6a90>,\n",
              " <matplotlib.lines.Line2D at 0x7ff3161b6c50>,\n",
              " <matplotlib.lines.Line2D at 0x7ff3161b6e10>,\n",
              " <matplotlib.lines.Line2D at 0x7ff3161b6fd0>,\n",
              " <matplotlib.lines.Line2D at 0x7ff3161b6f50>,\n",
              " <matplotlib.lines.Line2D at 0x7ff3161bb390>,\n",
              " <matplotlib.lines.Line2D at 0x7ff3161bb550>,\n",
              " <matplotlib.lines.Line2D at 0x7ff3161bb710>,\n",
              " <matplotlib.lines.Line2D at 0x7ff3161bb8d0>,\n",
              " <matplotlib.lines.Line2D at 0x7ff3161bba90>,\n",
              " <matplotlib.lines.Line2D at 0x7ff3161bbc50>,\n",
              " <matplotlib.lines.Line2D at 0x7ff3161bbe10>,\n",
              " <matplotlib.lines.Line2D at 0x7ff3161bbfd0>,\n",
              " <matplotlib.lines.Line2D at 0x7ff3161bbf50>,\n",
              " <matplotlib.lines.Line2D at 0x7ff3161bf390>,\n",
              " <matplotlib.lines.Line2D at 0x7ff3161bf550>,\n",
              " <matplotlib.lines.Line2D at 0x7ff3161bf710>,\n",
              " <matplotlib.lines.Line2D at 0x7ff3161bf8d0>,\n",
              " <matplotlib.lines.Line2D at 0x7ff3161bfa90>,\n",
              " <matplotlib.lines.Line2D at 0x7ff3161bfc50>,\n",
              " <matplotlib.lines.Line2D at 0x7ff3161bfe10>,\n",
              " <matplotlib.lines.Line2D at 0x7ff3161bffd0>,\n",
              " <matplotlib.lines.Line2D at 0x7ff3161bff50>,\n",
              " <matplotlib.lines.Line2D at 0x7ff316143390>,\n",
              " <matplotlib.lines.Line2D at 0x7ff316143550>,\n",
              " <matplotlib.lines.Line2D at 0x7ff316143710>,\n",
              " <matplotlib.lines.Line2D at 0x7ff3161438d0>,\n",
              " <matplotlib.lines.Line2D at 0x7ff316143a90>,\n",
              " <matplotlib.lines.Line2D at 0x7ff316143c50>,\n",
              " <matplotlib.lines.Line2D at 0x7ff316143e10>,\n",
              " <matplotlib.lines.Line2D at 0x7ff316143fd0>,\n",
              " <matplotlib.lines.Line2D at 0x7ff316143f50>,\n",
              " <matplotlib.lines.Line2D at 0x7ff316147390>,\n",
              " <matplotlib.lines.Line2D at 0x7ff316147550>,\n",
              " <matplotlib.lines.Line2D at 0x7ff316147710>,\n",
              " <matplotlib.lines.Line2D at 0x7ff3161478d0>,\n",
              " <matplotlib.lines.Line2D at 0x7ff316147a90>,\n",
              " <matplotlib.lines.Line2D at 0x7ff316147c50>,\n",
              " <matplotlib.lines.Line2D at 0x7ff316147e10>,\n",
              " <matplotlib.lines.Line2D at 0x7ff316147fd0>,\n",
              " <matplotlib.lines.Line2D at 0x7ff316147f50>,\n",
              " <matplotlib.lines.Line2D at 0x7ff31614d390>,\n",
              " <matplotlib.lines.Line2D at 0x7ff31614d550>,\n",
              " <matplotlib.lines.Line2D at 0x7ff31614d710>,\n",
              " <matplotlib.lines.Line2D at 0x7ff31614d8d0>,\n",
              " <matplotlib.lines.Line2D at 0x7ff31614da90>,\n",
              " <matplotlib.lines.Line2D at 0x7ff31614dc50>,\n",
              " <matplotlib.lines.Line2D at 0x7ff31614de10>,\n",
              " <matplotlib.lines.Line2D at 0x7ff31614dfd0>,\n",
              " <matplotlib.lines.Line2D at 0x7ff31614df50>,\n",
              " <matplotlib.lines.Line2D at 0x7ff316151390>,\n",
              " <matplotlib.lines.Line2D at 0x7ff316151550>,\n",
              " <matplotlib.lines.Line2D at 0x7ff316151710>,\n",
              " <matplotlib.lines.Line2D at 0x7ff3161518d0>,\n",
              " <matplotlib.lines.Line2D at 0x7ff316151a90>,\n",
              " <matplotlib.lines.Line2D at 0x7ff316151c50>,\n",
              " <matplotlib.lines.Line2D at 0x7ff316151e10>,\n",
              " <matplotlib.lines.Line2D at 0x7ff316151fd0>,\n",
              " <matplotlib.lines.Line2D at 0x7ff316151f50>,\n",
              " <matplotlib.lines.Line2D at 0x7ff316156390>,\n",
              " <matplotlib.lines.Line2D at 0x7ff316156550>,\n",
              " <matplotlib.lines.Line2D at 0x7ff316156710>,\n",
              " <matplotlib.lines.Line2D at 0x7ff3161568d0>,\n",
              " <matplotlib.lines.Line2D at 0x7ff316156a90>,\n",
              " <matplotlib.lines.Line2D at 0x7ff316156c50>,\n",
              " <matplotlib.lines.Line2D at 0x7ff316156e10>,\n",
              " <matplotlib.lines.Line2D at 0x7ff316156fd0>,\n",
              " <matplotlib.lines.Line2D at 0x7ff316156f50>,\n",
              " <matplotlib.lines.Line2D at 0x7ff31615b390>,\n",
              " <matplotlib.lines.Line2D at 0x7ff31615b550>,\n",
              " <matplotlib.lines.Line2D at 0x7ff31615b710>,\n",
              " <matplotlib.lines.Line2D at 0x7ff31615b8d0>,\n",
              " <matplotlib.lines.Line2D at 0x7ff31615ba90>,\n",
              " <matplotlib.lines.Line2D at 0x7ff31615bc50>,\n",
              " <matplotlib.lines.Line2D at 0x7ff31615be10>,\n",
              " <matplotlib.lines.Line2D at 0x7ff31615bfd0>,\n",
              " <matplotlib.lines.Line2D at 0x7ff31615bf50>,\n",
              " <matplotlib.lines.Line2D at 0x7ff31615f390>,\n",
              " <matplotlib.lines.Line2D at 0x7ff31615f550>,\n",
              " <matplotlib.lines.Line2D at 0x7ff31615f710>,\n",
              " <matplotlib.lines.Line2D at 0x7ff31615f8d0>,\n",
              " <matplotlib.lines.Line2D at 0x7ff31615fa90>,\n",
              " <matplotlib.lines.Line2D at 0x7ff31615fc50>,\n",
              " <matplotlib.lines.Line2D at 0x7ff31615fe10>,\n",
              " <matplotlib.lines.Line2D at 0x7ff31615ffd0>,\n",
              " <matplotlib.lines.Line2D at 0x7ff31615ff50>,\n",
              " <matplotlib.lines.Line2D at 0x7ff316163390>,\n",
              " <matplotlib.lines.Line2D at 0x7ff316163550>,\n",
              " <matplotlib.lines.Line2D at 0x7ff316163710>,\n",
              " <matplotlib.lines.Line2D at 0x7ff3161638d0>,\n",
              " <matplotlib.lines.Line2D at 0x7ff316163a90>,\n",
              " <matplotlib.lines.Line2D at 0x7ff316163c50>,\n",
              " <matplotlib.lines.Line2D at 0x7ff316163e10>,\n",
              " <matplotlib.lines.Line2D at 0x7ff316163fd0>,\n",
              " <matplotlib.lines.Line2D at 0x7ff316163f50>,\n",
              " <matplotlib.lines.Line2D at 0x7ff316168390>,\n",
              " <matplotlib.lines.Line2D at 0x7ff316168550>,\n",
              " <matplotlib.lines.Line2D at 0x7ff316168710>,\n",
              " <matplotlib.lines.Line2D at 0x7ff3161688d0>,\n",
              " <matplotlib.lines.Line2D at 0x7ff316168a90>,\n",
              " <matplotlib.lines.Line2D at 0x7ff316168c50>,\n",
              " <matplotlib.lines.Line2D at 0x7ff316168e10>,\n",
              " <matplotlib.lines.Line2D at 0x7ff316168fd0>,\n",
              " <matplotlib.lines.Line2D at 0x7ff316168f50>,\n",
              " <matplotlib.lines.Line2D at 0x7ff31616b390>,\n",
              " <matplotlib.lines.Line2D at 0x7ff31616b550>,\n",
              " <matplotlib.lines.Line2D at 0x7ff31616b710>,\n",
              " <matplotlib.lines.Line2D at 0x7ff31616b8d0>,\n",
              " <matplotlib.lines.Line2D at 0x7ff31616ba90>,\n",
              " <matplotlib.lines.Line2D at 0x7ff31616bc50>,\n",
              " <matplotlib.lines.Line2D at 0x7ff31616be10>,\n",
              " <matplotlib.lines.Line2D at 0x7ff31616bfd0>,\n",
              " <matplotlib.lines.Line2D at 0x7ff31616bf50>,\n",
              " <matplotlib.lines.Line2D at 0x7ff316171390>,\n",
              " <matplotlib.lines.Line2D at 0x7ff316171550>,\n",
              " <matplotlib.lines.Line2D at 0x7ff316171710>,\n",
              " <matplotlib.lines.Line2D at 0x7ff3161718d0>,\n",
              " <matplotlib.lines.Line2D at 0x7ff316171a90>,\n",
              " <matplotlib.lines.Line2D at 0x7ff316171c50>,\n",
              " <matplotlib.lines.Line2D at 0x7ff316171e10>,\n",
              " <matplotlib.lines.Line2D at 0x7ff316171fd0>,\n",
              " <matplotlib.lines.Line2D at 0x7ff316171f50>,\n",
              " <matplotlib.lines.Line2D at 0x7ff316177390>,\n",
              " <matplotlib.lines.Line2D at 0x7ff316177550>,\n",
              " <matplotlib.lines.Line2D at 0x7ff316177710>,\n",
              " <matplotlib.lines.Line2D at 0x7ff3161778d0>,\n",
              " <matplotlib.lines.Line2D at 0x7ff316177a90>,\n",
              " <matplotlib.lines.Line2D at 0x7ff316177c50>,\n",
              " <matplotlib.lines.Line2D at 0x7ff316177e10>,\n",
              " <matplotlib.lines.Line2D at 0x7ff316177fd0>,\n",
              " <matplotlib.lines.Line2D at 0x7ff316177f50>,\n",
              " <matplotlib.lines.Line2D at 0x7ff31617a390>,\n",
              " <matplotlib.lines.Line2D at 0x7ff31617a550>,\n",
              " <matplotlib.lines.Line2D at 0x7ff31617a710>,\n",
              " <matplotlib.lines.Line2D at 0x7ff31617a8d0>,\n",
              " <matplotlib.lines.Line2D at 0x7ff31617aa90>,\n",
              " <matplotlib.lines.Line2D at 0x7ff31617ac50>,\n",
              " <matplotlib.lines.Line2D at 0x7ff31617ae10>,\n",
              " <matplotlib.lines.Line2D at 0x7ff31617afd0>,\n",
              " <matplotlib.lines.Line2D at 0x7ff31617af50>,\n",
              " <matplotlib.lines.Line2D at 0x7ff31617f390>,\n",
              " <matplotlib.lines.Line2D at 0x7ff31617f550>,\n",
              " <matplotlib.lines.Line2D at 0x7ff31617f710>,\n",
              " <matplotlib.lines.Line2D at 0x7ff31617f8d0>,\n",
              " <matplotlib.lines.Line2D at 0x7ff31617fa90>,\n",
              " <matplotlib.lines.Line2D at 0x7ff31617fc50>,\n",
              " <matplotlib.lines.Line2D at 0x7ff31617fe10>,\n",
              " <matplotlib.lines.Line2D at 0x7ff31617ffd0>,\n",
              " <matplotlib.lines.Line2D at 0x7ff31617ff50>,\n",
              " <matplotlib.lines.Line2D at 0x7ff316103390>,\n",
              " <matplotlib.lines.Line2D at 0x7ff316103550>,\n",
              " <matplotlib.lines.Line2D at 0x7ff316103710>,\n",
              " <matplotlib.lines.Line2D at 0x7ff3161038d0>,\n",
              " <matplotlib.lines.Line2D at 0x7ff316103a90>,\n",
              " <matplotlib.lines.Line2D at 0x7ff316103c50>,\n",
              " <matplotlib.lines.Line2D at 0x7ff316103e10>,\n",
              " <matplotlib.lines.Line2D at 0x7ff316103fd0>,\n",
              " <matplotlib.lines.Line2D at 0x7ff316103f50>,\n",
              " <matplotlib.lines.Line2D at 0x7ff316108390>,\n",
              " <matplotlib.lines.Line2D at 0x7ff316108550>,\n",
              " <matplotlib.lines.Line2D at 0x7ff316108710>,\n",
              " <matplotlib.lines.Line2D at 0x7ff3161088d0>,\n",
              " <matplotlib.lines.Line2D at 0x7ff316108a90>,\n",
              " <matplotlib.lines.Line2D at 0x7ff316108c50>,\n",
              " <matplotlib.lines.Line2D at 0x7ff316108e10>,\n",
              " <matplotlib.lines.Line2D at 0x7ff316108fd0>,\n",
              " <matplotlib.lines.Line2D at 0x7ff316108f50>,\n",
              " <matplotlib.lines.Line2D at 0x7ff31610d390>,\n",
              " <matplotlib.lines.Line2D at 0x7ff31610d550>,\n",
              " <matplotlib.lines.Line2D at 0x7ff31610d710>,\n",
              " <matplotlib.lines.Line2D at 0x7ff31610d8d0>,\n",
              " <matplotlib.lines.Line2D at 0x7ff31610da90>,\n",
              " <matplotlib.lines.Line2D at 0x7ff31610dc50>,\n",
              " <matplotlib.lines.Line2D at 0x7ff31610de10>,\n",
              " <matplotlib.lines.Line2D at 0x7ff31610dfd0>,\n",
              " <matplotlib.lines.Line2D at 0x7ff31610df50>,\n",
              " <matplotlib.lines.Line2D at 0x7ff316110390>,\n",
              " <matplotlib.lines.Line2D at 0x7ff316110550>,\n",
              " <matplotlib.lines.Line2D at 0x7ff316110710>,\n",
              " <matplotlib.lines.Line2D at 0x7ff3161108d0>,\n",
              " <matplotlib.lines.Line2D at 0x7ff316110a90>,\n",
              " <matplotlib.lines.Line2D at 0x7ff316110c50>,\n",
              " <matplotlib.lines.Line2D at 0x7ff316110e10>,\n",
              " <matplotlib.lines.Line2D at 0x7ff316110fd0>,\n",
              " <matplotlib.lines.Line2D at 0x7ff316110f50>,\n",
              " <matplotlib.lines.Line2D at 0x7ff316115390>,\n",
              " <matplotlib.lines.Line2D at 0x7ff316115550>,\n",
              " <matplotlib.lines.Line2D at 0x7ff316115710>,\n",
              " <matplotlib.lines.Line2D at 0x7ff3161158d0>,\n",
              " <matplotlib.lines.Line2D at 0x7ff316115a90>,\n",
              " <matplotlib.lines.Line2D at 0x7ff316115c50>,\n",
              " <matplotlib.lines.Line2D at 0x7ff316115e10>,\n",
              " <matplotlib.lines.Line2D at 0x7ff316115fd0>,\n",
              " <matplotlib.lines.Line2D at 0x7ff316115f50>,\n",
              " <matplotlib.lines.Line2D at 0x7ff31611a390>,\n",
              " <matplotlib.lines.Line2D at 0x7ff31611a550>,\n",
              " <matplotlib.lines.Line2D at 0x7ff31611a710>,\n",
              " <matplotlib.lines.Line2D at 0x7ff31611a8d0>,\n",
              " <matplotlib.lines.Line2D at 0x7ff31611aa90>,\n",
              " <matplotlib.lines.Line2D at 0x7ff31611ac50>,\n",
              " <matplotlib.lines.Line2D at 0x7ff31611ae10>,\n",
              " <matplotlib.lines.Line2D at 0x7ff31611afd0>,\n",
              " <matplotlib.lines.Line2D at 0x7ff31611af50>,\n",
              " <matplotlib.lines.Line2D at 0x7ff31611e390>,\n",
              " <matplotlib.lines.Line2D at 0x7ff31611e550>,\n",
              " <matplotlib.lines.Line2D at 0x7ff31611e710>,\n",
              " <matplotlib.lines.Line2D at 0x7ff31611e8d0>,\n",
              " <matplotlib.lines.Line2D at 0x7ff31611ea90>,\n",
              " <matplotlib.lines.Line2D at 0x7ff31611ec50>,\n",
              " <matplotlib.lines.Line2D at 0x7ff31611ee10>,\n",
              " <matplotlib.lines.Line2D at 0x7ff31611efd0>,\n",
              " <matplotlib.lines.Line2D at 0x7ff31611ef50>,\n",
              " <matplotlib.lines.Line2D at 0x7ff316124390>,\n",
              " <matplotlib.lines.Line2D at 0x7ff316124550>,\n",
              " <matplotlib.lines.Line2D at 0x7ff316124710>,\n",
              " <matplotlib.lines.Line2D at 0x7ff3161248d0>,\n",
              " <matplotlib.lines.Line2D at 0x7ff316124a90>,\n",
              " <matplotlib.lines.Line2D at 0x7ff316124c50>,\n",
              " <matplotlib.lines.Line2D at 0x7ff316124e10>,\n",
              " <matplotlib.lines.Line2D at 0x7ff316124fd0>,\n",
              " <matplotlib.lines.Line2D at 0x7ff316124f50>,\n",
              " <matplotlib.lines.Line2D at 0x7ff316129390>,\n",
              " <matplotlib.lines.Line2D at 0x7ff316129550>,\n",
              " <matplotlib.lines.Line2D at 0x7ff316129710>,\n",
              " <matplotlib.lines.Line2D at 0x7ff3161298d0>,\n",
              " <matplotlib.lines.Line2D at 0x7ff316129a90>,\n",
              " <matplotlib.lines.Line2D at 0x7ff316129c50>,\n",
              " <matplotlib.lines.Line2D at 0x7ff316129e10>,\n",
              " <matplotlib.lines.Line2D at 0x7ff316129fd0>,\n",
              " <matplotlib.lines.Line2D at 0x7ff316129f50>,\n",
              " <matplotlib.lines.Line2D at 0x7ff31612c390>,\n",
              " <matplotlib.lines.Line2D at 0x7ff31612c550>,\n",
              " <matplotlib.lines.Line2D at 0x7ff31612c710>,\n",
              " <matplotlib.lines.Line2D at 0x7ff31612c8d0>,\n",
              " <matplotlib.lines.Line2D at 0x7ff31612ca90>,\n",
              " <matplotlib.lines.Line2D at 0x7ff31612cc50>,\n",
              " <matplotlib.lines.Line2D at 0x7ff31612ce10>,\n",
              " <matplotlib.lines.Line2D at 0x7ff31612cfd0>,\n",
              " <matplotlib.lines.Line2D at 0x7ff31612cf50>,\n",
              " <matplotlib.lines.Line2D at 0x7ff316131390>,\n",
              " <matplotlib.lines.Line2D at 0x7ff316131550>,\n",
              " <matplotlib.lines.Line2D at 0x7ff316131710>,\n",
              " <matplotlib.lines.Line2D at 0x7ff3161318d0>,\n",
              " <matplotlib.lines.Line2D at 0x7ff316131a90>,\n",
              " <matplotlib.lines.Line2D at 0x7ff316131c50>,\n",
              " <matplotlib.lines.Line2D at 0x7ff316131e10>,\n",
              " <matplotlib.lines.Line2D at 0x7ff316131fd0>,\n",
              " <matplotlib.lines.Line2D at 0x7ff316131f50>,\n",
              " <matplotlib.lines.Line2D at 0x7ff316135390>,\n",
              " <matplotlib.lines.Line2D at 0x7ff316135550>,\n",
              " <matplotlib.lines.Line2D at 0x7ff316135710>,\n",
              " <matplotlib.lines.Line2D at 0x7ff3161358d0>,\n",
              " <matplotlib.lines.Line2D at 0x7ff316135a90>,\n",
              " <matplotlib.lines.Line2D at 0x7ff316135c50>,\n",
              " <matplotlib.lines.Line2D at 0x7ff316135e10>,\n",
              " <matplotlib.lines.Line2D at 0x7ff316135fd0>,\n",
              " <matplotlib.lines.Line2D at 0x7ff316135f50>,\n",
              " <matplotlib.lines.Line2D at 0x7ff316139390>,\n",
              " <matplotlib.lines.Line2D at 0x7ff316139550>,\n",
              " <matplotlib.lines.Line2D at 0x7ff316139710>,\n",
              " <matplotlib.lines.Line2D at 0x7ff3161398d0>,\n",
              " <matplotlib.lines.Line2D at 0x7ff316139a90>,\n",
              " <matplotlib.lines.Line2D at 0x7ff316139c50>,\n",
              " <matplotlib.lines.Line2D at 0x7ff316139e10>,\n",
              " <matplotlib.lines.Line2D at 0x7ff316139fd0>,\n",
              " <matplotlib.lines.Line2D at 0x7ff316139f50>,\n",
              " <matplotlib.lines.Line2D at 0x7ff31613f390>,\n",
              " <matplotlib.lines.Line2D at 0x7ff31613f550>,\n",
              " <matplotlib.lines.Line2D at 0x7ff31613f710>,\n",
              " <matplotlib.lines.Line2D at 0x7ff31613f8d0>,\n",
              " <matplotlib.lines.Line2D at 0x7ff31613fa90>,\n",
              " <matplotlib.lines.Line2D at 0x7ff31613fc50>,\n",
              " <matplotlib.lines.Line2D at 0x7ff31613fe10>,\n",
              " <matplotlib.lines.Line2D at 0x7ff31613ffd0>,\n",
              " <matplotlib.lines.Line2D at 0x7ff31613ff50>,\n",
              " <matplotlib.lines.Line2D at 0x7ff316142390>,\n",
              " <matplotlib.lines.Line2D at 0x7ff316142550>,\n",
              " <matplotlib.lines.Line2D at 0x7ff316142710>,\n",
              " <matplotlib.lines.Line2D at 0x7ff3161428d0>,\n",
              " <matplotlib.lines.Line2D at 0x7ff316142a90>,\n",
              " <matplotlib.lines.Line2D at 0x7ff316142c50>,\n",
              " <matplotlib.lines.Line2D at 0x7ff316142e10>,\n",
              " <matplotlib.lines.Line2D at 0x7ff316142fd0>,\n",
              " <matplotlib.lines.Line2D at 0x7ff316142f50>,\n",
              " <matplotlib.lines.Line2D at 0x7ff3160c7390>,\n",
              " <matplotlib.lines.Line2D at 0x7ff3160c7550>,\n",
              " <matplotlib.lines.Line2D at 0x7ff3160c7710>,\n",
              " <matplotlib.lines.Line2D at 0x7ff3160c78d0>,\n",
              " <matplotlib.lines.Line2D at 0x7ff3160c7a90>,\n",
              " <matplotlib.lines.Line2D at 0x7ff3160c7c50>,\n",
              " <matplotlib.lines.Line2D at 0x7ff3160c7e10>,\n",
              " <matplotlib.lines.Line2D at 0x7ff3160c7fd0>,\n",
              " <matplotlib.lines.Line2D at 0x7ff3160c7f50>,\n",
              " <matplotlib.lines.Line2D at 0x7ff3160cc390>,\n",
              " <matplotlib.lines.Line2D at 0x7ff3160cc550>,\n",
              " <matplotlib.lines.Line2D at 0x7ff3160cc710>,\n",
              " <matplotlib.lines.Line2D at 0x7ff3160cc8d0>,\n",
              " <matplotlib.lines.Line2D at 0x7ff3160cca90>,\n",
              " <matplotlib.lines.Line2D at 0x7ff3160ccc50>,\n",
              " <matplotlib.lines.Line2D at 0x7ff3160cce10>,\n",
              " <matplotlib.lines.Line2D at 0x7ff3160ccfd0>,\n",
              " <matplotlib.lines.Line2D at 0x7ff3160ccf50>,\n",
              " <matplotlib.lines.Line2D at 0x7ff3160d0390>,\n",
              " <matplotlib.lines.Line2D at 0x7ff3160d0550>,\n",
              " <matplotlib.lines.Line2D at 0x7ff3160d0710>,\n",
              " <matplotlib.lines.Line2D at 0x7ff3160d08d0>,\n",
              " <matplotlib.lines.Line2D at 0x7ff3160d0a90>,\n",
              " <matplotlib.lines.Line2D at 0x7ff3160d0c50>,\n",
              " <matplotlib.lines.Line2D at 0x7ff3160d0e10>,\n",
              " <matplotlib.lines.Line2D at 0x7ff3160d0fd0>,\n",
              " <matplotlib.lines.Line2D at 0x7ff3160d0f50>,\n",
              " <matplotlib.lines.Line2D at 0x7ff3160d5390>,\n",
              " <matplotlib.lines.Line2D at 0x7ff3160d5550>,\n",
              " <matplotlib.lines.Line2D at 0x7ff3160d5710>,\n",
              " <matplotlib.lines.Line2D at 0x7ff3160d58d0>,\n",
              " <matplotlib.lines.Line2D at 0x7ff3160d5a90>,\n",
              " <matplotlib.lines.Line2D at 0x7ff3160d5c50>,\n",
              " <matplotlib.lines.Line2D at 0x7ff3160d5e10>,\n",
              " <matplotlib.lines.Line2D at 0x7ff3160d5fd0>,\n",
              " <matplotlib.lines.Line2D at 0x7ff3160d5f50>,\n",
              " <matplotlib.lines.Line2D at 0x7ff3160da390>,\n",
              " <matplotlib.lines.Line2D at 0x7ff3160da550>,\n",
              " <matplotlib.lines.Line2D at 0x7ff3160da710>,\n",
              " <matplotlib.lines.Line2D at 0x7ff3160da8d0>,\n",
              " <matplotlib.lines.Line2D at 0x7ff3160daa90>,\n",
              " <matplotlib.lines.Line2D at 0x7ff3160dac50>,\n",
              " <matplotlib.lines.Line2D at 0x7ff3160dae10>,\n",
              " <matplotlib.lines.Line2D at 0x7ff3160dafd0>,\n",
              " <matplotlib.lines.Line2D at 0x7ff3160daf50>,\n",
              " <matplotlib.lines.Line2D at 0x7ff3160de390>,\n",
              " <matplotlib.lines.Line2D at 0x7ff3160de550>,\n",
              " <matplotlib.lines.Line2D at 0x7ff3160de710>,\n",
              " <matplotlib.lines.Line2D at 0x7ff3160de8d0>,\n",
              " <matplotlib.lines.Line2D at 0x7ff3160dea90>,\n",
              " <matplotlib.lines.Line2D at 0x7ff3160dec50>,\n",
              " <matplotlib.lines.Line2D at 0x7ff3160dee10>,\n",
              " <matplotlib.lines.Line2D at 0x7ff3160defd0>,\n",
              " <matplotlib.lines.Line2D at 0x7ff3160def50>,\n",
              " <matplotlib.lines.Line2D at 0x7ff3160e3390>,\n",
              " <matplotlib.lines.Line2D at 0x7ff3160e3550>,\n",
              " <matplotlib.lines.Line2D at 0x7ff3160e3710>,\n",
              " <matplotlib.lines.Line2D at 0x7ff3160e38d0>,\n",
              " <matplotlib.lines.Line2D at 0x7ff3160e3a90>,\n",
              " <matplotlib.lines.Line2D at 0x7ff3160e3c50>,\n",
              " <matplotlib.lines.Line2D at 0x7ff3160e3e10>,\n",
              " <matplotlib.lines.Line2D at 0x7ff3160e3fd0>,\n",
              " <matplotlib.lines.Line2D at 0x7ff3160e3f50>,\n",
              " <matplotlib.lines.Line2D at 0x7ff3160e7390>,\n",
              " <matplotlib.lines.Line2D at 0x7ff3160e7550>,\n",
              " <matplotlib.lines.Line2D at 0x7ff3160e7710>,\n",
              " <matplotlib.lines.Line2D at 0x7ff3160e78d0>,\n",
              " <matplotlib.lines.Line2D at 0x7ff3160e7a90>,\n",
              " <matplotlib.lines.Line2D at 0x7ff3160e7c50>,\n",
              " <matplotlib.lines.Line2D at 0x7ff3160e7e10>,\n",
              " <matplotlib.lines.Line2D at 0x7ff3160e7fd0>,\n",
              " <matplotlib.lines.Line2D at 0x7ff3160e7f50>,\n",
              " <matplotlib.lines.Line2D at 0x7ff3160eb390>,\n",
              " <matplotlib.lines.Line2D at 0x7ff3160eb550>,\n",
              " <matplotlib.lines.Line2D at 0x7ff3160eb710>,\n",
              " <matplotlib.lines.Line2D at 0x7ff3160eb8d0>,\n",
              " <matplotlib.lines.Line2D at 0x7ff3160eba90>,\n",
              " <matplotlib.lines.Line2D at 0x7ff3160ebc50>,\n",
              " <matplotlib.lines.Line2D at 0x7ff3160ebe10>,\n",
              " <matplotlib.lines.Line2D at 0x7ff3160ebfd0>,\n",
              " <matplotlib.lines.Line2D at 0x7ff3160ebf50>,\n",
              " <matplotlib.lines.Line2D at 0x7ff3160f0390>,\n",
              " <matplotlib.lines.Line2D at 0x7ff3160f0550>,\n",
              " <matplotlib.lines.Line2D at 0x7ff3160f0710>,\n",
              " <matplotlib.lines.Line2D at 0x7ff3160f08d0>,\n",
              " <matplotlib.lines.Line2D at 0x7ff3160f0a90>,\n",
              " <matplotlib.lines.Line2D at 0x7ff3160f0c50>,\n",
              " <matplotlib.lines.Line2D at 0x7ff3160f0e10>,\n",
              " <matplotlib.lines.Line2D at 0x7ff3160f0fd0>,\n",
              " <matplotlib.lines.Line2D at 0x7ff3160f0f50>,\n",
              " <matplotlib.lines.Line2D at 0x7ff3160f6390>,\n",
              " <matplotlib.lines.Line2D at 0x7ff3160f6550>,\n",
              " <matplotlib.lines.Line2D at 0x7ff3160f6710>,\n",
              " <matplotlib.lines.Line2D at 0x7ff3160f68d0>,\n",
              " <matplotlib.lines.Line2D at 0x7ff3160f6a90>,\n",
              " <matplotlib.lines.Line2D at 0x7ff3160f6c50>,\n",
              " <matplotlib.lines.Line2D at 0x7ff3160f6e10>,\n",
              " <matplotlib.lines.Line2D at 0x7ff3160f6fd0>,\n",
              " <matplotlib.lines.Line2D at 0x7ff3160f6f50>,\n",
              " <matplotlib.lines.Line2D at 0x7ff3160fa390>,\n",
              " <matplotlib.lines.Line2D at 0x7ff3160fa550>,\n",
              " <matplotlib.lines.Line2D at 0x7ff3160fa710>,\n",
              " <matplotlib.lines.Line2D at 0x7ff3160fa8d0>,\n",
              " <matplotlib.lines.Line2D at 0x7ff3160faa90>,\n",
              " <matplotlib.lines.Line2D at 0x7ff3160fac50>,\n",
              " <matplotlib.lines.Line2D at 0x7ff3160fae10>,\n",
              " <matplotlib.lines.Line2D at 0x7ff3160fafd0>,\n",
              " <matplotlib.lines.Line2D at 0x7ff3160faf50>,\n",
              " <matplotlib.lines.Line2D at 0x7ff3160fe390>,\n",
              " <matplotlib.lines.Line2D at 0x7ff3160fe550>,\n",
              " <matplotlib.lines.Line2D at 0x7ff3160fe710>,\n",
              " <matplotlib.lines.Line2D at 0x7ff3160fe8d0>,\n",
              " <matplotlib.lines.Line2D at 0x7ff3160fea90>,\n",
              " <matplotlib.lines.Line2D at 0x7ff3160fec50>,\n",
              " <matplotlib.lines.Line2D at 0x7ff3160fee10>,\n",
              " <matplotlib.lines.Line2D at 0x7ff3160fefd0>,\n",
              " <matplotlib.lines.Line2D at 0x7ff3160fef50>,\n",
              " <matplotlib.lines.Line2D at 0x7ff316102390>,\n",
              " <matplotlib.lines.Line2D at 0x7ff316102550>,\n",
              " <matplotlib.lines.Line2D at 0x7ff316102710>,\n",
              " <matplotlib.lines.Line2D at 0x7ff3161028d0>,\n",
              " <matplotlib.lines.Line2D at 0x7ff316102a90>,\n",
              " <matplotlib.lines.Line2D at 0x7ff316102c50>,\n",
              " <matplotlib.lines.Line2D at 0x7ff316102e10>,\n",
              " <matplotlib.lines.Line2D at 0x7ff316102fd0>,\n",
              " <matplotlib.lines.Line2D at 0x7ff316102f50>,\n",
              " <matplotlib.lines.Line2D at 0x7ff316086390>,\n",
              " <matplotlib.lines.Line2D at 0x7ff316086550>,\n",
              " <matplotlib.lines.Line2D at 0x7ff316086710>,\n",
              " <matplotlib.lines.Line2D at 0x7ff3160868d0>,\n",
              " <matplotlib.lines.Line2D at 0x7ff316086a90>,\n",
              " <matplotlib.lines.Line2D at 0x7ff316086c50>,\n",
              " <matplotlib.lines.Line2D at 0x7ff316086e10>,\n",
              " <matplotlib.lines.Line2D at 0x7ff316086fd0>,\n",
              " <matplotlib.lines.Line2D at 0x7ff316086f50>,\n",
              " <matplotlib.lines.Line2D at 0x7ff31608c390>,\n",
              " <matplotlib.lines.Line2D at 0x7ff31608c550>,\n",
              " <matplotlib.lines.Line2D at 0x7ff31608c710>,\n",
              " <matplotlib.lines.Line2D at 0x7ff31608c8d0>,\n",
              " <matplotlib.lines.Line2D at 0x7ff31608ca90>,\n",
              " <matplotlib.lines.Line2D at 0x7ff31608cc50>,\n",
              " <matplotlib.lines.Line2D at 0x7ff31608ce10>,\n",
              " <matplotlib.lines.Line2D at 0x7ff31608cfd0>,\n",
              " <matplotlib.lines.Line2D at 0x7ff31608cf50>,\n",
              " <matplotlib.lines.Line2D at 0x7ff316090390>,\n",
              " <matplotlib.lines.Line2D at 0x7ff316090550>,\n",
              " <matplotlib.lines.Line2D at 0x7ff316090710>,\n",
              " <matplotlib.lines.Line2D at 0x7ff3160908d0>,\n",
              " <matplotlib.lines.Line2D at 0x7ff316090a90>,\n",
              " <matplotlib.lines.Line2D at 0x7ff316090c50>,\n",
              " <matplotlib.lines.Line2D at 0x7ff316090e10>,\n",
              " <matplotlib.lines.Line2D at 0x7ff316090fd0>,\n",
              " <matplotlib.lines.Line2D at 0x7ff316090f50>,\n",
              " <matplotlib.lines.Line2D at 0x7ff316094390>,\n",
              " <matplotlib.lines.Line2D at 0x7ff316094550>,\n",
              " <matplotlib.lines.Line2D at 0x7ff316094710>,\n",
              " <matplotlib.lines.Line2D at 0x7ff3160948d0>,\n",
              " <matplotlib.lines.Line2D at 0x7ff316094a90>,\n",
              " <matplotlib.lines.Line2D at 0x7ff316094c50>,\n",
              " <matplotlib.lines.Line2D at 0x7ff316094e10>,\n",
              " <matplotlib.lines.Line2D at 0x7ff316094fd0>,\n",
              " <matplotlib.lines.Line2D at 0x7ff316094f50>,\n",
              " <matplotlib.lines.Line2D at 0x7ff316099390>,\n",
              " <matplotlib.lines.Line2D at 0x7ff316099550>,\n",
              " <matplotlib.lines.Line2D at 0x7ff316099710>,\n",
              " <matplotlib.lines.Line2D at 0x7ff3160998d0>,\n",
              " <matplotlib.lines.Line2D at 0x7ff316099a90>,\n",
              " <matplotlib.lines.Line2D at 0x7ff316099c50>,\n",
              " <matplotlib.lines.Line2D at 0x7ff316099e10>,\n",
              " <matplotlib.lines.Line2D at 0x7ff316099fd0>,\n",
              " <matplotlib.lines.Line2D at 0x7ff316099f50>,\n",
              " <matplotlib.lines.Line2D at 0x7ff31609e390>,\n",
              " <matplotlib.lines.Line2D at 0x7ff31609e550>,\n",
              " <matplotlib.lines.Line2D at 0x7ff31609e710>,\n",
              " <matplotlib.lines.Line2D at 0x7ff31609e8d0>,\n",
              " <matplotlib.lines.Line2D at 0x7ff31609ea90>,\n",
              " <matplotlib.lines.Line2D at 0x7ff31609ec50>,\n",
              " <matplotlib.lines.Line2D at 0x7ff31609ee10>,\n",
              " <matplotlib.lines.Line2D at 0x7ff31609efd0>,\n",
              " <matplotlib.lines.Line2D at 0x7ff31609ef50>,\n",
              " <matplotlib.lines.Line2D at 0x7ff3160a2390>,\n",
              " <matplotlib.lines.Line2D at 0x7ff3160a2550>,\n",
              " <matplotlib.lines.Line2D at 0x7ff3160a2710>,\n",
              " <matplotlib.lines.Line2D at 0x7ff3160a28d0>,\n",
              " <matplotlib.lines.Line2D at 0x7ff3160a2a90>,\n",
              " <matplotlib.lines.Line2D at 0x7ff3160a2c50>,\n",
              " <matplotlib.lines.Line2D at 0x7ff3160a2e10>,\n",
              " <matplotlib.lines.Line2D at 0x7ff3160a2fd0>,\n",
              " <matplotlib.lines.Line2D at 0x7ff3160a2f50>,\n",
              " <matplotlib.lines.Line2D at 0x7ff3160a8390>,\n",
              " <matplotlib.lines.Line2D at 0x7ff3160a8550>,\n",
              " <matplotlib.lines.Line2D at 0x7ff3160a8710>,\n",
              " <matplotlib.lines.Line2D at 0x7ff3160a88d0>,\n",
              " <matplotlib.lines.Line2D at 0x7ff3160a8a90>,\n",
              " <matplotlib.lines.Line2D at 0x7ff3160a8c50>,\n",
              " <matplotlib.lines.Line2D at 0x7ff3160a8e10>,\n",
              " <matplotlib.lines.Line2D at 0x7ff3160a8fd0>,\n",
              " <matplotlib.lines.Line2D at 0x7ff3160a8f50>,\n",
              " <matplotlib.lines.Line2D at 0x7ff3160ab390>,\n",
              " <matplotlib.lines.Line2D at 0x7ff3160ab550>,\n",
              " <matplotlib.lines.Line2D at 0x7ff3160ab710>,\n",
              " <matplotlib.lines.Line2D at 0x7ff3160ab8d0>,\n",
              " <matplotlib.lines.Line2D at 0x7ff3160aba90>,\n",
              " <matplotlib.lines.Line2D at 0x7ff3160abc50>,\n",
              " <matplotlib.lines.Line2D at 0x7ff3160abe10>,\n",
              " <matplotlib.lines.Line2D at 0x7ff3160abfd0>,\n",
              " <matplotlib.lines.Line2D at 0x7ff3160abf50>,\n",
              " <matplotlib.lines.Line2D at 0x7ff3160b0390>,\n",
              " <matplotlib.lines.Line2D at 0x7ff3160b0550>,\n",
              " <matplotlib.lines.Line2D at 0x7ff3160b0710>,\n",
              " <matplotlib.lines.Line2D at 0x7ff3160b08d0>,\n",
              " <matplotlib.lines.Line2D at 0x7ff3160b0a90>,\n",
              " <matplotlib.lines.Line2D at 0x7ff3160b0c50>,\n",
              " <matplotlib.lines.Line2D at 0x7ff3160b0e10>,\n",
              " <matplotlib.lines.Line2D at 0x7ff3160b0fd0>,\n",
              " <matplotlib.lines.Line2D at 0x7ff3160b0f50>,\n",
              " <matplotlib.lines.Line2D at 0x7ff3160b5390>,\n",
              " <matplotlib.lines.Line2D at 0x7ff3160b5550>,\n",
              " <matplotlib.lines.Line2D at 0x7ff3160b5710>,\n",
              " <matplotlib.lines.Line2D at 0x7ff3160b58d0>,\n",
              " <matplotlib.lines.Line2D at 0x7ff3160b5a90>,\n",
              " <matplotlib.lines.Line2D at 0x7ff3160b5c50>,\n",
              " <matplotlib.lines.Line2D at 0x7ff3160b5e10>,\n",
              " <matplotlib.lines.Line2D at 0x7ff3160b5fd0>,\n",
              " <matplotlib.lines.Line2D at 0x7ff3160b5f50>,\n",
              " <matplotlib.lines.Line2D at 0x7ff3160b8390>,\n",
              " <matplotlib.lines.Line2D at 0x7ff3160b8550>,\n",
              " <matplotlib.lines.Line2D at 0x7ff3160b8710>,\n",
              " <matplotlib.lines.Line2D at 0x7ff3160b88d0>,\n",
              " <matplotlib.lines.Line2D at 0x7ff3160b8a90>,\n",
              " <matplotlib.lines.Line2D at 0x7ff3160b8c50>,\n",
              " <matplotlib.lines.Line2D at 0x7ff3160b8e10>,\n",
              " <matplotlib.lines.Line2D at 0x7ff3160b8fd0>,\n",
              " <matplotlib.lines.Line2D at 0x7ff3160b8f50>,\n",
              " <matplotlib.lines.Line2D at 0x7ff3160bd390>,\n",
              " <matplotlib.lines.Line2D at 0x7ff3160bd550>,\n",
              " <matplotlib.lines.Line2D at 0x7ff3160bd710>,\n",
              " <matplotlib.lines.Line2D at 0x7ff3160bd8d0>,\n",
              " <matplotlib.lines.Line2D at 0x7ff3160bda90>,\n",
              " <matplotlib.lines.Line2D at 0x7ff3160bdc50>,\n",
              " <matplotlib.lines.Line2D at 0x7ff3160bde10>,\n",
              " <matplotlib.lines.Line2D at 0x7ff3160bdfd0>,\n",
              " <matplotlib.lines.Line2D at 0x7ff3160bdf50>,\n",
              " <matplotlib.lines.Line2D at 0x7ff3160c2390>,\n",
              " <matplotlib.lines.Line2D at 0x7ff3160c2550>,\n",
              " <matplotlib.lines.Line2D at 0x7ff3160c2710>,\n",
              " <matplotlib.lines.Line2D at 0x7ff3160c28d0>,\n",
              " <matplotlib.lines.Line2D at 0x7ff3160c2a90>,\n",
              " <matplotlib.lines.Line2D at 0x7ff3160c2c50>,\n",
              " <matplotlib.lines.Line2D at 0x7ff3160c2e10>,\n",
              " <matplotlib.lines.Line2D at 0x7ff3160c2fd0>,\n",
              " <matplotlib.lines.Line2D at 0x7ff3160c2f50>,\n",
              " <matplotlib.lines.Line2D at 0x7ff316046390>,\n",
              " <matplotlib.lines.Line2D at 0x7ff316046550>,\n",
              " <matplotlib.lines.Line2D at 0x7ff316046710>,\n",
              " <matplotlib.lines.Line2D at 0x7ff3160468d0>,\n",
              " <matplotlib.lines.Line2D at 0x7ff316046a90>,\n",
              " <matplotlib.lines.Line2D at 0x7ff316046c50>,\n",
              " <matplotlib.lines.Line2D at 0x7ff316046e10>,\n",
              " <matplotlib.lines.Line2D at 0x7ff316046fd0>,\n",
              " <matplotlib.lines.Line2D at 0x7ff316046f50>,\n",
              " <matplotlib.lines.Line2D at 0x7ff31604c390>,\n",
              " <matplotlib.lines.Line2D at 0x7ff31604c550>,\n",
              " <matplotlib.lines.Line2D at 0x7ff31604c710>,\n",
              " <matplotlib.lines.Line2D at 0x7ff31604c8d0>,\n",
              " <matplotlib.lines.Line2D at 0x7ff31604ca90>,\n",
              " <matplotlib.lines.Line2D at 0x7ff31604cc50>,\n",
              " <matplotlib.lines.Line2D at 0x7ff31604ce10>,\n",
              " <matplotlib.lines.Line2D at 0x7ff31604cfd0>,\n",
              " <matplotlib.lines.Line2D at 0x7ff31604cf50>,\n",
              " <matplotlib.lines.Line2D at 0x7ff31604f390>,\n",
              " <matplotlib.lines.Line2D at 0x7ff31604f550>,\n",
              " <matplotlib.lines.Line2D at 0x7ff31604f710>,\n",
              " <matplotlib.lines.Line2D at 0x7ff31604f8d0>,\n",
              " <matplotlib.lines.Line2D at 0x7ff31604fa90>,\n",
              " <matplotlib.lines.Line2D at 0x7ff31604fc50>,\n",
              " <matplotlib.lines.Line2D at 0x7ff31604fe10>,\n",
              " <matplotlib.lines.Line2D at 0x7ff31604ffd0>,\n",
              " <matplotlib.lines.Line2D at 0x7ff31604ff50>,\n",
              " <matplotlib.lines.Line2D at 0x7ff316054390>,\n",
              " <matplotlib.lines.Line2D at 0x7ff316054550>,\n",
              " <matplotlib.lines.Line2D at 0x7ff316054710>,\n",
              " <matplotlib.lines.Line2D at 0x7ff3160548d0>,\n",
              " <matplotlib.lines.Line2D at 0x7ff316054a90>,\n",
              " <matplotlib.lines.Line2D at 0x7ff316054c50>,\n",
              " <matplotlib.lines.Line2D at 0x7ff316054e10>,\n",
              " <matplotlib.lines.Line2D at 0x7ff316054fd0>,\n",
              " <matplotlib.lines.Line2D at 0x7ff316054f50>,\n",
              " <matplotlib.lines.Line2D at 0x7ff31605a390>,\n",
              " <matplotlib.lines.Line2D at 0x7ff31605a550>,\n",
              " <matplotlib.lines.Line2D at 0x7ff31605a710>,\n",
              " <matplotlib.lines.Line2D at 0x7ff31605a8d0>,\n",
              " <matplotlib.lines.Line2D at 0x7ff31605aa90>,\n",
              " <matplotlib.lines.Line2D at 0x7ff31605ac50>,\n",
              " <matplotlib.lines.Line2D at 0x7ff31605ae10>,\n",
              " <matplotlib.lines.Line2D at 0x7ff31605afd0>,\n",
              " <matplotlib.lines.Line2D at 0x7ff31605af50>,\n",
              " <matplotlib.lines.Line2D at 0x7ff31605d390>,\n",
              " <matplotlib.lines.Line2D at 0x7ff31605d550>,\n",
              " <matplotlib.lines.Line2D at 0x7ff31605d710>,\n",
              " <matplotlib.lines.Line2D at 0x7ff31605d8d0>,\n",
              " <matplotlib.lines.Line2D at 0x7ff31605da90>,\n",
              " <matplotlib.lines.Line2D at 0x7ff31605dc50>,\n",
              " <matplotlib.lines.Line2D at 0x7ff31605de10>,\n",
              " <matplotlib.lines.Line2D at 0x7ff31605dfd0>,\n",
              " <matplotlib.lines.Line2D at 0x7ff31605df50>,\n",
              " <matplotlib.lines.Line2D at 0x7ff316062390>,\n",
              " <matplotlib.lines.Line2D at 0x7ff316062550>,\n",
              " <matplotlib.lines.Line2D at 0x7ff316062710>,\n",
              " <matplotlib.lines.Line2D at 0x7ff3160628d0>,\n",
              " <matplotlib.lines.Line2D at 0x7ff316062a90>,\n",
              " <matplotlib.lines.Line2D at 0x7ff316062c50>,\n",
              " <matplotlib.lines.Line2D at 0x7ff316062e10>,\n",
              " <matplotlib.lines.Line2D at 0x7ff316062fd0>,\n",
              " <matplotlib.lines.Line2D at 0x7ff316062f50>,\n",
              " <matplotlib.lines.Line2D at 0x7ff316067390>,\n",
              " <matplotlib.lines.Line2D at 0x7ff316067550>,\n",
              " <matplotlib.lines.Line2D at 0x7ff316067710>,\n",
              " <matplotlib.lines.Line2D at 0x7ff3160678d0>,\n",
              " <matplotlib.lines.Line2D at 0x7ff316067a90>,\n",
              " <matplotlib.lines.Line2D at 0x7ff316067c50>,\n",
              " <matplotlib.lines.Line2D at 0x7ff316067e10>,\n",
              " <matplotlib.lines.Line2D at 0x7ff316067fd0>,\n",
              " <matplotlib.lines.Line2D at 0x7ff316067f50>,\n",
              " <matplotlib.lines.Line2D at 0x7ff31606a390>,\n",
              " <matplotlib.lines.Line2D at 0x7ff31606a550>,\n",
              " <matplotlib.lines.Line2D at 0x7ff31606a710>,\n",
              " <matplotlib.lines.Line2D at 0x7ff31606a8d0>,\n",
              " <matplotlib.lines.Line2D at 0x7ff31606aa90>,\n",
              " <matplotlib.lines.Line2D at 0x7ff31606ac50>,\n",
              " <matplotlib.lines.Line2D at 0x7ff31606ae10>,\n",
              " <matplotlib.lines.Line2D at 0x7ff31606afd0>,\n",
              " <matplotlib.lines.Line2D at 0x7ff31606af50>,\n",
              " <matplotlib.lines.Line2D at 0x7ff31606f390>,\n",
              " <matplotlib.lines.Line2D at 0x7ff31606f550>,\n",
              " <matplotlib.lines.Line2D at 0x7ff31606f710>,\n",
              " <matplotlib.lines.Line2D at 0x7ff31606f8d0>,\n",
              " <matplotlib.lines.Line2D at 0x7ff31606fa90>,\n",
              " <matplotlib.lines.Line2D at 0x7ff31606fc50>,\n",
              " <matplotlib.lines.Line2D at 0x7ff31606fe10>,\n",
              " <matplotlib.lines.Line2D at 0x7ff31606ffd0>,\n",
              " <matplotlib.lines.Line2D at 0x7ff31606ff50>,\n",
              " <matplotlib.lines.Line2D at 0x7ff316075390>,\n",
              " <matplotlib.lines.Line2D at 0x7ff316075550>,\n",
              " <matplotlib.lines.Line2D at 0x7ff316075710>,\n",
              " <matplotlib.lines.Line2D at 0x7ff3160758d0>,\n",
              " <matplotlib.lines.Line2D at 0x7ff316075a90>,\n",
              " <matplotlib.lines.Line2D at 0x7ff316075c50>,\n",
              " <matplotlib.lines.Line2D at 0x7ff316075e10>,\n",
              " <matplotlib.lines.Line2D at 0x7ff316075fd0>,\n",
              " <matplotlib.lines.Line2D at 0x7ff316075f50>,\n",
              " <matplotlib.lines.Line2D at 0x7ff316079390>,\n",
              " <matplotlib.lines.Line2D at 0x7ff316079550>,\n",
              " <matplotlib.lines.Line2D at 0x7ff316079710>,\n",
              " <matplotlib.lines.Line2D at 0x7ff3160798d0>,\n",
              " <matplotlib.lines.Line2D at 0x7ff316079a90>,\n",
              " <matplotlib.lines.Line2D at 0x7ff316079c50>,\n",
              " <matplotlib.lines.Line2D at 0x7ff316079e10>,\n",
              " <matplotlib.lines.Line2D at 0x7ff316079fd0>,\n",
              " <matplotlib.lines.Line2D at 0x7ff316079f50>,\n",
              " <matplotlib.lines.Line2D at 0x7ff31607e390>,\n",
              " <matplotlib.lines.Line2D at 0x7ff31607e550>,\n",
              " <matplotlib.lines.Line2D at 0x7ff31607e710>,\n",
              " <matplotlib.lines.Line2D at 0x7ff31607e8d0>,\n",
              " <matplotlib.lines.Line2D at 0x7ff31607ea90>,\n",
              " <matplotlib.lines.Line2D at 0x7ff31607ec50>,\n",
              " <matplotlib.lines.Line2D at 0x7ff31607ee10>,\n",
              " <matplotlib.lines.Line2D at 0x7ff31607efd0>,\n",
              " <matplotlib.lines.Line2D at 0x7ff31607ef50>,\n",
              " <matplotlib.lines.Line2D at 0x7ff316082390>,\n",
              " <matplotlib.lines.Line2D at 0x7ff316082550>,\n",
              " <matplotlib.lines.Line2D at 0x7ff316082710>,\n",
              " <matplotlib.lines.Line2D at 0x7ff3160828d0>,\n",
              " <matplotlib.lines.Line2D at 0x7ff316082a90>,\n",
              " <matplotlib.lines.Line2D at 0x7ff316082c50>,\n",
              " <matplotlib.lines.Line2D at 0x7ff316082e10>,\n",
              " <matplotlib.lines.Line2D at 0x7ff316082fd0>,\n",
              " <matplotlib.lines.Line2D at 0x7ff316082f50>,\n",
              " <matplotlib.lines.Line2D at 0x7ff316006390>,\n",
              " <matplotlib.lines.Line2D at 0x7ff316006550>,\n",
              " <matplotlib.lines.Line2D at 0x7ff316006710>,\n",
              " <matplotlib.lines.Line2D at 0x7ff3160068d0>,\n",
              " <matplotlib.lines.Line2D at 0x7ff316006a90>,\n",
              " <matplotlib.lines.Line2D at 0x7ff316006c50>,\n",
              " <matplotlib.lines.Line2D at 0x7ff316006e10>,\n",
              " <matplotlib.lines.Line2D at 0x7ff316006fd0>,\n",
              " <matplotlib.lines.Line2D at 0x7ff316006f50>,\n",
              " <matplotlib.lines.Line2D at 0x7ff31600a390>,\n",
              " <matplotlib.lines.Line2D at 0x7ff31600a550>,\n",
              " <matplotlib.lines.Line2D at 0x7ff31600a710>,\n",
              " <matplotlib.lines.Line2D at 0x7ff31600a8d0>,\n",
              " <matplotlib.lines.Line2D at 0x7ff31600aa90>,\n",
              " <matplotlib.lines.Line2D at 0x7ff31600ac50>,\n",
              " <matplotlib.lines.Line2D at 0x7ff31600ae10>,\n",
              " <matplotlib.lines.Line2D at 0x7ff31600afd0>,\n",
              " <matplotlib.lines.Line2D at 0x7ff31600af50>,\n",
              " <matplotlib.lines.Line2D at 0x7ff31600f390>,\n",
              " <matplotlib.lines.Line2D at 0x7ff31600f550>,\n",
              " <matplotlib.lines.Line2D at 0x7ff31600f710>,\n",
              " <matplotlib.lines.Line2D at 0x7ff31600f8d0>,\n",
              " <matplotlib.lines.Line2D at 0x7ff31600fa90>,\n",
              " <matplotlib.lines.Line2D at 0x7ff31600fc50>,\n",
              " <matplotlib.lines.Line2D at 0x7ff31600fe10>,\n",
              " <matplotlib.lines.Line2D at 0x7ff31600ffd0>,\n",
              " <matplotlib.lines.Line2D at 0x7ff31600ff50>,\n",
              " <matplotlib.lines.Line2D at 0x7ff316014390>,\n",
              " <matplotlib.lines.Line2D at 0x7ff316014550>,\n",
              " <matplotlib.lines.Line2D at 0x7ff316014710>,\n",
              " <matplotlib.lines.Line2D at 0x7ff3160148d0>,\n",
              " <matplotlib.lines.Line2D at 0x7ff316014a90>,\n",
              " <matplotlib.lines.Line2D at 0x7ff316014c50>,\n",
              " <matplotlib.lines.Line2D at 0x7ff316014e10>,\n",
              " <matplotlib.lines.Line2D at 0x7ff316014fd0>,\n",
              " <matplotlib.lines.Line2D at 0x7ff316014f50>,\n",
              " <matplotlib.lines.Line2D at 0x7ff316018390>,\n",
              " <matplotlib.lines.Line2D at 0x7ff316018550>,\n",
              " <matplotlib.lines.Line2D at 0x7ff316018710>,\n",
              " <matplotlib.lines.Line2D at 0x7ff3160188d0>,\n",
              " <matplotlib.lines.Line2D at 0x7ff316018a90>,\n",
              " <matplotlib.lines.Line2D at 0x7ff316018c50>,\n",
              " <matplotlib.lines.Line2D at 0x7ff316018e10>,\n",
              " <matplotlib.lines.Line2D at 0x7ff316018fd0>,\n",
              " <matplotlib.lines.Line2D at 0x7ff316018f50>,\n",
              " <matplotlib.lines.Line2D at 0x7ff31601d390>,\n",
              " <matplotlib.lines.Line2D at 0x7ff31601d550>,\n",
              " <matplotlib.lines.Line2D at 0x7ff31601d710>,\n",
              " <matplotlib.lines.Line2D at 0x7ff31601d8d0>,\n",
              " <matplotlib.lines.Line2D at 0x7ff31601da90>,\n",
              " <matplotlib.lines.Line2D at 0x7ff31601dc50>,\n",
              " <matplotlib.lines.Line2D at 0x7ff31601de10>,\n",
              " <matplotlib.lines.Line2D at 0x7ff31601dfd0>,\n",
              " <matplotlib.lines.Line2D at 0x7ff31601df50>,\n",
              " <matplotlib.lines.Line2D at 0x7ff316022390>,\n",
              " <matplotlib.lines.Line2D at 0x7ff316022550>,\n",
              " <matplotlib.lines.Line2D at 0x7ff316022710>,\n",
              " <matplotlib.lines.Line2D at 0x7ff3160228d0>,\n",
              " <matplotlib.lines.Line2D at 0x7ff316022a90>,\n",
              " <matplotlib.lines.Line2D at 0x7ff316022c50>,\n",
              " <matplotlib.lines.Line2D at 0x7ff316022e10>,\n",
              " <matplotlib.lines.Line2D at 0x7ff316022fd0>,\n",
              " <matplotlib.lines.Line2D at 0x7ff316022f50>,\n",
              " <matplotlib.lines.Line2D at 0x7ff316026390>,\n",
              " <matplotlib.lines.Line2D at 0x7ff316026550>,\n",
              " <matplotlib.lines.Line2D at 0x7ff316026710>,\n",
              " <matplotlib.lines.Line2D at 0x7ff3160268d0>,\n",
              " <matplotlib.lines.Line2D at 0x7ff316026a90>,\n",
              " <matplotlib.lines.Line2D at 0x7ff316026c50>,\n",
              " <matplotlib.lines.Line2D at 0x7ff316026e10>,\n",
              " <matplotlib.lines.Line2D at 0x7ff316026fd0>,\n",
              " <matplotlib.lines.Line2D at 0x7ff316026f50>,\n",
              " <matplotlib.lines.Line2D at 0x7ff31602b390>,\n",
              " <matplotlib.lines.Line2D at 0x7ff31602b550>,\n",
              " <matplotlib.lines.Line2D at 0x7ff31602b710>,\n",
              " <matplotlib.lines.Line2D at 0x7ff31602b8d0>,\n",
              " <matplotlib.lines.Line2D at 0x7ff31602ba90>,\n",
              " <matplotlib.lines.Line2D at 0x7ff31602bc50>,\n",
              " <matplotlib.lines.Line2D at 0x7ff31602be10>,\n",
              " <matplotlib.lines.Line2D at 0x7ff31602bfd0>,\n",
              " <matplotlib.lines.Line2D at 0x7ff31602bf50>,\n",
              " <matplotlib.lines.Line2D at 0x7ff31602f390>,\n",
              " <matplotlib.lines.Line2D at 0x7ff31602f550>,\n",
              " <matplotlib.lines.Line2D at 0x7ff31602f710>,\n",
              " <matplotlib.lines.Line2D at 0x7ff31602f8d0>,\n",
              " <matplotlib.lines.Line2D at 0x7ff31602fa90>,\n",
              " <matplotlib.lines.Line2D at 0x7ff31602fc50>,\n",
              " <matplotlib.lines.Line2D at 0x7ff31602fe10>,\n",
              " <matplotlib.lines.Line2D at 0x7ff31602ffd0>,\n",
              " <matplotlib.lines.Line2D at 0x7ff31602ff50>,\n",
              " <matplotlib.lines.Line2D at 0x7ff316034390>,\n",
              " <matplotlib.lines.Line2D at 0x7ff316034550>,\n",
              " <matplotlib.lines.Line2D at 0x7ff316034710>,\n",
              " <matplotlib.lines.Line2D at 0x7ff3160348d0>,\n",
              " <matplotlib.lines.Line2D at 0x7ff316034a90>,\n",
              " <matplotlib.lines.Line2D at 0x7ff316034c50>,\n",
              " <matplotlib.lines.Line2D at 0x7ff316034e10>,\n",
              " <matplotlib.lines.Line2D at 0x7ff316034fd0>,\n",
              " <matplotlib.lines.Line2D at 0x7ff316034f50>,\n",
              " <matplotlib.lines.Line2D at 0x7ff316038390>,\n",
              " <matplotlib.lines.Line2D at 0x7ff316038550>,\n",
              " <matplotlib.lines.Line2D at 0x7ff316038710>,\n",
              " <matplotlib.lines.Line2D at 0x7ff3160388d0>,\n",
              " <matplotlib.lines.Line2D at 0x7ff316038a90>,\n",
              " <matplotlib.lines.Line2D at 0x7ff316038c50>,\n",
              " <matplotlib.lines.Line2D at 0x7ff316038e10>,\n",
              " <matplotlib.lines.Line2D at 0x7ff316038fd0>,\n",
              " <matplotlib.lines.Line2D at 0x7ff316038f50>,\n",
              " <matplotlib.lines.Line2D at 0x7ff31603c390>,\n",
              " <matplotlib.lines.Line2D at 0x7ff31603c550>,\n",
              " <matplotlib.lines.Line2D at 0x7ff31603c710>,\n",
              " <matplotlib.lines.Line2D at 0x7ff31603c8d0>,\n",
              " <matplotlib.lines.Line2D at 0x7ff31603ca90>,\n",
              " <matplotlib.lines.Line2D at 0x7ff31603cc50>,\n",
              " <matplotlib.lines.Line2D at 0x7ff31603ce10>,\n",
              " <matplotlib.lines.Line2D at 0x7ff31603cfd0>,\n",
              " <matplotlib.lines.Line2D at 0x7ff31603cf50>,\n",
              " <matplotlib.lines.Line2D at 0x7ff316042390>,\n",
              " <matplotlib.lines.Line2D at 0x7ff316042550>,\n",
              " <matplotlib.lines.Line2D at 0x7ff316042710>,\n",
              " <matplotlib.lines.Line2D at 0x7ff3160428d0>,\n",
              " <matplotlib.lines.Line2D at 0x7ff316042a90>,\n",
              " <matplotlib.lines.Line2D at 0x7ff316042c50>,\n",
              " <matplotlib.lines.Line2D at 0x7ff316042e10>,\n",
              " <matplotlib.lines.Line2D at 0x7ff316042fd0>,\n",
              " <matplotlib.lines.Line2D at 0x7ff316042f50>,\n",
              " <matplotlib.lines.Line2D at 0x7ff315fc6390>,\n",
              " <matplotlib.lines.Line2D at 0x7ff315fc6550>,\n",
              " <matplotlib.lines.Line2D at 0x7ff315fc6710>,\n",
              " <matplotlib.lines.Line2D at 0x7ff315fc68d0>,\n",
              " <matplotlib.lines.Line2D at 0x7ff315fc6a90>,\n",
              " <matplotlib.lines.Line2D at 0x7ff315fc6c50>,\n",
              " <matplotlib.lines.Line2D at 0x7ff315fc6e10>,\n",
              " <matplotlib.lines.Line2D at 0x7ff315fc6fd0>,\n",
              " <matplotlib.lines.Line2D at 0x7ff315fc6f50>,\n",
              " <matplotlib.lines.Line2D at 0x7ff315fcb390>,\n",
              " <matplotlib.lines.Line2D at 0x7ff315fcb550>,\n",
              " <matplotlib.lines.Line2D at 0x7ff315fcb710>,\n",
              " <matplotlib.lines.Line2D at 0x7ff315fcb8d0>,\n",
              " <matplotlib.lines.Line2D at 0x7ff315fcba90>,\n",
              " <matplotlib.lines.Line2D at 0x7ff315fcbc50>,\n",
              " <matplotlib.lines.Line2D at 0x7ff315fcbe10>,\n",
              " <matplotlib.lines.Line2D at 0x7ff315fcbfd0>,\n",
              " <matplotlib.lines.Line2D at 0x7ff315fcbf50>,\n",
              " <matplotlib.lines.Line2D at 0x7ff315fcf390>,\n",
              " <matplotlib.lines.Line2D at 0x7ff315fcf550>,\n",
              " <matplotlib.lines.Line2D at 0x7ff315fcf710>,\n",
              " <matplotlib.lines.Line2D at 0x7ff315fcf8d0>,\n",
              " <matplotlib.lines.Line2D at 0x7ff315fcfa90>,\n",
              " <matplotlib.lines.Line2D at 0x7ff315fcfc50>,\n",
              " <matplotlib.lines.Line2D at 0x7ff315fcfe10>,\n",
              " <matplotlib.lines.Line2D at 0x7ff315fcffd0>,\n",
              " <matplotlib.lines.Line2D at 0x7ff315fcff50>,\n",
              " <matplotlib.lines.Line2D at 0x7ff315fd3390>,\n",
              " <matplotlib.lines.Line2D at 0x7ff315fd3550>,\n",
              " <matplotlib.lines.Line2D at 0x7ff315fd3710>,\n",
              " <matplotlib.lines.Line2D at 0x7ff315fd38d0>,\n",
              " <matplotlib.lines.Line2D at 0x7ff315fd3a90>,\n",
              " <matplotlib.lines.Line2D at 0x7ff315fd3c50>,\n",
              " <matplotlib.lines.Line2D at 0x7ff315fd3e10>,\n",
              " <matplotlib.lines.Line2D at 0x7ff315fd3fd0>,\n",
              " <matplotlib.lines.Line2D at 0x7ff315fd3f50>,\n",
              " <matplotlib.lines.Line2D at 0x7ff315fd8390>,\n",
              " <matplotlib.lines.Line2D at 0x7ff315fd8550>,\n",
              " <matplotlib.lines.Line2D at 0x7ff315fd8710>,\n",
              " <matplotlib.lines.Line2D at 0x7ff315fd88d0>,\n",
              " <matplotlib.lines.Line2D at 0x7ff315fd8a90>,\n",
              " <matplotlib.lines.Line2D at 0x7ff315fd8c50>,\n",
              " <matplotlib.lines.Line2D at 0x7ff315fd8e10>,\n",
              " <matplotlib.lines.Line2D at 0x7ff315fd8fd0>,\n",
              " <matplotlib.lines.Line2D at 0x7ff315fd8f50>,\n",
              " <matplotlib.lines.Line2D at 0x7ff315fdd390>,\n",
              " <matplotlib.lines.Line2D at 0x7ff315fdd550>,\n",
              " <matplotlib.lines.Line2D at 0x7ff315fdd710>,\n",
              " <matplotlib.lines.Line2D at 0x7ff315fdd8d0>,\n",
              " <matplotlib.lines.Line2D at 0x7ff315fdda90>,\n",
              " <matplotlib.lines.Line2D at 0x7ff315fddc50>,\n",
              " <matplotlib.lines.Line2D at 0x7ff315fdde10>,\n",
              " <matplotlib.lines.Line2D at 0x7ff315fddfd0>,\n",
              " <matplotlib.lines.Line2D at 0x7ff315fddf50>,\n",
              " <matplotlib.lines.Line2D at 0x7ff315fe1390>,\n",
              " <matplotlib.lines.Line2D at 0x7ff315fe1550>,\n",
              " <matplotlib.lines.Line2D at 0x7ff315fe1710>,\n",
              " <matplotlib.lines.Line2D at 0x7ff315fe18d0>,\n",
              " <matplotlib.lines.Line2D at 0x7ff315fe1a90>,\n",
              " <matplotlib.lines.Line2D at 0x7ff315fe1c50>,\n",
              " <matplotlib.lines.Line2D at 0x7ff315fe1e10>,\n",
              " <matplotlib.lines.Line2D at 0x7ff315fe1fd0>,\n",
              " <matplotlib.lines.Line2D at 0x7ff315fe1f50>,\n",
              " <matplotlib.lines.Line2D at 0x7ff315fe6390>,\n",
              " <matplotlib.lines.Line2D at 0x7ff315fe6550>,\n",
              " <matplotlib.lines.Line2D at 0x7ff315fe6710>,\n",
              " <matplotlib.lines.Line2D at 0x7ff315fe68d0>,\n",
              " <matplotlib.lines.Line2D at 0x7ff315fe6a90>,\n",
              " <matplotlib.lines.Line2D at 0x7ff315fe6c50>,\n",
              " <matplotlib.lines.Line2D at 0x7ff315fe6e10>,\n",
              " ...]"
            ]
          },
          "metadata": {},
          "execution_count": 9
        },
        {
          "output_type": "display_data",
          "data": {
            "text/plain": [
              "<Figure size 432x288 with 1 Axes>"
            ],
            "image/png": "[encoded data removed]"
          },
          "metadata": {
            "needs_background": "light"
          }
        }
      ]
    },
    {
      "cell_type": "code",
      "source": [
        "X.shape"
      ],
      "metadata": {
        "colab": {
          "base_uri": "https://localhost:8080/"
        },
        "id": "3RuAOrZB_OvF",
        "outputId": "a1aa1a38-283f-459a-fb1d-01b820c218ac"
      },
      "execution_count": null,
      "outputs": [
        {
          "output_type": "execute_result",
          "data": {
            "text/plain": [
              "(50000, 438)"
            ]
          },
          "metadata": {},
          "execution_count": 10
        }
      ]
    },
    {
      "cell_type": "code",
      "source": [
        "import numpy as np\n",
        "print(mean(np.square(LA.norm(X_ori-Xtrain,axis=1))))\n",
        "np.sqrt(mean(np.square(LA.norm(X_ori-Xtrain,axis=1))))/Xnorm\n"
      ],
      "metadata": {
        "colab": {
          "base_uri": "https://localhost:8080/"
        },
        "id": "EQFkvlRJKbu5",
        "outputId": "af28be7b-8b63-4c98-f4ed-bdb98a6a1662"
      },
      "execution_count": null,
      "outputs": [
        {
          "output_type": "stream",
          "name": "stdout",
          "text": [
            "10.200581\n"
          ]
        },
        {
          "output_type": "execute_result",
          "data": {
            "text/plain": [
              "0.10395702"
            ]
          },
          "metadata": {},
          "execution_count": 18
        }
      ]
    },
    {
      "cell_type": "code",
      "source": [
        "plt.plot(pca.explained_variance_ratio_)"
      ],
      "metadata": {
        "colab": {
          "base_uri": "https://localhost:8080/",
          "height": 283
        },
        "id": "RhoB83iWDgD8",
        "outputId": "4e75343f-3e70-4af3-f9be-be198d028e7b"
      },
      "execution_count": null,
      "outputs": [
        {
          "output_type": "execute_result",
          "data": {
            "text/plain": [
              "[<matplotlib.lines.Line2D at 0x7fab67e7fb10>]"
            ]
          },
          "metadata": {},
          "execution_count": 50
        },
        {
          "output_type": "display_data",
          "data": {
            "text/plain": [
              "<Figure size 432x288 with 1 Axes>"
            ],
            "image/png": "[encoded data removed]"
          },
          "metadata": {
            "needs_background": "light"
          }
        }
      ]
    },
    {
      "cell_type": "code",
      "source": [
        "X.shape"
      ],
      "metadata": {
        "colab": {
          "base_uri": "https://localhost:8080/"
        },
        "id": "BjXvPGluUqFw",
        "outputId": "398fa830-c494-45eb-cfa6-bad6e09f6084"
      },
      "execution_count": null,
      "outputs": [
        {
          "output_type": "execute_result",
          "data": {
            "text/plain": [
              "(50000, 79)"
            ]
          },
          "metadata": {},
          "execution_count": 8
        }
      ]
    },
    {
      "cell_type": "code",
      "source": [
        "inputlow = tf.keras.Input(shape=input_shape)\n",
        "hiddenlow = Dense(79, activation='relu')(inputlow)\n",
        "outputlow = Dense(10, activation='softmax')(hiddenlow)\n",
        "\n",
        "MLPlow = tf.keras.Model(inputlow, outputlow)\n",
        "MLPlow.summary()\n",
        "Hiddenlow=tf.keras.Model(inputlow,hiddenlow)\n",
        "loss = tf.keras.losses.CategoricalCrossentropy()\n"
      ],
      "metadata": {
        "colab": {
          "base_uri": "https://localhost:8080/"
        },
        "id": "VoNAcguFGGEM",
        "outputId": "a35a393b-6a0d-45d2-b9b6-512da8bb4088"
      },
      "execution_count": null,
      "outputs": [
        {
          "output_type": "stream",
          "name": "stdout",
          "text": [
            "Model: \"model_8\"\n",
            "_________________________________________________________________\n",
            " Layer (type)                Output Shape              Param #   \n",
            "=================================================================\n",
            " input_5 (InputLayer)        [(None, 1024)]            0         \n",
            "                                                                 \n",
            " dense_8 (Dense)             (None, 79)                80975     \n",
            "                                                                 \n",
            " dense_9 (Dense)             (None, 10)                800       \n",
            "                                                                 \n",
            "=================================================================\n",
            "Total params: 81,775\n",
            "Trainable params: 81,775\n",
            "Non-trainable params: 0\n",
            "_________________________________________________________________\n"
          ]
        }
      ]
    },
    {
      "cell_type": "code",
      "source": [
        "checkpoint_filepath = '/tmp/checkpoint'\n",
        "model_checkpoint_callback = tf.keras.callbacks.ModelCheckpoint(\n",
        "    filepath=checkpoint_filepath,\n",
        "    save_weights_only=True,\n",
        "    monitor='val_accuracy',\n",
        "    mode='max',\n",
        "    save_best_only=True)"
      ],
      "metadata": {
        "id": "HHU_0ByhaA_x"
      },
      "execution_count": null,
      "outputs": []
    },
    {
      "cell_type": "code",
      "source": [
        "MLPlow.compile(loss=loss, optimizer='adam', metrics=['accuracy'])\n",
        "time1=time.time()\n",
        "history=MLPlow.fit(Xtrain, Y_train, epochs=100, batch_size=1000, verbose=1, validation_data=(Xtest,Y_test),callbacks=[model_checkpoint_callback])\n",
        "time2=time.time()-time1"
      ],
      "metadata": {
        "colab": {
          "base_uri": "https://localhost:8080/"
        },
        "id": "DUtcfEuVGzxE",
        "outputId": "635678f2-77e6-465a-da6b-072e5ec979bc"
      },
      "execution_count": null,
      "outputs": [
        {
          "output_type": "stream",
          "name": "stdout",
          "text": [
            "Epoch 1/8\n",
            "50/50 [==============================] - 1s 19ms/step - loss: 2.1065 - accuracy: 0.2687 - val_loss: 1.9234 - val_accuracy: 0.3229\n",
            "Epoch 2/8\n",
            "50/50 [==============================] - 1s 16ms/step - loss: 1.8497 - accuracy: 0.3493 - val_loss: 1.8339 - val_accuracy: 0.3593\n",
            "Epoch 3/8\n",
            "50/50 [==============================] - 1s 15ms/step - loss: 1.7737 - accuracy: 0.3792 - val_loss: 1.7895 - val_accuracy: 0.3759\n",
            "Epoch 4/8\n",
            "50/50 [==============================] - 1s 15ms/step - loss: 1.7121 - accuracy: 0.4002 - val_loss: 1.7620 - val_accuracy: 0.3792\n",
            "Epoch 5/8\n",
            "50/50 [==============================] - 1s 15ms/step - loss: 1.6691 - accuracy: 0.4161 - val_loss: 1.7392 - val_accuracy: 0.3981\n",
            "Epoch 6/8\n",
            "50/50 [==============================] - 1s 15ms/step - loss: 1.6388 - accuracy: 0.4285 - val_loss: 1.7257 - val_accuracy: 0.3980\n",
            "Epoch 7/8\n",
            "50/50 [==============================] - 1s 15ms/step - loss: 1.6063 - accuracy: 0.4406 - val_loss: 1.7087 - val_accuracy: 0.4036\n",
            "Epoch 8/8\n",
            "50/50 [==============================] - 1s 15ms/step - loss: 1.5753 - accuracy: 0.4524 - val_loss: 1.6963 - val_accuracy: 0.4088\n"
          ]
        }
      ]
    },
    {
      "cell_type": "code",
      "source": [
        "time2"
      ],
      "metadata": {
        "colab": {
          "base_uri": "https://localhost:8080/"
        },
        "id": "XpOoAI_wjEkl",
        "outputId": "e589ee0a-a9a3-440e-ffa7-474fd125414c"
      },
      "execution_count": null,
      "outputs": [
        {
          "output_type": "execute_result",
          "data": {
            "text/plain": [
              "10.617862462997437"
            ]
          },
          "metadata": {},
          "execution_count": 23
        }
      ]
    },
    {
      "cell_type": "code",
      "source": [
        "print(history.history.keys())\n",
        "\n",
        "plt.plot(history.history['accuracy'])\n",
        "plt.plot(history.history['val_accuracy'])\n",
        "plt.title('model accuracy')\n",
        "plt.ylabel('accuracy')\n",
        "plt.xlabel('epoch')\n",
        "plt.legend(['train', 'test'], loc='upper left')\n",
        "\n",
        "plt.show()\n",
        "\n",
        "plt.plot(history.history['loss'])\n",
        "plt.plot(history.history['val_loss'])\n",
        "plt.title('loss function')\n",
        "plt.ylabel('loss function')\n",
        "plt.xlabel('epoch')\n",
        "plt.legend(['train', 'test'], loc='upper left')\n",
        "plt.show()\n",
        "\n",
        "plt.plot(np.exp(-1*np.array(history.history['loss'])))\n",
        "plt.plot(np.exp(-1*np.array(history.history['val_loss'])))\n",
        "plt.title('transfered probability')\n",
        "plt.ylabel('transfered probability')\n",
        "plt.xlabel('epoch')\n",
        "plt.legend(['train', 'test'], loc='upper left')\n",
        "plt.show()\n"
      ],
      "metadata": {
        "colab": {
          "base_uri": "https://localhost:8080/",
          "height": 869
        },
        "id": "em_xhg_PJbv1",
        "outputId": "e14fdc0d-3a29-4bc3-ab91-74cf9e7ea2d7"
      },
      "execution_count": null,
      "outputs": [
        {
          "output_type": "stream",
          "name": "stdout",
          "text": [
            "dict_keys(['loss', 'accuracy', 'val_loss', 'val_accuracy'])\n"
          ]
        },
        {
          "output_type": "display_data",
          "data": {
            "text/plain": [
              "<Figure size 432x288 with 1 Axes>"
            ],
            "image/png": "[encoded data removed]"
          },
          "metadata": {
            "needs_background": "light"
          }
        },
        {
          "output_type": "display_data",
          "data": {
            "text/plain": [
              "<Figure size 432x288 with 1 Axes>"
            ],
            "image/png": "[encoded data removed]"
          },
          "metadata": {
            "needs_background": "light"
          }
        },
        {
          "output_type": "display_data",
          "data": {
            "text/plain": [
              "<Figure size 432x288 with 1 Axes>"
            ],
            "image/png": "[encoded data removed]"
          },
          "metadata": {
            "needs_background": "light"
          }
        }
      ]
    },
    {
      "cell_type": "code",
      "source": [
        "MLPlow.load_weights(checkpoint_filepath)"
      ],
      "metadata": {
        "colab": {
          "base_uri": "https://localhost:8080/"
        },
        "id": "qrDQmXHEJlwA",
        "outputId": "832bcc48-b3a3-4492-b04c-f003b646bc06"
      },
      "execution_count": null,
      "outputs": [
        {
          "output_type": "execute_result",
          "data": {
            "text/plain": [
              "<tensorflow.python.training.tracking.util.CheckpointLoadStatus at 0x7f6e9f58f1d0>"
            ]
          },
          "metadata": {},
          "execution_count": 25
        }
      ]
    },
    {
      "cell_type": "code",
      "source": [
        "Ytrain= MLPlow(Xtrain)\n",
        "CMtrain = tf.math.confusion_matrix(np.argmax(Ytrain.numpy(),axis=1),np.argmax(Y_train,axis=1)).numpy()\n",
        "print(CMtrain/5000)\n",
        "Ytest=MLPlow(Xtest)\n",
        "CMtest= tf.math.confusion_matrix(np.argmax(Ytest.numpy(),axis=1),np.argmax(Y_test,axis=1)).numpy()\n",
        "print(CMtest/1000)\n",
        "\n"
      ],
      "metadata": {
        "colab": {
          "base_uri": "https://localhost:8080/"
        },
        "id": "R-3j-05JtjLP",
        "outputId": "7816280f-45f4-4c72-bfbf-04f03f25435b"
      },
      "execution_count": null,
      "outputs": [
        {
          "output_type": "stream",
          "name": "stdout",
          "text": [
            "[[0.4712 0.0384 0.0926 0.042  0.0858 0.0338 0.0366 0.0516 0.115  0.039 ]\n",
            " [0.0546 0.5914 0.0276 0.0406 0.0338 0.0284 0.0616 0.0232 0.0908 0.1732]\n",
            " [0.0802 0.0122 0.366  0.0876 0.1282 0.0984 0.0632 0.064  0.023  0.0216]\n",
            " [0.0266 0.0204 0.0676 0.3092 0.0564 0.1474 0.076  0.057  0.022  0.0306]\n",
            " [0.0768 0.0326 0.1442 0.087  0.3952 0.0704 0.11   0.084  0.0368 0.0188]\n",
            " [0.0236 0.0114 0.0822 0.1638 0.0628 0.3954 0.0698 0.0576 0.026  0.021 ]\n",
            " [0.041  0.052  0.0802 0.1078 0.0756 0.0808 0.4754 0.0408 0.0284 0.0326]\n",
            " [0.0502 0.0218 0.0704 0.0682 0.0782 0.082  0.0318 0.5558 0.0236 0.0388]\n",
            " [0.1298 0.078  0.0362 0.0382 0.0492 0.0302 0.0294 0.02   0.5648 0.0758]\n",
            " [0.046  0.1418 0.033  0.0556 0.0348 0.0332 0.0462 0.046  0.0696 0.5486]]\n",
            "[[0.431 0.047 0.069 0.053 0.087 0.047 0.029 0.059 0.118 0.041]\n",
            " [0.046 0.518 0.037 0.044 0.048 0.025 0.075 0.028 0.095 0.226]\n",
            " [0.092 0.012 0.339 0.098 0.129 0.117 0.076 0.063 0.018 0.023]\n",
            " [0.029 0.026 0.083 0.231 0.07  0.15  0.083 0.079 0.035 0.035]\n",
            " [0.079 0.027 0.158 0.091 0.335 0.077 0.122 0.088 0.036 0.025]\n",
            " [0.026 0.012 0.102 0.179 0.064 0.337 0.073 0.075 0.035 0.017]\n",
            " [0.034 0.062 0.095 0.129 0.096 0.081 0.427 0.044 0.027 0.039]\n",
            " [0.042 0.023 0.053 0.076 0.093 0.097 0.03  0.476 0.04  0.054]\n",
            " [0.154 0.086 0.035 0.036 0.038 0.032 0.039 0.028 0.528 0.074]\n",
            " [0.067 0.187 0.029 0.063 0.04  0.037 0.046 0.06  0.068 0.466]]\n"
          ]
        }
      ]
    },
    {
      "cell_type": "code",
      "source": [
        "from sklearn.decomposition import PCA\n",
        "for i in range(10):\n",
        "  pca = PCA(n_components=0.90, svd_solver='full')\n",
        "  X=pca.fit_transform(Xtrain[L[i]],)\n",
        "  print(X.shape)\n",
        "  plt.plot(pca.explained_variance_ratio_)\n"
      ],
      "metadata": {
        "colab": {
          "base_uri": "https://localhost:8080/",
          "height": 439
        },
        "id": "jveCwK3OFPJL",
        "outputId": "5972e159-0151-4efb-8fd6-0ff3ba39d178"
      },
      "execution_count": null,
      "outputs": [
        {
          "output_type": "stream",
          "name": "stdout",
          "text": [
            "(5000, 60)\n",
            "(5000, 91)\n",
            "(5000, 64)\n",
            "(5000, 63)\n",
            "(5000, 77)\n",
            "(5000, 69)\n",
            "(5000, 102)\n",
            "(5000, 90)\n",
            "(5000, 59)\n",
            "(5000, 101)\n"
          ]
        },
        {
          "output_type": "display_data",
          "data": {
            "text/plain": [
              "<Figure size 432x288 with 1 Axes>"
            ],
            "image/png": "[encoded data removed]"
          },
          "metadata": {
            "needs_background": "light"
          }
        }
      ]
    },
    {
      "cell_type": "code",
      "source": [
        "60+91+64+63+77+69+102+90+59+101"
      ],
      "metadata": {
        "colab": {
          "base_uri": "https://localhost:8080/"
        },
        "id": "Ck-RkIgbLN3q",
        "outputId": "ad1098a5-1ebd-4e4a-ef6d-2b9613f18a31"
      },
      "execution_count": null,
      "outputs": [
        {
          "output_type": "execute_result",
          "data": {
            "text/plain": [
              "776"
            ]
          },
          "metadata": {},
          "execution_count": 73
        }
      ]
    },
    {
      "cell_type": "code",
      "source": [
        "inputhigh = tf.keras.Input(shape=input_shape)\n",
        "hiddenhigh = Dense(776, activation='relu')(inputhigh)\n",
        "outputhigh = Dense(10, activation='softmax')(hiddenhigh)\n",
        "\n",
        "MLPhigh = tf.keras.Model(inputhigh, outputhigh)\n",
        "MLPhigh.summary()\n",
        "Hiddenhigh=tf.keras.Model(inputhigh,hiddenhigh)\n",
        "loss = tf.keras.losses.CategoricalCrossentropy()\n"
      ],
      "metadata": {
        "colab": {
          "base_uri": "https://localhost:8080/"
        },
        "id": "lw9PtnUyMeCW",
        "outputId": "e9b03e23-18c3-45c1-ab7c-f95764cdca40"
      },
      "execution_count": null,
      "outputs": [
        {
          "output_type": "stream",
          "name": "stdout",
          "text": [
            "Model: \"model_16\"\n",
            "_________________________________________________________________\n",
            " Layer (type)                Output Shape              Param #   \n",
            "=================================================================\n",
            " input_9 (InputLayer)        [(None, 1024)]            0         \n",
            "                                                                 \n",
            " dense_16 (Dense)            (None, 776)               795400    \n",
            "                                                                 \n",
            " dense_17 (Dense)            (None, 10)                7770      \n",
            "                                                                 \n",
            "=================================================================\n",
            "Total params: 803,170\n",
            "Trainable params: 803,170\n",
            "Non-trainable params: 0\n",
            "_________________________________________________________________\n"
          ]
        }
      ]
    },
    {
      "cell_type": "code",
      "source": [
        "checkpoint_filepath1 = '/tmp/checkpoint1'\n",
        "model_checkpoint_callback1 = tf.keras.callbacks.ModelCheckpoint(\n",
        "    filepath=checkpoint_filepath1,\n",
        "    save_weights_only=True,\n",
        "    monitor='val_accuracy',\n",
        "    mode='max',\n",
        "    save_best_only=True)"
      ],
      "metadata": {
        "id": "ysJGMknRMyN4"
      },
      "execution_count": null,
      "outputs": []
    },
    {
      "cell_type": "code",
      "source": [
        ""
      ],
      "metadata": {
        "id": "hie9nWpyM95R"
      },
      "execution_count": null,
      "outputs": []
    },
    {
      "cell_type": "code",
      "source": [
        "MLPhigh.compile(loss=loss, optimizer='adam', metrics=['accuracy'])\n",
        "time1=time.time()\n",
        "history=MLPhigh.fit(Xtrain, Y_train, epochs=150, batch_size=100, verbose=1, validation_data=(Xtest,Y_test),callbacks=[model_checkpoint_callback1])\n",
        "time2=time.time()-time1"
      ],
      "metadata": {
        "colab": {
          "base_uri": "https://localhost:8080/"
        },
        "id": "SWiwW8pUM8J1",
        "outputId": "1646d0aa-3ac3-488d-d8bc-c2204a9703bc"
      },
      "execution_count": null,
      "outputs": [
        {
          "output_type": "stream",
          "name": "stdout",
          "text": [
            "Epoch 1/50\n",
            "500/500 [==============================] - 11s 21ms/step - loss: 2.0211 - accuracy: 0.3303 - val_loss: 1.7631 - val_accuracy: 0.3824\n",
            "Epoch 2/50\n",
            "500/500 [==============================] - 7s 13ms/step - loss: 1.6820 - accuracy: 0.4195 - val_loss: 1.7729 - val_accuracy: 0.3818\n",
            "Epoch 3/50\n",
            "500/500 [==============================] - 7s 14ms/step - loss: 1.5863 - accuracy: 0.4526 - val_loss: 1.6861 - val_accuracy: 0.4230\n",
            "Epoch 4/50\n",
            "500/500 [==============================] - 7s 13ms/step - loss: 1.5183 - accuracy: 0.4762 - val_loss: 1.7698 - val_accuracy: 0.4048\n",
            "Epoch 5/50\n",
            "500/500 [==============================] - 7s 13ms/step - loss: 1.4632 - accuracy: 0.4953 - val_loss: 1.6929 - val_accuracy: 0.4236\n",
            "Epoch 6/50\n",
            "500/500 [==============================] - 7s 14ms/step - loss: 1.4037 - accuracy: 0.5165 - val_loss: 1.7095 - val_accuracy: 0.4255\n",
            "Epoch 7/50\n",
            "500/500 [==============================] - 7s 13ms/step - loss: 1.3495 - accuracy: 0.5372 - val_loss: 1.6881 - val_accuracy: 0.4393\n",
            "Epoch 8/50\n",
            "500/500 [==============================] - 7s 13ms/step - loss: 1.3070 - accuracy: 0.5528 - val_loss: 1.7103 - val_accuracy: 0.4421\n",
            "Epoch 9/50\n",
            "500/500 [==============================] - 7s 14ms/step - loss: 1.2622 - accuracy: 0.5689 - val_loss: 1.7419 - val_accuracy: 0.4457\n",
            "Epoch 10/50\n",
            "500/500 [==============================] - 7s 13ms/step - loss: 1.2088 - accuracy: 0.5871 - val_loss: 1.7842 - val_accuracy: 0.4304\n",
            "Epoch 11/50\n",
            "500/500 [==============================] - 7s 14ms/step - loss: 1.1600 - accuracy: 0.6049 - val_loss: 1.7477 - val_accuracy: 0.4445\n",
            "Epoch 12/50\n",
            "500/500 [==============================] - 7s 14ms/step - loss: 1.1035 - accuracy: 0.6226 - val_loss: 1.8991 - val_accuracy: 0.4356\n",
            "Epoch 13/50\n",
            "500/500 [==============================] - 7s 14ms/step - loss: 1.0663 - accuracy: 0.6391 - val_loss: 1.8478 - val_accuracy: 0.4522\n",
            "Epoch 14/50\n",
            "500/500 [==============================] - 7s 14ms/step - loss: 1.0336 - accuracy: 0.6499 - val_loss: 1.9270 - val_accuracy: 0.4375\n",
            "Epoch 15/50\n",
            "500/500 [==============================] - 7s 14ms/step - loss: 0.9799 - accuracy: 0.6679 - val_loss: 1.9148 - val_accuracy: 0.4407\n",
            "Epoch 16/50\n",
            "500/500 [==============================] - 7s 14ms/step - loss: 0.9375 - accuracy: 0.6839 - val_loss: 1.9840 - val_accuracy: 0.4480\n",
            "Epoch 17/50\n",
            "500/500 [==============================] - 7s 14ms/step - loss: 0.8937 - accuracy: 0.7000 - val_loss: 1.9518 - val_accuracy: 0.4497\n",
            "Epoch 18/50\n",
            "500/500 [==============================] - 7s 14ms/step - loss: 0.8593 - accuracy: 0.7111 - val_loss: 2.0692 - val_accuracy: 0.4390\n",
            "Epoch 19/50\n",
            "500/500 [==============================] - 7s 14ms/step - loss: 0.8244 - accuracy: 0.7244 - val_loss: 2.1053 - val_accuracy: 0.4348\n",
            "Epoch 20/50\n",
            "500/500 [==============================] - 7s 14ms/step - loss: 0.7984 - accuracy: 0.7321 - val_loss: 2.1438 - val_accuracy: 0.4454\n",
            "Epoch 21/50\n",
            "500/500 [==============================] - 7s 14ms/step - loss: 0.7530 - accuracy: 0.7473 - val_loss: 2.2246 - val_accuracy: 0.4507\n",
            "Epoch 22/50\n",
            "500/500 [==============================] - 7s 14ms/step - loss: 0.7205 - accuracy: 0.7601 - val_loss: 2.3537 - val_accuracy: 0.4383\n",
            "Epoch 23/50\n",
            "500/500 [==============================] - 7s 14ms/step - loss: 0.6884 - accuracy: 0.7705 - val_loss: 2.3183 - val_accuracy: 0.4445\n",
            "Epoch 24/50\n",
            "500/500 [==============================] - 7s 14ms/step - loss: 0.6997 - accuracy: 0.7708 - val_loss: 2.5319 - val_accuracy: 0.4225\n",
            "Epoch 25/50\n",
            "500/500 [==============================] - 7s 14ms/step - loss: 0.6524 - accuracy: 0.7838 - val_loss: 2.4276 - val_accuracy: 0.4457\n",
            "Epoch 26/50\n",
            "500/500 [==============================] - 7s 14ms/step - loss: 0.6102 - accuracy: 0.7974 - val_loss: 2.4794 - val_accuracy: 0.4415\n",
            "Epoch 27/50\n",
            "500/500 [==============================] - 7s 14ms/step - loss: 0.5866 - accuracy: 0.8079 - val_loss: 2.7138 - val_accuracy: 0.4385\n",
            "Epoch 28/50\n",
            "500/500 [==============================] - 7s 14ms/step - loss: 0.5727 - accuracy: 0.8109 - val_loss: 2.8071 - val_accuracy: 0.4291\n",
            "Epoch 29/50\n",
            "500/500 [==============================] - 7s 14ms/step - loss: 0.5541 - accuracy: 0.8194 - val_loss: 2.7202 - val_accuracy: 0.4302\n",
            "Epoch 30/50\n",
            "500/500 [==============================] - 7s 14ms/step - loss: 0.5259 - accuracy: 0.8272 - val_loss: 2.7968 - val_accuracy: 0.4373\n",
            "Epoch 31/50\n",
            "500/500 [==============================] - 7s 14ms/step - loss: 0.5178 - accuracy: 0.8311 - val_loss: 2.8629 - val_accuracy: 0.4373\n",
            "Epoch 32/50\n",
            "500/500 [==============================] - 7s 14ms/step - loss: 0.5068 - accuracy: 0.8352 - val_loss: 3.0207 - val_accuracy: 0.4205\n",
            "Epoch 33/50\n",
            "500/500 [==============================] - 7s 14ms/step - loss: 0.4778 - accuracy: 0.8446 - val_loss: 2.9798 - val_accuracy: 0.4400\n",
            "Epoch 34/50\n",
            "500/500 [==============================] - 7s 14ms/step - loss: 0.4672 - accuracy: 0.8487 - val_loss: 2.9591 - val_accuracy: 0.4378\n",
            "Epoch 35/50\n",
            "500/500 [==============================] - 7s 14ms/step - loss: 0.4696 - accuracy: 0.8488 - val_loss: 3.0991 - val_accuracy: 0.4274\n",
            "Epoch 36/50\n",
            "500/500 [==============================] - 7s 14ms/step - loss: 0.4396 - accuracy: 0.8587 - val_loss: 3.1243 - val_accuracy: 0.4301\n",
            "Epoch 37/50\n",
            "500/500 [==============================] - 7s 14ms/step - loss: 0.4005 - accuracy: 0.8692 - val_loss: 3.2794 - val_accuracy: 0.4451\n",
            "Epoch 38/50\n",
            "500/500 [==============================] - 7s 14ms/step - loss: 0.4227 - accuracy: 0.8654 - val_loss: 3.4581 - val_accuracy: 0.4220\n",
            "Epoch 39/50\n",
            "500/500 [==============================] - 7s 14ms/step - loss: 0.4267 - accuracy: 0.8647 - val_loss: 3.3973 - val_accuracy: 0.4283\n",
            "Epoch 40/50\n",
            "500/500 [==============================] - 7s 14ms/step - loss: 0.3842 - accuracy: 0.8781 - val_loss: 3.5004 - val_accuracy: 0.4295\n",
            "Epoch 41/50\n",
            "500/500 [==============================] - 7s 14ms/step - loss: 0.3811 - accuracy: 0.8785 - val_loss: 3.5662 - val_accuracy: 0.4335\n",
            "Epoch 42/50\n",
            "500/500 [==============================] - 7s 14ms/step - loss: 0.3611 - accuracy: 0.8846 - val_loss: 3.5165 - val_accuracy: 0.4314\n",
            "Epoch 43/50\n",
            "500/500 [==============================] - 7s 14ms/step - loss: 0.3743 - accuracy: 0.8822 - val_loss: 3.4777 - val_accuracy: 0.4310\n",
            "Epoch 44/50\n",
            "500/500 [==============================] - 7s 14ms/step - loss: 0.3785 - accuracy: 0.8840 - val_loss: 3.6162 - val_accuracy: 0.4383\n",
            "Epoch 45/50\n",
            "500/500 [==============================] - 7s 14ms/step - loss: 0.3555 - accuracy: 0.8884 - val_loss: 3.7573 - val_accuracy: 0.4301\n",
            "Epoch 46/50\n",
            "500/500 [==============================] - 7s 14ms/step - loss: 0.3387 - accuracy: 0.8924 - val_loss: 3.8753 - val_accuracy: 0.4390\n",
            "Epoch 47/50\n",
            "500/500 [==============================] - 7s 14ms/step - loss: 0.3296 - accuracy: 0.8969 - val_loss: 3.7808 - val_accuracy: 0.4467\n",
            "Epoch 48/50\n",
            "500/500 [==============================] - 7s 13ms/step - loss: 0.3303 - accuracy: 0.8941 - val_loss: 3.8269 - val_accuracy: 0.4368\n",
            "Epoch 49/50\n",
            "500/500 [==============================] - 7s 14ms/step - loss: 0.3196 - accuracy: 0.8979 - val_loss: 3.8615 - val_accuracy: 0.4353\n",
            "Epoch 50/50\n",
            "500/500 [==============================] - 7s 14ms/step - loss: 0.3448 - accuracy: 0.8933 - val_loss: 4.1057 - val_accuracy: 0.4382\n"
          ]
        }
      ]
    },
    {
      "cell_type": "code",
      "source": [
        "time2"
      ],
      "metadata": {
        "colab": {
          "base_uri": "https://localhost:8080/"
        },
        "id": "06bCjct_j3T3",
        "outputId": "bbbe45cd-a052-42eb-e030-b10cc98ba1dd"
      },
      "execution_count": null,
      "outputs": [
        {
          "output_type": "execute_result",
          "data": {
            "text/plain": [
              "41.67990255355835"
            ]
          },
          "metadata": {},
          "execution_count": 32
        }
      ]
    },
    {
      "cell_type": "code",
      "source": [
        "print(history.history.keys())\n",
        "\n",
        "plt.plot(history.history['accuracy'])\n",
        "plt.plot(history.history['val_accuracy'])\n",
        "plt.title('model accuracy')\n",
        "plt.ylabel('accuracy')\n",
        "plt.xlabel('epoch')\n",
        "plt.legend(['train', 'test'], loc='upper left')\n",
        "\n",
        "plt.show()\n",
        "\n",
        "plt.plot(history.history['loss'])\n",
        "plt.plot(history.history['val_loss'])\n",
        "plt.title('loss function')\n",
        "plt.ylabel('loss function')\n",
        "plt.xlabel('epoch')\n",
        "plt.legend(['train', 'test'], loc='upper left')\n",
        "plt.show()\n",
        "\n",
        "plt.plot(np.exp(-1*np.array(history.history['loss'])))\n",
        "plt.plot(np.exp(-1*np.array(history.history['val_loss'])))\n",
        "plt.title('transfered probability')\n",
        "plt.ylabel('transfered probability')\n",
        "plt.xlabel('epoch')\n",
        "plt.legend(['train', 'test'], loc='upper left')\n",
        "plt.show()\n"
      ],
      "metadata": {
        "colab": {
          "base_uri": "https://localhost:8080/",
          "height": 869
        },
        "id": "Bddqj9VCOjXc",
        "outputId": "a1ada77f-1049-42af-c3bb-3ebef94f73a9"
      },
      "execution_count": null,
      "outputs": [
        {
          "output_type": "stream",
          "name": "stdout",
          "text": [
            "dict_keys(['loss', 'accuracy', 'val_loss', 'val_accuracy'])\n"
          ]
        },
        {
          "output_type": "display_data",
          "data": {
            "text/plain": [
              "<Figure size 432x288 with 1 Axes>"
            ],
            "image/png": "[encoded data removed]"
          },
          "metadata": {
            "needs_background": "light"
          }
        },
        {
          "output_type": "display_data",
          "data": {
            "text/plain": [
              "<Figure size 432x288 with 1 Axes>"
            ],
            "image/png": "[encoded data removed]"
          },
          "metadata": {
            "needs_background": "light"
          }
        },
        {
          "output_type": "display_data",
          "data": {
            "text/plain": [
              "<Figure size 432x288 with 1 Axes>"
            ],
            "image/png": "[encoded data removed]"
          },
          "metadata": {
            "needs_background": "light"
          }
        }
      ]
    },
    {
      "cell_type": "code",
      "source": [
        ""
      ],
      "metadata": {
        "colab": {
          "base_uri": "https://localhost:8080/",
          "height": 183
        },
        "id": "LnKx1E9adVCp",
        "outputId": "44ce82a8-62aa-47e0-a5b6-11f340cf26d0"
      },
      "execution_count": null,
      "outputs": [
        {
          "output_type": "error",
          "ename": "NameError",
          "evalue": "ignored",
          "traceback": [
            "\u001b[0;31m---------------------------------------------------------------------------\u001b[0m",
            "\u001b[0;31mNameError\u001b[0m                                 Traceback (most recent call last)",
            "\u001b[0;32m<ipython-input-12-8673e2a6b4e2>\u001b[0m in \u001b[0;36m<module>\u001b[0;34m()\u001b[0m\n\u001b[1;32m      1\u001b[0m \u001b[0mhistory\u001b[0m\u001b[0;34m.\u001b[0m\u001b[0mhistory\u001b[0m\u001b[0;34m[\u001b[0m\u001b[0;34m'val_accuracy'\u001b[0m\u001b[0;34m]\u001b[0m\u001b[0;34m\u001b[0m\u001b[0;34m\u001b[0m\u001b[0m\n\u001b[0;32m----> 2\u001b[0;31m \u001b[0mZtrain\u001b[0m\u001b[0;34m.\u001b[0m\u001b[0mshape\u001b[0m\u001b[0;34m\u001b[0m\u001b[0;34m\u001b[0m\u001b[0m\n\u001b[0m",
            "\u001b[0;31mNameError\u001b[0m: name 'Ztrain' is not defined"
          ]
        }
      ]
    },
    {
      "cell_type": "code",
      "source": [
        "Hiddenhigh.load_weights(checkpoint_filepath1)\n",
        "Ztrain=Hiddenhigh(Xtrain).numpy()\n",
        "Ztest=Hiddenhigh(Xtest).numpy()\n",
        "pca = PCA(n_components=0.95, svd_solver='full')\n",
        "Z=pca.fit_transform(Ztrain,)\n",
        "print(Z.shape)\n"
      ],
      "metadata": {
        "colab": {
          "base_uri": "https://localhost:8080/"
        },
        "id": "u6qe0gdTsyV4",
        "outputId": "c5977504-720c-4486-de1c-8d89c92cfc4e"
      },
      "execution_count": null,
      "outputs": [
        {
          "output_type": "stream",
          "name": "stdout",
          "text": [
            "(50000, 446)\n"
          ]
        }
      ]
    },
    {
      "cell_type": "code",
      "source": [
        "Z_ori=pca.inverse_transform(Z)\n",
        "Z_ori"
      ],
      "metadata": {
        "colab": {
          "base_uri": "https://localhost:8080/"
        },
        "id": "Glhk08shGYYr",
        "outputId": "e029686d-1c11-4cca-9ba7-92d08cf03e6c"
      },
      "execution_count": null,
      "outputs": [
        {
          "output_type": "execute_result",
          "data": {
            "text/plain": [
              "array([[ 0.5093925 ,  2.196933  ,  0.43605256, ...,  0.26611412,\n",
              "         2.3349907 ,  0.33363283],\n",
              "       [ 0.97276545,  2.0105295 ,  0.6427808 , ..., -0.61627674,\n",
              "         0.92432857,  0.46669233],\n",
              "       [ 0.9750508 , -0.10347903,  4.987162  , ...,  0.14697313,\n",
              "         0.06746337, -0.4145167 ],\n",
              "       ...,\n",
              "       [-0.46589515,  0.2532122 , 10.805473  , ...,  0.6532421 ,\n",
              "         0.08555219,  2.3226368 ],\n",
              "       [-0.22233203, -0.06563967,  0.15607452, ...,  0.97866565,\n",
              "         1.7786492 ,  0.14983988],\n",
              "       [ 0.45775923,  0.76937044, -0.65567255, ...,  1.6471362 ,\n",
              "         0.43570495,  5.449432  ]], dtype=float32)"
            ]
          },
          "metadata": {},
          "execution_count": 48
        }
      ]
    },
    {
      "cell_type": "code",
      "source": [
        "Znorm=LA.norm(Ztrain, axis=1)\n",
        "print(Znorm)\n",
        "Znorm=mean(Znorm)\n",
        "Znorm\n",
        "print(mean(np.square(LA.norm(Z_ori-Ztrain,axis=1))))\n",
        "np.sqrt(mean(np.square(LA.norm(Z_ori-Ztrain,axis=1))))/Znorm\n",
        "\n"
      ],
      "metadata": {
        "colab": {
          "base_uri": "https://localhost:8080/"
        },
        "id": "oLOXPTHwGish",
        "outputId": "2494e7d5-ada3-4dda-ff15-8f12c27d5978"
      },
      "execution_count": null,
      "outputs": [
        {
          "output_type": "stream",
          "name": "stdout",
          "text": [
            "[49.39302  74.11921  70.89166  ... 66.81949  73.45117  58.793556]\n",
            "129.30443\n"
          ]
        },
        {
          "output_type": "execute_result",
          "data": {
            "text/plain": [
              "0.20091024"
            ]
          },
          "metadata": {},
          "execution_count": 49
        }
      ]
    },
    {
      "cell_type": "code",
      "source": [
        "auto_input = tf.keras.Input(shape=(776,))\n",
        "encoder = Dense(461, activation='relu')(auto_input)\n",
        "decoder = Dense(776, activation='linear')(encoder)\n",
        "\n",
        "Autoencoder = tf.keras.Model(auto_input, decoder)\n",
        "Encoder=tf.keras.Model(auto_input,encoder)\n",
        "\n",
        "# Configure the model and start training\n",
        "Autoencoder.compile(loss='mse', optimizer='adam', metrics=['mse'])\n",
        "time1=time.time()\n",
        "history1= Autoencoder.fit(Ztrain, Ztrain, epochs=100, batch_size=500, verbose=1, validation_data=(Ztest,Ztest))\n",
        "time2=time.time()-time1"
      ],
      "metadata": {
        "id": "rEg-p1LMvldf"
      },
      "execution_count": null,
      "outputs": []
    },
    {
      "cell_type": "code",
      "source": [
        "print(history1.history.keys())\n",
        "\n",
        "plt.plot(np.sqrt(np.array(history1.history['loss'][80:200]))/Znorm)\n",
        "plt.plot(np.sqrt(np.array(history1.history['val_loss'][80:200]))/Znorm)\n",
        "\n",
        "\n",
        "plt.title('rescaled RMSE')\n",
        "plt.ylabel('rescaled RMSE')\n",
        "plt.xlabel('epoch')\n",
        "plt.legend(['train', 'test'], loc='upper left')\n",
        "plt.show()\n",
        "\n"
      ],
      "metadata": {
        "colab": {
          "base_uri": "https://localhost:8080/",
          "height": 313
        },
        "id": "IbC0jfqtyJ0L",
        "outputId": "498a3dd7-29f0-4206-c016-b1e2d2366a83"
      },
      "execution_count": null,
      "outputs": [
        {
          "output_type": "stream",
          "name": "stdout",
          "text": [
            "dict_keys(['loss', 'mse', 'val_loss', 'val_mse'])\n"
          ]
        },
        {
          "output_type": "display_data",
          "data": {
            "text/plain": [
              "<Figure size 432x288 with 1 Axes>"
            ],
            "image/png": "[encoded data removed]"
          },
          "metadata": {
            "needs_background": "light"
          }
        }
      ]
    },
    {
      "cell_type": "code",
      "source": [
        "plt.plot(history1.history['loss'][50:200])\n",
        "plt.plot(history1.history['val_loss'][50:200])\n",
        "plt.title('loss function')\n",
        "plt.ylabel('loss function')\n",
        "plt.xlabel('epoch')\n",
        "plt.legend(['train', 'test'], loc='upper left')\n",
        "plt.show()"
      ],
      "metadata": {
        "colab": {
          "base_uri": "https://localhost:8080/",
          "height": 295
        },
        "id": "_Jtfpk9HH8Xz",
        "outputId": "18ac4ff4-c137-44df-c416-58d875c8aae1"
      },
      "execution_count": null,
      "outputs": [
        {
          "output_type": "display_data",
          "data": {
            "text/plain": [
              "<Figure size 432x288 with 1 Axes>"
            ],
            "image/png": "[encoded data removed]"
          },
          "metadata": {
            "needs_background": "light"
          }
        }
      ]
    },
    {
      "cell_type": "code",
      "source": [
        "Ktrain=Encoder(Ztrain).numpy()\n",
        "Ktest=Encoder(Ztest).numpy()\n"
      ],
      "metadata": {
        "id": "bIYIDOL6LuPY"
      },
      "execution_count": null,
      "outputs": []
    },
    {
      "cell_type": "code",
      "source": [
        "print(Ktest.shape)\n",
        "pca = PCA(n_components=0.99, svd_solver='full')\n",
        "K=pca.fit_transform(Ktrain,)\n",
        "print(K.shape)\n",
        "\n"
      ],
      "metadata": {
        "colab": {
          "base_uri": "https://localhost:8080/"
        },
        "id": "LupdcXctMJ5Q",
        "outputId": "169ae37c-7133-47a1-8484-4c083b208b56"
      },
      "execution_count": null,
      "outputs": [
        {
          "output_type": "stream",
          "name": "stdout",
          "text": [
            "(10000, 461)\n",
            "(50000, 359)\n"
          ]
        }
      ]
    },
    {
      "cell_type": "code",
      "source": [
        "inputlong = tf.keras.Input(shape=461)\n",
        "hiddenlong = Dense(175, activation='relu')(inputlong)\n",
        "outputlong = Dense(10, activation='softmax')(hiddenlong)\n",
        "\n",
        "MLPlong = tf.keras.Model(inputlong, outputlong)\n",
        "MLPlong.summary()\n",
        "Hiddenlong=tf.keras.Model(inputlong,hiddenlong)\n",
        "loss = tf.keras.losses.CategoricalCrossentropy()\n"
      ],
      "metadata": {
        "colab": {
          "base_uri": "https://localhost:8080/"
        },
        "id": "4mu1cGsxL-C8",
        "outputId": "cc4b7313-3381-400f-e638-82c0b381d2b6"
      },
      "execution_count": null,
      "outputs": [
        {
          "output_type": "stream",
          "name": "stdout",
          "text": [
            "Model: \"model_24\"\n",
            "_________________________________________________________________\n",
            " Layer (type)                Output Shape              Param #   \n",
            "=================================================================\n",
            " input_13 (InputLayer)       [(None, 461)]             0         \n",
            "                                                                 \n",
            " dense_24 (Dense)            (None, 175)               80850     \n",
            "                                                                 \n",
            " dense_25 (Dense)            (None, 10)                1760      \n",
            "                                                                 \n",
            "=================================================================\n",
            "Total params: 82,610\n",
            "Trainable params: 82,610\n",
            "Non-trainable params: 0\n",
            "_________________________________________________________________\n"
          ]
        }
      ]
    },
    {
      "cell_type": "code",
      "source": [
        "checkpoint_filepath2 = '/tmp/checkpoint2'\n",
        "model_checkpoint_callback2 = tf.keras.callbacks.ModelCheckpoint(\n",
        "    filepath=checkpoint_filepath2,\n",
        "    save_weights_only=True,\n",
        "    monitor='val_loss',\n",
        "    mode='min',\n",
        "    save_best_only=True)"
      ],
      "metadata": {
        "id": "W_s4JLKdMnu_"
      },
      "execution_count": null,
      "outputs": []
    },
    {
      "cell_type": "code",
      "source": [
        "MLPlong.compile(loss=loss, optimizer='adam', metrics=['accuracy'])\n",
        "time1=time.time()\n",
        "history=MLPlong.fit(Ktrain, Y_train, epochs=150, batch_size=500, verbose=1, validation_data=(Ktest,Y_test),callbacks=[model_checkpoint_callback2])\n",
        "time2=time.time()-time1"
      ],
      "metadata": {
        "id": "CqYYKiPEMvVW"
      },
      "execution_count": null,
      "outputs": []
    },
    {
      "cell_type": "code",
      "source": [
        "plt.plot(history.history['accuracy'])\n",
        "plt.plot(history.history['val_accuracy'])\n",
        "plt.title('model accuracy')\n",
        "plt.ylabel('accuracy')\n",
        "plt.xlabel('epoch')\n",
        "plt.legend(['train', 'test'], loc='upper left')\n",
        "\n",
        "plt.show()\n",
        "\n",
        "plt.plot(history.history['loss'])\n",
        "plt.plot(history.history['val_loss'])\n",
        "plt.title('loss function')\n",
        "plt.ylabel('loss function')\n",
        "plt.xlabel('epoch')\n",
        "plt.legend(['train', 'test'], loc='upper left')\n",
        "plt.show()\n"
      ],
      "metadata": {
        "colab": {
          "base_uri": "https://localhost:8080/",
          "height": 573
        },
        "id": "bQ9kojMLPPsV",
        "outputId": "db0f8894-3538-4013-91fd-407f802bb4f1"
      },
      "execution_count": null,
      "outputs": [
        {
          "output_type": "display_data",
          "data": {
            "text/plain": [
              "<Figure size 432x288 with 1 Axes>"
            ],
            "image/png": "[encoded data removed]"
          },
          "metadata": {
            "needs_background": "light"
          }
        },
        {
          "output_type": "display_data",
          "data": {
            "text/plain": [
              "<Figure size 432x288 with 1 Axes>"
            ],
            "image/png": "[encoded data removed]"
          },
          "metadata": {
            "needs_background": "light"
          }
        }
      ]
    },
    {
      "cell_type": "code",
      "source": [
        "time2"
      ],
      "metadata": {
        "colab": {
          "base_uri": "https://localhost:8080/"
        },
        "id": "tMlhJxidlVS4",
        "outputId": "b1283327-be5a-4105-e123-2c54627897a0"
      },
      "execution_count": null,
      "outputs": [
        {
          "output_type": "execute_result",
          "data": {
            "text/plain": [
              "49.69844341278076"
            ]
          },
          "metadata": {},
          "execution_count": 61
        }
      ]
    },
    {
      "cell_type": "code",
      "source": [
        "from sklearn.metrics import accuracy_score\n",
        "MLPlong.load_weights(checkpoint_filepath2)\n",
        "Ytrain= MLPlong(Ktrain)\n",
        "CMtrain = tf.math.confusion_matrix(np.argmax(Ytrain.numpy(),axis=1),np.argmax(Y_train,axis=1)).numpy()\n",
        "\n",
        "print(accuracy_score(np.argmax(Ytrain.numpy(),axis=1),np.argmax(Y_train,axis=1)))\n",
        "print(CMtrain/5000)\n",
        "Ytest=MLPlong(Ktest)\n",
        "CMtest= tf.math.confusion_matrix(np.argmax(Ytest.numpy(),axis=1),np.argmax(Y_test,axis=1)).numpy()\n",
        "print(accuracy_score(np.argmax(Ytest.numpy(),axis=1),np.argmax(Y_test,axis=1)))\n",
        "print(CMtest/1000)\n",
        "\n"
      ],
      "metadata": {
        "colab": {
          "base_uri": "https://localhost:8080/"
        },
        "id": "nuW66STcSgDH",
        "outputId": "44ec93df-fe11-4bb5-c3b3-e0ac2244509e"
      },
      "execution_count": null,
      "outputs": [
        {
          "output_type": "stream",
          "name": "stdout",
          "text": [
            "0.62172\n",
            "[[0.6534 0.034  0.1202 0.0332 0.0826 0.0268 0.0298 0.0322 0.106  0.0358]\n",
            " [0.0332 0.7716 0.017  0.0234 0.024  0.0148 0.0364 0.0122 0.0602 0.105 ]\n",
            " [0.0732 0.0046 0.4844 0.071  0.1688 0.0696 0.0428 0.03   0.0152 0.005 ]\n",
            " [0.0162 0.0102 0.0998 0.5328 0.111  0.1966 0.0686 0.0708 0.0206 0.0222]\n",
            " [0.0166 0.0058 0.07   0.0496 0.351  0.0354 0.027  0.03   0.0092 0.0066]\n",
            " [0.0084 0.002  0.0656 0.0968 0.0426 0.5022 0.0172 0.0538 0.0044 0.0078]\n",
            " [0.0224 0.0262 0.0634 0.0812 0.09   0.058  0.7332 0.0118 0.0126 0.0154]\n",
            " [0.0104 0.0066 0.0216 0.0384 0.0526 0.0556 0.0036 0.7176 0.0022 0.0126]\n",
            " [0.1322 0.0618 0.0362 0.0302 0.0462 0.0188 0.0148 0.0132 0.7342 0.0528]\n",
            " [0.034  0.0772 0.0218 0.0434 0.0312 0.0222 0.0266 0.0284 0.0354 0.7368]]\n",
            "0.4465\n",
            "[[0.516 0.046 0.116 0.064 0.103 0.053 0.046 0.047 0.141 0.051]\n",
            " [0.037 0.562 0.031 0.042 0.027 0.017 0.07  0.028 0.087 0.189]\n",
            " [0.098 0.004 0.366 0.094 0.162 0.085 0.084 0.051 0.021 0.014]\n",
            " [0.023 0.025 0.128 0.322 0.107 0.251 0.118 0.095 0.039 0.045]\n",
            " [0.032 0.018 0.066 0.073 0.234 0.044 0.047 0.043 0.012 0.016]\n",
            " [0.014 0.006 0.084 0.126 0.069 0.322 0.036 0.088 0.015 0.018]\n",
            " [0.041 0.062 0.099 0.122 0.135 0.076 0.518 0.037 0.025 0.029]\n",
            " [0.026 0.012 0.043 0.071 0.086 0.083 0.016 0.516 0.018 0.04 ]\n",
            " [0.165 0.104 0.045 0.03  0.048 0.027 0.021 0.031 0.59  0.079]\n",
            " [0.048 0.161 0.022 0.056 0.029 0.042 0.044 0.064 0.052 0.519]]\n"
          ]
        }
      ]
    },
    {
      "cell_type": "code",
      "source": [
        "### multiple MLP\n",
        "MLPlist=[]\n",
        "Acclist=[]\n",
        "for i in range(10):\n",
        "  inputlong = tf.keras.Input(shape=461)\n",
        "  hiddenlong = Dense(175, activation='relu')(inputlong)\n",
        "  outputlong = Dense(10, activation='softmax')(hiddenlong)\n",
        "\n",
        "  MLPlong = tf.keras.Model(inputlong, outputlong)\n",
        "\n",
        "  Hiddenlong=tf.keras.Model(inputlong,hiddenlong)\n",
        "  loss = tf.keras.losses.CategoricalCrossentropy()\n",
        "\n",
        "  \n",
        "  checkpoint_filepath = '/tmp/checkpoint'\n",
        "  model_checkpoint_callback = tf.keras.callbacks.ModelCheckpoint(\n",
        "    filepath=checkpoint_filepath,\n",
        "    save_weights_only=True,\n",
        "    monitor='val_loss',\n",
        "    mode='min',\n",
        "    save_best_only=True)\n",
        "  MLPlong.compile(loss=loss, optimizer='adam', metrics=['accuracy'])\n",
        "  history=MLPlong.fit(Ktrain, Y_train, epochs=20, batch_size=1000, verbose=1, validation_split=0.2,callbacks=[model_checkpoint_callback])\n",
        "  MLPlong.load_weights(checkpoint_filepath)\n",
        "  Acclist.append(accuracy_score(np.argmax(Ytest.numpy(),axis=1),np.argmax(Y_test,axis=1)))\n",
        "  MLPlist.append(MLPlong)"
      ],
      "metadata": {
        "colab": {
          "base_uri": "https://localhost:8080/"
        },
        "id": "xev3dhHZr2k-",
        "outputId": "36a1fc5d-49b9-4613-a291-4758dbcc30ba"
      },
      "execution_count": null,
      "outputs": [
        {
          "output_type": "stream",
          "name": "stdout",
          "text": [
            "Epoch 1/20\n",
            "40/40 [==============================] - 2s 31ms/step - loss: 2.8751 - accuracy: 0.1608 - val_loss: 2.3083 - val_accuracy: 0.2169\n",
            "Epoch 2/20\n",
            "40/40 [==============================] - 1s 24ms/step - loss: 2.0886 - accuracy: 0.2731 - val_loss: 1.9228 - val_accuracy: 0.3253\n",
            "Epoch 3/20\n",
            "40/40 [==============================] - 1s 25ms/step - loss: 1.7850 - accuracy: 0.3743 - val_loss: 1.6803 - val_accuracy: 0.4099\n",
            "Epoch 4/20\n",
            "40/40 [==============================] - 1s 20ms/step - loss: 1.5657 - accuracy: 0.4518 - val_loss: 1.4933 - val_accuracy: 0.4864\n",
            "Epoch 5/20\n",
            "40/40 [==============================] - 1s 23ms/step - loss: 1.4041 - accuracy: 0.5121 - val_loss: 1.3724 - val_accuracy: 0.5310\n",
            "Epoch 6/20\n",
            "40/40 [==============================] - 1s 25ms/step - loss: 1.2802 - accuracy: 0.5605 - val_loss: 1.2447 - val_accuracy: 0.5780\n",
            "Epoch 7/20\n",
            "40/40 [==============================] - 1s 23ms/step - loss: 1.1818 - accuracy: 0.5977 - val_loss: 1.1703 - val_accuracy: 0.6055\n",
            "Epoch 8/20\n",
            "40/40 [==============================] - 2s 38ms/step - loss: 1.1072 - accuracy: 0.6276 - val_loss: 1.1004 - val_accuracy: 0.6288\n",
            "Epoch 9/20\n",
            "40/40 [==============================] - 1s 23ms/step - loss: 1.0493 - accuracy: 0.6489 - val_loss: 1.0594 - val_accuracy: 0.6437\n",
            "Epoch 10/20\n",
            "40/40 [==============================] - 1s 24ms/step - loss: 0.9918 - accuracy: 0.6700 - val_loss: 1.0012 - val_accuracy: 0.6669\n",
            "Epoch 11/20\n",
            "40/40 [==============================] - 1s 22ms/step - loss: 0.9539 - accuracy: 0.6839 - val_loss: 0.9613 - val_accuracy: 0.6826\n",
            "Epoch 12/20\n",
            "40/40 [==============================] - 1s 23ms/step - loss: 0.9251 - accuracy: 0.6901 - val_loss: 0.9599 - val_accuracy: 0.6761\n",
            "Epoch 13/20\n",
            "40/40 [==============================] - 1s 24ms/step - loss: 0.8956 - accuracy: 0.7033 - val_loss: 0.9120 - val_accuracy: 0.6969\n",
            "Epoch 14/20\n",
            "40/40 [==============================] - 1s 14ms/step - loss: 0.8769 - accuracy: 0.7069 - val_loss: 0.9248 - val_accuracy: 0.6884\n",
            "Epoch 15/20\n",
            "40/40 [==============================] - 1s 15ms/step - loss: 0.8582 - accuracy: 0.7123 - val_loss: 0.8872 - val_accuracy: 0.7002\n",
            "Epoch 16/20\n",
            "40/40 [==============================] - 1s 14ms/step - loss: 0.8417 - accuracy: 0.7159 - val_loss: 0.8601 - val_accuracy: 0.7085\n",
            "Epoch 17/20\n",
            "40/40 [==============================] - 1s 15ms/step - loss: 0.8154 - accuracy: 0.7284 - val_loss: 0.8513 - val_accuracy: 0.7144\n",
            "Epoch 18/20\n",
            "40/40 [==============================] - 1s 14ms/step - loss: 0.8047 - accuracy: 0.7286 - val_loss: 0.8558 - val_accuracy: 0.7095\n",
            "Epoch 19/20\n",
            "40/40 [==============================] - 1s 14ms/step - loss: 0.7972 - accuracy: 0.7304 - val_loss: 0.8328 - val_accuracy: 0.7193\n",
            "Epoch 20/20\n",
            "40/40 [==============================] - 1s 15ms/step - loss: 0.7973 - accuracy: 0.7284 - val_loss: 0.8444 - val_accuracy: 0.7160\n",
            "Epoch 1/20\n",
            "40/40 [==============================] - 1s 18ms/step - loss: 2.7664 - accuracy: 0.1550 - val_loss: 2.2009 - val_accuracy: 0.2295\n",
            "Epoch 2/20\n",
            "40/40 [==============================] - 1s 14ms/step - loss: 2.0407 - accuracy: 0.2791 - val_loss: 1.8833 - val_accuracy: 0.3390\n",
            "Epoch 3/20\n",
            "40/40 [==============================] - 1s 14ms/step - loss: 1.7599 - accuracy: 0.3807 - val_loss: 1.6520 - val_accuracy: 0.4256\n",
            "Epoch 4/20\n",
            "40/40 [==============================] - 1s 14ms/step - loss: 1.5530 - accuracy: 0.4600 - val_loss: 1.4720 - val_accuracy: 0.4977\n",
            "Epoch 5/20\n",
            "40/40 [==============================] - 1s 15ms/step - loss: 1.4010 - accuracy: 0.5204 - val_loss: 1.3472 - val_accuracy: 0.5404\n",
            "Epoch 6/20\n",
            "40/40 [==============================] - 1s 14ms/step - loss: 1.2805 - accuracy: 0.5655 - val_loss: 1.2493 - val_accuracy: 0.5758\n",
            "Epoch 7/20\n",
            "40/40 [==============================] - 1s 15ms/step - loss: 1.1849 - accuracy: 0.6018 - val_loss: 1.1768 - val_accuracy: 0.6045\n",
            "Epoch 8/20\n",
            "40/40 [==============================] - 1s 15ms/step - loss: 1.1163 - accuracy: 0.6270 - val_loss: 1.1145 - val_accuracy: 0.6225\n",
            "Epoch 9/20\n",
            "40/40 [==============================] - 1s 14ms/step - loss: 1.0531 - accuracy: 0.6482 - val_loss: 1.0527 - val_accuracy: 0.6485\n",
            "Epoch 10/20\n",
            "40/40 [==============================] - 1s 15ms/step - loss: 1.0101 - accuracy: 0.6647 - val_loss: 1.0229 - val_accuracy: 0.6558\n",
            "Epoch 11/20\n",
            "40/40 [==============================] - 1s 15ms/step - loss: 0.9676 - accuracy: 0.6772 - val_loss: 0.9818 - val_accuracy: 0.6667\n",
            "Epoch 12/20\n",
            "40/40 [==============================] - 1s 15ms/step - loss: 0.9368 - accuracy: 0.6891 - val_loss: 0.9453 - val_accuracy: 0.6855\n",
            "Epoch 13/20\n",
            "40/40 [==============================] - 1s 14ms/step - loss: 0.9072 - accuracy: 0.6979 - val_loss: 0.9490 - val_accuracy: 0.6802\n",
            "Epoch 14/20\n",
            "40/40 [==============================] - 1s 15ms/step - loss: 0.8861 - accuracy: 0.7045 - val_loss: 0.9147 - val_accuracy: 0.6894\n",
            "Epoch 15/20\n",
            "40/40 [==============================] - 1s 14ms/step - loss: 0.8702 - accuracy: 0.7101 - val_loss: 0.8899 - val_accuracy: 0.7022\n",
            "Epoch 16/20\n",
            "40/40 [==============================] - 1s 14ms/step - loss: 0.8429 - accuracy: 0.7178 - val_loss: 0.8813 - val_accuracy: 0.7027\n",
            "Epoch 17/20\n",
            "40/40 [==============================] - 1s 15ms/step - loss: 0.8378 - accuracy: 0.7196 - val_loss: 0.8711 - val_accuracy: 0.7056\n",
            "Epoch 18/20\n",
            "40/40 [==============================] - 1s 14ms/step - loss: 0.8235 - accuracy: 0.7217 - val_loss: 0.8642 - val_accuracy: 0.7027\n",
            "Epoch 19/20\n",
            "40/40 [==============================] - 1s 14ms/step - loss: 0.8127 - accuracy: 0.7257 - val_loss: 0.8571 - val_accuracy: 0.7094\n",
            "Epoch 20/20\n",
            "40/40 [==============================] - 1s 14ms/step - loss: 0.7969 - accuracy: 0.7324 - val_loss: 0.8283 - val_accuracy: 0.7196\n",
            "Epoch 1/20\n",
            "40/40 [==============================] - 1s 18ms/step - loss: 3.1859 - accuracy: 0.1390 - val_loss: 2.3379 - val_accuracy: 0.1911\n",
            "Epoch 2/20\n",
            "40/40 [==============================] - 1s 15ms/step - loss: 2.1585 - accuracy: 0.2458 - val_loss: 2.0001 - val_accuracy: 0.2978\n",
            "Epoch 3/20\n",
            "40/40 [==============================] - 1s 14ms/step - loss: 1.8838 - accuracy: 0.3447 - val_loss: 1.7708 - val_accuracy: 0.3831\n",
            "Epoch 4/20\n",
            "40/40 [==============================] - 1s 15ms/step - loss: 1.6870 - accuracy: 0.4145 - val_loss: 1.6129 - val_accuracy: 0.4477\n",
            "Epoch 5/20\n",
            "40/40 [==============================] - 1s 14ms/step - loss: 1.5246 - accuracy: 0.4729 - val_loss: 1.4776 - val_accuracy: 0.4946\n",
            "Epoch 6/20\n",
            "40/40 [==============================] - 1s 15ms/step - loss: 1.4035 - accuracy: 0.5194 - val_loss: 1.3704 - val_accuracy: 0.5357\n",
            "Epoch 7/20\n",
            "40/40 [==============================] - 1s 14ms/step - loss: 1.2999 - accuracy: 0.5598 - val_loss: 1.2712 - val_accuracy: 0.5711\n",
            "Epoch 8/20\n",
            "40/40 [==============================] - 1s 15ms/step - loss: 1.2125 - accuracy: 0.5936 - val_loss: 1.2060 - val_accuracy: 0.5886\n",
            "Epoch 9/20\n",
            "40/40 [==============================] - 1s 15ms/step - loss: 1.1460 - accuracy: 0.6184 - val_loss: 1.1361 - val_accuracy: 0.6197\n",
            "Epoch 10/20\n",
            "40/40 [==============================] - 1s 14ms/step - loss: 1.0817 - accuracy: 0.6432 - val_loss: 1.0859 - val_accuracy: 0.6399\n",
            "Epoch 11/20\n",
            "40/40 [==============================] - 1s 15ms/step - loss: 1.0364 - accuracy: 0.6569 - val_loss: 1.0421 - val_accuracy: 0.6572\n",
            "Epoch 12/20\n",
            "40/40 [==============================] - 1s 14ms/step - loss: 0.9910 - accuracy: 0.6739 - val_loss: 1.0065 - val_accuracy: 0.6643\n",
            "Epoch 13/20\n",
            "40/40 [==============================] - 1s 14ms/step - loss: 0.9556 - accuracy: 0.6855 - val_loss: 0.9690 - val_accuracy: 0.6841\n",
            "Epoch 14/20\n",
            "40/40 [==============================] - 1s 14ms/step - loss: 0.9269 - accuracy: 0.6946 - val_loss: 0.9592 - val_accuracy: 0.6829\n",
            "Epoch 15/20\n",
            "40/40 [==============================] - 1s 14ms/step - loss: 0.9021 - accuracy: 0.7015 - val_loss: 0.9167 - val_accuracy: 0.6974\n",
            "Epoch 16/20\n",
            "40/40 [==============================] - 1s 15ms/step - loss: 0.8713 - accuracy: 0.7122 - val_loss: 0.8988 - val_accuracy: 0.7002\n",
            "Epoch 17/20\n",
            "40/40 [==============================] - 1s 14ms/step - loss: 0.8550 - accuracy: 0.7172 - val_loss: 0.8808 - val_accuracy: 0.7072\n",
            "Epoch 18/20\n",
            "40/40 [==============================] - 1s 15ms/step - loss: 0.8434 - accuracy: 0.7192 - val_loss: 0.8859 - val_accuracy: 0.7046\n",
            "Epoch 19/20\n",
            "40/40 [==============================] - 1s 14ms/step - loss: 0.8254 - accuracy: 0.7252 - val_loss: 0.8617 - val_accuracy: 0.7117\n",
            "Epoch 20/20\n",
            "40/40 [==============================] - 1s 14ms/step - loss: 0.8107 - accuracy: 0.7293 - val_loss: 0.8680 - val_accuracy: 0.7056\n",
            "Epoch 1/20\n",
            "40/40 [==============================] - 1s 18ms/step - loss: 3.2114 - accuracy: 0.1336 - val_loss: 2.3742 - val_accuracy: 0.1739\n",
            "Epoch 2/20\n",
            "40/40 [==============================] - 1s 15ms/step - loss: 2.1880 - accuracy: 0.2278 - val_loss: 2.0382 - val_accuracy: 0.2721\n",
            "Epoch 3/20\n",
            "40/40 [==============================] - 1s 14ms/step - loss: 1.8964 - accuracy: 0.3248 - val_loss: 1.7765 - val_accuracy: 0.3688\n",
            "Epoch 4/20\n",
            "40/40 [==============================] - 1s 15ms/step - loss: 1.6848 - accuracy: 0.4023 - val_loss: 1.6056 - val_accuracy: 0.4329\n",
            "Epoch 5/20\n",
            "40/40 [==============================] - 1s 14ms/step - loss: 1.5167 - accuracy: 0.4684 - val_loss: 1.4661 - val_accuracy: 0.4890\n",
            "Epoch 6/20\n",
            "40/40 [==============================] - 1s 14ms/step - loss: 1.3926 - accuracy: 0.5186 - val_loss: 1.3580 - val_accuracy: 0.5283\n",
            "Epoch 7/20\n",
            "40/40 [==============================] - 1s 14ms/step - loss: 1.2938 - accuracy: 0.5570 - val_loss: 1.2617 - val_accuracy: 0.5694\n",
            "Epoch 8/20\n",
            "40/40 [==============================] - 1s 15ms/step - loss: 1.2070 - accuracy: 0.5918 - val_loss: 1.2128 - val_accuracy: 0.5855\n",
            "Epoch 9/20\n",
            "40/40 [==============================] - 1s 15ms/step - loss: 1.1419 - accuracy: 0.6154 - val_loss: 1.1274 - val_accuracy: 0.6205\n",
            "Epoch 10/20\n",
            "40/40 [==============================] - 1s 14ms/step - loss: 1.0799 - accuracy: 0.6392 - val_loss: 1.0859 - val_accuracy: 0.6335\n",
            "Epoch 11/20\n",
            "40/40 [==============================] - 1s 14ms/step - loss: 1.0277 - accuracy: 0.6588 - val_loss: 1.0448 - val_accuracy: 0.6487\n",
            "Epoch 12/20\n",
            "40/40 [==============================] - 1s 15ms/step - loss: 0.9882 - accuracy: 0.6726 - val_loss: 1.0018 - val_accuracy: 0.6611\n",
            "Epoch 13/20\n",
            "40/40 [==============================] - 1s 15ms/step - loss: 0.9520 - accuracy: 0.6852 - val_loss: 0.9619 - val_accuracy: 0.6756\n",
            "Epoch 14/20\n",
            "40/40 [==============================] - 1s 14ms/step - loss: 0.9196 - accuracy: 0.6955 - val_loss: 0.9328 - val_accuracy: 0.6896\n",
            "Epoch 15/20\n",
            "40/40 [==============================] - 1s 15ms/step - loss: 0.9012 - accuracy: 0.7006 - val_loss: 0.9169 - val_accuracy: 0.6890\n",
            "Epoch 16/20\n",
            "40/40 [==============================] - 1s 15ms/step - loss: 0.8710 - accuracy: 0.7097 - val_loss: 0.8968 - val_accuracy: 0.6998\n",
            "Epoch 17/20\n",
            "40/40 [==============================] - 1s 15ms/step - loss: 0.8551 - accuracy: 0.7146 - val_loss: 0.8755 - val_accuracy: 0.7072\n",
            "Epoch 18/20\n",
            "40/40 [==============================] - 1s 15ms/step - loss: 0.8364 - accuracy: 0.7219 - val_loss: 0.8705 - val_accuracy: 0.7049\n",
            "Epoch 19/20\n",
            "40/40 [==============================] - 1s 15ms/step - loss: 0.8241 - accuracy: 0.7244 - val_loss: 0.8483 - val_accuracy: 0.7175\n",
            "Epoch 20/20\n",
            "40/40 [==============================] - 1s 15ms/step - loss: 0.8128 - accuracy: 0.7265 - val_loss: 0.8519 - val_accuracy: 0.7116\n",
            "Epoch 1/20\n",
            "40/40 [==============================] - 1s 18ms/step - loss: 2.8267 - accuracy: 0.1654 - val_loss: 2.2097 - val_accuracy: 0.2322\n",
            "Epoch 2/20\n",
            "40/40 [==============================] - 1s 15ms/step - loss: 2.0488 - accuracy: 0.2826 - val_loss: 1.8902 - val_accuracy: 0.3500\n",
            "Epoch 3/20\n",
            "40/40 [==============================] - 1s 14ms/step - loss: 1.7726 - accuracy: 0.3783 - val_loss: 1.6621 - val_accuracy: 0.4217\n",
            "Epoch 4/20\n",
            "40/40 [==============================] - 1s 15ms/step - loss: 1.5617 - accuracy: 0.4609 - val_loss: 1.4748 - val_accuracy: 0.4934\n",
            "Epoch 5/20\n",
            "40/40 [==============================] - 1s 14ms/step - loss: 1.4006 - accuracy: 0.5217 - val_loss: 1.3461 - val_accuracy: 0.5393\n",
            "Epoch 6/20\n",
            "40/40 [==============================] - 1s 15ms/step - loss: 1.2805 - accuracy: 0.5674 - val_loss: 1.2354 - val_accuracy: 0.5820\n",
            "Epoch 7/20\n",
            "40/40 [==============================] - 1s 15ms/step - loss: 1.1904 - accuracy: 0.6002 - val_loss: 1.1616 - val_accuracy: 0.6055\n",
            "Epoch 8/20\n",
            "40/40 [==============================] - 1s 15ms/step - loss: 1.1115 - accuracy: 0.6288 - val_loss: 1.1029 - val_accuracy: 0.6288\n",
            "Epoch 9/20\n",
            "40/40 [==============================] - 1s 15ms/step - loss: 1.0508 - accuracy: 0.6529 - val_loss: 1.0409 - val_accuracy: 0.6550\n",
            "Epoch 10/20\n",
            "40/40 [==============================] - 1s 14ms/step - loss: 1.0000 - accuracy: 0.6700 - val_loss: 1.0012 - val_accuracy: 0.6680\n",
            "Epoch 11/20\n",
            "40/40 [==============================] - 1s 15ms/step - loss: 0.9677 - accuracy: 0.6806 - val_loss: 0.9728 - val_accuracy: 0.6762\n",
            "Epoch 12/20\n",
            "40/40 [==============================] - 1s 14ms/step - loss: 0.9308 - accuracy: 0.6928 - val_loss: 0.9277 - val_accuracy: 0.6930\n",
            "Epoch 13/20\n",
            "40/40 [==============================] - 1s 15ms/step - loss: 0.8988 - accuracy: 0.7035 - val_loss: 0.9302 - val_accuracy: 0.6893\n",
            "Epoch 14/20\n",
            "40/40 [==============================] - 1s 15ms/step - loss: 0.8797 - accuracy: 0.7084 - val_loss: 0.9038 - val_accuracy: 0.6973\n",
            "Epoch 15/20\n",
            "40/40 [==============================] - 1s 14ms/step - loss: 0.8610 - accuracy: 0.7142 - val_loss: 0.8762 - val_accuracy: 0.7106\n",
            "Epoch 16/20\n",
            "40/40 [==============================] - 1s 14ms/step - loss: 0.8416 - accuracy: 0.7205 - val_loss: 0.8779 - val_accuracy: 0.7037\n",
            "Epoch 17/20\n",
            "40/40 [==============================] - 1s 15ms/step - loss: 0.8264 - accuracy: 0.7249 - val_loss: 0.8657 - val_accuracy: 0.7125\n",
            "Epoch 18/20\n",
            "40/40 [==============================] - 1s 15ms/step - loss: 0.8162 - accuracy: 0.7272 - val_loss: 0.8387 - val_accuracy: 0.7181\n",
            "Epoch 19/20\n",
            "40/40 [==============================] - 1s 15ms/step - loss: 0.7978 - accuracy: 0.7349 - val_loss: 0.8258 - val_accuracy: 0.7200\n",
            "Epoch 20/20\n",
            "40/40 [==============================] - 1s 15ms/step - loss: 0.7933 - accuracy: 0.7331 - val_loss: 0.8473 - val_accuracy: 0.7064\n",
            "Epoch 1/20\n",
            "40/40 [==============================] - 1s 18ms/step - loss: 2.9210 - accuracy: 0.1664 - val_loss: 2.2048 - val_accuracy: 0.2315\n",
            "Epoch 2/20\n",
            "40/40 [==============================] - 1s 15ms/step - loss: 2.0444 - accuracy: 0.2807 - val_loss: 1.8696 - val_accuracy: 0.3324\n",
            "Epoch 3/20\n",
            "40/40 [==============================] - 1s 15ms/step - loss: 1.7660 - accuracy: 0.3716 - val_loss: 1.6435 - val_accuracy: 0.4194\n",
            "Epoch 4/20\n",
            "40/40 [==============================] - 1s 16ms/step - loss: 1.5538 - accuracy: 0.4525 - val_loss: 1.4626 - val_accuracy: 0.4857\n",
            "Epoch 5/20\n",
            "40/40 [==============================] - 1s 15ms/step - loss: 1.3914 - accuracy: 0.5197 - val_loss: 1.3246 - val_accuracy: 0.5404\n",
            "Epoch 6/20\n",
            "40/40 [==============================] - 1s 14ms/step - loss: 1.2643 - accuracy: 0.5698 - val_loss: 1.2252 - val_accuracy: 0.5820\n",
            "Epoch 7/20\n",
            "40/40 [==============================] - 1s 15ms/step - loss: 1.1677 - accuracy: 0.6076 - val_loss: 1.1397 - val_accuracy: 0.6131\n",
            "Epoch 8/20\n",
            "40/40 [==============================] - 1s 15ms/step - loss: 1.0899 - accuracy: 0.6394 - val_loss: 1.0623 - val_accuracy: 0.6439\n",
            "Epoch 9/20\n",
            "40/40 [==============================] - 1s 15ms/step - loss: 1.0269 - accuracy: 0.6599 - val_loss: 1.0183 - val_accuracy: 0.6596\n",
            "Epoch 10/20\n",
            "40/40 [==============================] - 1s 15ms/step - loss: 0.9847 - accuracy: 0.6738 - val_loss: 0.9861 - val_accuracy: 0.6687\n",
            "Epoch 11/20\n",
            "40/40 [==============================] - 1s 14ms/step - loss: 0.9403 - accuracy: 0.6882 - val_loss: 0.9514 - val_accuracy: 0.6795\n",
            "Epoch 12/20\n",
            "40/40 [==============================] - 1s 16ms/step - loss: 0.9039 - accuracy: 0.7027 - val_loss: 0.9251 - val_accuracy: 0.6864\n",
            "Epoch 13/20\n",
            "40/40 [==============================] - 1s 15ms/step - loss: 0.8786 - accuracy: 0.7109 - val_loss: 0.8994 - val_accuracy: 0.6980\n",
            "Epoch 14/20\n",
            "40/40 [==============================] - 1s 15ms/step - loss: 0.8606 - accuracy: 0.7152 - val_loss: 0.8812 - val_accuracy: 0.7037\n",
            "Epoch 15/20\n",
            "40/40 [==============================] - 1s 15ms/step - loss: 0.8370 - accuracy: 0.7235 - val_loss: 0.8730 - val_accuracy: 0.7057\n",
            "Epoch 16/20\n",
            "40/40 [==============================] - 1s 15ms/step - loss: 0.8308 - accuracy: 0.7218 - val_loss: 0.8552 - val_accuracy: 0.7125\n",
            "Epoch 17/20\n",
            "40/40 [==============================] - 1s 15ms/step - loss: 0.8091 - accuracy: 0.7280 - val_loss: 0.8310 - val_accuracy: 0.7226\n",
            "Epoch 18/20\n",
            "40/40 [==============================] - 1s 14ms/step - loss: 0.7945 - accuracy: 0.7333 - val_loss: 0.8459 - val_accuracy: 0.7134\n",
            "Epoch 19/20\n",
            "40/40 [==============================] - 1s 15ms/step - loss: 0.7940 - accuracy: 0.7332 - val_loss: 0.8140 - val_accuracy: 0.7303\n",
            "Epoch 20/20\n",
            "40/40 [==============================] - 1s 15ms/step - loss: 0.7785 - accuracy: 0.7386 - val_loss: 0.8258 - val_accuracy: 0.7220\n",
            "Epoch 1/20\n",
            "40/40 [==============================] - 1s 18ms/step - loss: 3.4309 - accuracy: 0.1289 - val_loss: 2.4089 - val_accuracy: 0.1757\n",
            "Epoch 2/20\n",
            "40/40 [==============================] - 1s 15ms/step - loss: 2.2341 - accuracy: 0.2203 - val_loss: 2.0784 - val_accuracy: 0.2682\n",
            "Epoch 3/20\n",
            "40/40 [==============================] - 1s 15ms/step - loss: 1.9603 - accuracy: 0.3120 - val_loss: 1.8557 - val_accuracy: 0.3542\n",
            "Epoch 4/20\n",
            "40/40 [==============================] - 1s 15ms/step - loss: 1.7540 - accuracy: 0.3864 - val_loss: 1.6671 - val_accuracy: 0.4215\n",
            "Epoch 5/20\n",
            "40/40 [==============================] - 1s 15ms/step - loss: 1.5891 - accuracy: 0.4470 - val_loss: 1.5256 - val_accuracy: 0.4775\n",
            "Epoch 6/20\n",
            "40/40 [==============================] - 1s 15ms/step - loss: 1.4531 - accuracy: 0.5007 - val_loss: 1.4064 - val_accuracy: 0.5191\n",
            "Epoch 7/20\n",
            "40/40 [==============================] - 1s 15ms/step - loss: 1.3376 - accuracy: 0.5451 - val_loss: 1.2992 - val_accuracy: 0.5644\n",
            "Epoch 8/20\n",
            "40/40 [==============================] - 1s 15ms/step - loss: 1.2461 - accuracy: 0.5801 - val_loss: 1.2236 - val_accuracy: 0.5869\n",
            "Epoch 9/20\n",
            "40/40 [==============================] - 1s 15ms/step - loss: 1.1693 - accuracy: 0.6104 - val_loss: 1.1394 - val_accuracy: 0.6219\n",
            "Epoch 10/20\n",
            "40/40 [==============================] - 1s 15ms/step - loss: 1.1015 - accuracy: 0.6349 - val_loss: 1.1079 - val_accuracy: 0.6274\n",
            "Epoch 11/20\n",
            "40/40 [==============================] - 1s 15ms/step - loss: 1.0506 - accuracy: 0.6545 - val_loss: 1.0421 - val_accuracy: 0.6570\n",
            "Epoch 12/20\n",
            "40/40 [==============================] - 1s 15ms/step - loss: 1.0033 - accuracy: 0.6722 - val_loss: 1.0021 - val_accuracy: 0.6649\n",
            "Epoch 13/20\n",
            "40/40 [==============================] - 1s 15ms/step - loss: 0.9545 - accuracy: 0.6881 - val_loss: 0.9701 - val_accuracy: 0.6767\n",
            "Epoch 14/20\n",
            "40/40 [==============================] - 1s 15ms/step - loss: 0.9280 - accuracy: 0.6963 - val_loss: 0.9610 - val_accuracy: 0.6775\n",
            "Epoch 15/20\n",
            "40/40 [==============================] - 1s 15ms/step - loss: 0.9060 - accuracy: 0.7030 - val_loss: 0.9272 - val_accuracy: 0.6915\n",
            "Epoch 16/20\n",
            "40/40 [==============================] - 1s 15ms/step - loss: 0.8874 - accuracy: 0.7077 - val_loss: 0.9091 - val_accuracy: 0.6937\n",
            "Epoch 17/20\n",
            "40/40 [==============================] - 1s 16ms/step - loss: 0.8646 - accuracy: 0.7148 - val_loss: 0.8786 - val_accuracy: 0.7095\n",
            "Epoch 18/20\n",
            "40/40 [==============================] - 1s 15ms/step - loss: 0.8424 - accuracy: 0.7229 - val_loss: 0.8842 - val_accuracy: 0.7014\n",
            "Epoch 19/20\n",
            "40/40 [==============================] - 1s 15ms/step - loss: 0.8374 - accuracy: 0.7204 - val_loss: 0.8729 - val_accuracy: 0.7029\n",
            "Epoch 20/20\n",
            "40/40 [==============================] - 1s 15ms/step - loss: 0.8183 - accuracy: 0.7284 - val_loss: 0.8586 - val_accuracy: 0.7096\n",
            "Epoch 1/20\n",
            "40/40 [==============================] - 1s 18ms/step - loss: 2.9209 - accuracy: 0.1430 - val_loss: 2.2369 - val_accuracy: 0.2008\n",
            "Epoch 2/20\n",
            "40/40 [==============================] - 1s 15ms/step - loss: 2.0849 - accuracy: 0.2632 - val_loss: 1.9195 - val_accuracy: 0.3173\n",
            "Epoch 3/20\n",
            "40/40 [==============================] - 1s 15ms/step - loss: 1.7875 - accuracy: 0.3690 - val_loss: 1.6517 - val_accuracy: 0.4212\n",
            "Epoch 4/20\n",
            "40/40 [==============================] - 1s 14ms/step - loss: 1.5602 - accuracy: 0.4546 - val_loss: 1.4730 - val_accuracy: 0.4802\n",
            "Epoch 5/20\n",
            "40/40 [==============================] - 1s 15ms/step - loss: 1.3986 - accuracy: 0.5179 - val_loss: 1.3548 - val_accuracy: 0.5337\n",
            "Epoch 6/20\n",
            "40/40 [==============================] - 1s 15ms/step - loss: 1.2920 - accuracy: 0.5570 - val_loss: 1.2499 - val_accuracy: 0.5759\n",
            "Epoch 7/20\n",
            "40/40 [==============================] - 1s 14ms/step - loss: 1.1897 - accuracy: 0.5986 - val_loss: 1.1848 - val_accuracy: 0.5961\n",
            "Epoch 8/20\n",
            "40/40 [==============================] - 1s 15ms/step - loss: 1.1259 - accuracy: 0.6197 - val_loss: 1.1087 - val_accuracy: 0.6311\n",
            "Epoch 9/20\n",
            "40/40 [==============================] - 1s 14ms/step - loss: 1.0624 - accuracy: 0.6437 - val_loss: 1.0569 - val_accuracy: 0.6544\n",
            "Epoch 10/20\n",
            "40/40 [==============================] - 1s 15ms/step - loss: 1.0098 - accuracy: 0.6653 - val_loss: 1.0167 - val_accuracy: 0.6626\n",
            "Epoch 11/20\n",
            "40/40 [==============================] - 1s 15ms/step - loss: 0.9787 - accuracy: 0.6746 - val_loss: 0.9998 - val_accuracy: 0.6677\n",
            "Epoch 12/20\n",
            "40/40 [==============================] - 1s 16ms/step - loss: 0.9403 - accuracy: 0.6895 - val_loss: 0.9662 - val_accuracy: 0.6766\n",
            "Epoch 13/20\n",
            "40/40 [==============================] - 1s 16ms/step - loss: 0.9147 - accuracy: 0.6966 - val_loss: 0.9401 - val_accuracy: 0.6867\n",
            "Epoch 14/20\n",
            "40/40 [==============================] - 1s 15ms/step - loss: 0.8894 - accuracy: 0.7046 - val_loss: 0.9077 - val_accuracy: 0.6990\n",
            "Epoch 15/20\n",
            "40/40 [==============================] - 1s 15ms/step - loss: 0.8611 - accuracy: 0.7155 - val_loss: 0.8970 - val_accuracy: 0.7028\n",
            "Epoch 16/20\n",
            "40/40 [==============================] - 1s 15ms/step - loss: 0.8523 - accuracy: 0.7150 - val_loss: 0.8854 - val_accuracy: 0.7029\n",
            "Epoch 17/20\n",
            "40/40 [==============================] - 1s 15ms/step - loss: 0.8363 - accuracy: 0.7196 - val_loss: 0.8835 - val_accuracy: 0.6986\n",
            "Epoch 18/20\n",
            "40/40 [==============================] - 1s 15ms/step - loss: 0.8223 - accuracy: 0.7239 - val_loss: 0.8451 - val_accuracy: 0.7171\n",
            "Epoch 19/20\n",
            "40/40 [==============================] - 1s 15ms/step - loss: 0.8057 - accuracy: 0.7295 - val_loss: 0.8375 - val_accuracy: 0.7206\n",
            "Epoch 20/20\n",
            "40/40 [==============================] - 1s 15ms/step - loss: 0.7934 - accuracy: 0.7341 - val_loss: 0.8374 - val_accuracy: 0.7164\n",
            "Epoch 1/20\n",
            "40/40 [==============================] - 1s 18ms/step - loss: 3.1130 - accuracy: 0.1402 - val_loss: 2.2948 - val_accuracy: 0.1994\n",
            "Epoch 2/20\n",
            "40/40 [==============================] - 1s 15ms/step - loss: 2.1279 - accuracy: 0.2539 - val_loss: 1.9686 - val_accuracy: 0.3047\n",
            "Epoch 3/20\n",
            "40/40 [==============================] - 1s 15ms/step - loss: 1.8472 - accuracy: 0.3508 - val_loss: 1.7437 - val_accuracy: 0.3917\n",
            "Epoch 4/20\n",
            "40/40 [==============================] - 1s 15ms/step - loss: 1.6545 - accuracy: 0.4203 - val_loss: 1.5707 - val_accuracy: 0.4528\n",
            "Epoch 5/20\n",
            "40/40 [==============================] - 1s 15ms/step - loss: 1.5003 - accuracy: 0.4825 - val_loss: 1.4479 - val_accuracy: 0.4988\n",
            "Epoch 6/20\n",
            "40/40 [==============================] - 1s 15ms/step - loss: 1.3727 - accuracy: 0.5304 - val_loss: 1.3318 - val_accuracy: 0.5435\n",
            "Epoch 7/20\n",
            "40/40 [==============================] - 1s 15ms/step - loss: 1.2664 - accuracy: 0.5730 - val_loss: 1.2431 - val_accuracy: 0.5804\n",
            "Epoch 8/20\n",
            "40/40 [==============================] - 1s 15ms/step - loss: 1.1849 - accuracy: 0.6039 - val_loss: 1.1704 - val_accuracy: 0.6051\n",
            "Epoch 9/20\n",
            "40/40 [==============================] - 1s 15ms/step - loss: 1.1086 - accuracy: 0.6322 - val_loss: 1.1064 - val_accuracy: 0.6272\n",
            "Epoch 10/20\n",
            "40/40 [==============================] - 1s 15ms/step - loss: 1.0477 - accuracy: 0.6544 - val_loss: 1.0462 - val_accuracy: 0.6510\n",
            "Epoch 11/20\n",
            "40/40 [==============================] - 1s 15ms/step - loss: 1.0066 - accuracy: 0.6675 - val_loss: 1.0140 - val_accuracy: 0.6631\n",
            "Epoch 12/20\n",
            "40/40 [==============================] - 1s 16ms/step - loss: 0.9595 - accuracy: 0.6843 - val_loss: 0.9683 - val_accuracy: 0.6800\n",
            "Epoch 13/20\n",
            "40/40 [==============================] - 1s 15ms/step - loss: 0.9217 - accuracy: 0.6985 - val_loss: 0.9377 - val_accuracy: 0.6884\n",
            "Epoch 14/20\n",
            "40/40 [==============================] - 1s 15ms/step - loss: 0.9048 - accuracy: 0.6991 - val_loss: 0.9404 - val_accuracy: 0.6806\n",
            "Epoch 15/20\n",
            "40/40 [==============================] - 1s 15ms/step - loss: 0.8750 - accuracy: 0.7097 - val_loss: 0.8900 - val_accuracy: 0.7042\n",
            "Epoch 16/20\n",
            "40/40 [==============================] - 1s 15ms/step - loss: 0.8554 - accuracy: 0.7180 - val_loss: 0.8920 - val_accuracy: 0.7045\n",
            "Epoch 17/20\n",
            "40/40 [==============================] - 1s 15ms/step - loss: 0.8343 - accuracy: 0.7241 - val_loss: 0.8648 - val_accuracy: 0.7115\n",
            "Epoch 18/20\n",
            "40/40 [==============================] - 1s 15ms/step - loss: 0.8208 - accuracy: 0.7265 - val_loss: 0.8564 - val_accuracy: 0.7135\n",
            "Epoch 19/20\n",
            "40/40 [==============================] - 1s 15ms/step - loss: 0.8107 - accuracy: 0.7310 - val_loss: 0.8419 - val_accuracy: 0.7163\n",
            "Epoch 20/20\n",
            "40/40 [==============================] - 1s 15ms/step - loss: 0.8031 - accuracy: 0.7314 - val_loss: 0.8327 - val_accuracy: 0.7208\n",
            "Epoch 1/20\n",
            "40/40 [==============================] - 1s 17ms/step - loss: 3.2434 - accuracy: 0.1328 - val_loss: 2.3715 - val_accuracy: 0.1822\n",
            "Epoch 2/20\n",
            "40/40 [==============================] - 1s 15ms/step - loss: 2.1514 - accuracy: 0.2474 - val_loss: 1.9770 - val_accuracy: 0.3077\n",
            "Epoch 3/20\n",
            "40/40 [==============================] - 1s 15ms/step - loss: 1.8485 - accuracy: 0.3535 - val_loss: 1.7381 - val_accuracy: 0.3923\n",
            "Epoch 4/20\n",
            "40/40 [==============================] - 1s 15ms/step - loss: 1.6364 - accuracy: 0.4325 - val_loss: 1.5587 - val_accuracy: 0.4602\n",
            "Epoch 5/20\n",
            "40/40 [==============================] - 1s 15ms/step - loss: 1.4686 - accuracy: 0.4943 - val_loss: 1.4214 - val_accuracy: 0.5115\n",
            "Epoch 6/20\n",
            "40/40 [==============================] - 1s 15ms/step - loss: 1.3344 - accuracy: 0.5476 - val_loss: 1.3058 - val_accuracy: 0.5610\n",
            "Epoch 7/20\n",
            "40/40 [==============================] - 1s 16ms/step - loss: 1.2331 - accuracy: 0.5868 - val_loss: 1.2034 - val_accuracy: 0.5989\n",
            "Epoch 8/20\n",
            "40/40 [==============================] - 1s 15ms/step - loss: 1.1443 - accuracy: 0.6203 - val_loss: 1.1580 - val_accuracy: 0.6112\n",
            "Epoch 9/20\n",
            "40/40 [==============================] - 1s 15ms/step - loss: 1.0863 - accuracy: 0.6404 - val_loss: 1.0847 - val_accuracy: 0.6420\n",
            "Epoch 10/20\n",
            "40/40 [==============================] - 1s 16ms/step - loss: 1.0213 - accuracy: 0.6652 - val_loss: 1.0221 - val_accuracy: 0.6650\n",
            "Epoch 11/20\n",
            "40/40 [==============================] - 1s 15ms/step - loss: 0.9761 - accuracy: 0.6790 - val_loss: 0.9945 - val_accuracy: 0.6724\n",
            "Epoch 12/20\n",
            "40/40 [==============================] - 1s 15ms/step - loss: 0.9495 - accuracy: 0.6860 - val_loss: 0.9536 - val_accuracy: 0.6861\n",
            "Epoch 13/20\n",
            "40/40 [==============================] - 1s 15ms/step - loss: 0.9128 - accuracy: 0.6985 - val_loss: 0.9254 - val_accuracy: 0.6966\n",
            "Epoch 14/20\n",
            "40/40 [==============================] - 1s 14ms/step - loss: 0.8875 - accuracy: 0.7074 - val_loss: 0.9098 - val_accuracy: 0.7008\n",
            "Epoch 15/20\n",
            "40/40 [==============================] - 1s 15ms/step - loss: 0.8629 - accuracy: 0.7150 - val_loss: 0.8998 - val_accuracy: 0.6980\n",
            "Epoch 16/20\n",
            "40/40 [==============================] - 1s 15ms/step - loss: 0.8420 - accuracy: 0.7217 - val_loss: 0.8740 - val_accuracy: 0.7104\n",
            "Epoch 17/20\n",
            "40/40 [==============================] - 1s 16ms/step - loss: 0.8256 - accuracy: 0.7248 - val_loss: 0.8652 - val_accuracy: 0.7098\n",
            "Epoch 18/20\n",
            "40/40 [==============================] - 1s 15ms/step - loss: 0.8193 - accuracy: 0.7270 - val_loss: 0.8579 - val_accuracy: 0.7100\n",
            "Epoch 19/20\n",
            "40/40 [==============================] - 1s 15ms/step - loss: 0.7998 - accuracy: 0.7325 - val_loss: 0.8486 - val_accuracy: 0.7113\n",
            "Epoch 20/20\n",
            "40/40 [==============================] - 1s 15ms/step - loss: 0.7957 - accuracy: 0.7316 - val_loss: 0.8237 - val_accuracy: 0.7263\n"
          ]
        }
      ]
    },
    {
      "cell_type": "code",
      "source": [
        "acclist=[]\n",
        "ytest1=np.zeros((10000,10))\n",
        "for i in range(10):\n",
        "  ytest=MLPlist[i](Ktest)\n",
        "  ytest=to_categorical(np.argmax(ytest.numpy(),axis=1),10)\n",
        "  ytest1=ytest1+ytest\n",
        "  acclist.append(accuracy_score(np.argmax(ytest,axis=1),np.argmax(Y_test,axis=1)))\n",
        "\n",
        "accuracy_score(np.argmax(ytest1,axis=1),np.argmax(Y_test,axis=1))"
      ],
      "metadata": {
        "colab": {
          "base_uri": "https://localhost:8080/"
        },
        "id": "ysZy_sChwJXD",
        "outputId": "768b1cc1-a5b9-4f24-a0be-23e71e387600"
      },
      "execution_count": null,
      "outputs": [
        {
          "output_type": "execute_result",
          "data": {
            "text/plain": [
              "0.4711"
            ]
          },
          "metadata": {},
          "execution_count": 70
        }
      ]
    }
  ]
}