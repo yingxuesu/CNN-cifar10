{
  "nbformat": 4,
  "nbformat_minor": 0,
  "metadata": {
    "colab": {
      "name": "DeepLearning.ipynb",
      "provenance": []
    },
    "kernelspec": {
      "name": "python3",
      "display_name": "Python 3"
    },
    "language_info": {
      "name": "python"
    }
  },
  "cells": [
    {
      "cell_type": "code",
      "execution_count": null,
      "metadata": {
        "colab": {
          "base_uri": "https://localhost:8080/",
          "height": 265
        },
        "id": "gPvXVAjChGeg",
        "outputId": "0f2974d2-effa-476f-9f35-942288f4af57"
      },
      "outputs": [
        {
          "output_type": "display_data",
          "data": {
            "text/plain": [
              "<Figure size 432x288 with 1 Axes>"
            ],
            "image/png": "[encoded data removed]"
          },
          "metadata": {
            "needs_background": "light"
          }
        }
      ],
      "source": [
        "from tensorflow.keras.datasets import mnist\n",
        "from tensorflow.keras.models import Sequential\n",
        "from tensorflow.keras.layers import Dense\n",
        "from tensorflow.keras.utils import to_categorical\n",
        "import matplotlib.pyplot as plt\n",
        "# Configuration options\n",
        "feature_vector_length = 784\n",
        "\n",
        "# Load the data\n",
        "(X_train, Y_train), (X_test, Y_test) = mnist.load_data()\n",
        "\n",
        "# Visualize one sample\n",
        "\n",
        "plt.imshow(X_train[0], cmap='Greys')\n",
        "plt.show()"
      ]
    },
    {
      "cell_type": "code",
      "source": [
        "# Set the input shape\n",
        "input_shape = (feature_vector_length,)\n",
        "print(f'Feature shape: {input_shape}')\n",
        "num_classes=10\n",
        "\n",
        "# Reshape the data - MLPs do not understand such things as '2D'.\n",
        "# Reshape to 28 x 28 pixels = 784 features\n",
        "X_train = X_train.reshape(X_train.shape[0], feature_vector_length)\n",
        "X_test = X_test.reshape(X_test.shape[0], feature_vector_length)\n",
        "\n",
        "# change the the type of the data set\n",
        "X_train = X_train.astype('float32')\n",
        "X_test = X_test.astype('float32')\n",
        "X_train /= 255\n",
        "X_test /= 255\n",
        "\n",
        "# Convert target classes to categorical ones\n",
        "Y_train = to_categorical(Y_train, num_classes)\n",
        "Y_test = to_categorical(Y_test, num_classes)\n"
      ],
      "metadata": {
        "colab": {
          "base_uri": "https://localhost:8080/"
        },
        "id": "1YZFln13jqob",
        "outputId": "171263e0-c160-47f4-9f9a-e96d42d99a7c"
      },
      "execution_count": null,
      "outputs": [
        {
          "output_type": "stream",
          "name": "stdout",
          "text": [
            "Feature shape: (784,)\n"
          ]
        }
      ]
    },
    {
      "cell_type": "code",
      "source": [
        "import tensorflow as tf\n",
        "input = tf.keras.Input(shape=input_shape)\n",
        "hidden1 = Dense(200, activation='relu')(input)\n",
        "output = Dense(10, activation='softmax')(hidden1)\n",
        "\n",
        "MLP1 = tf.keras.Model(input, output)\n",
        "Hidden=tf.keras.Model(input,hidden1)"
      ],
      "metadata": {
        "id": "bQknDt9lkVVT"
      },
      "execution_count": null,
      "outputs": []
    },
    {
      "cell_type": "code",
      "source": [
        "MLP1.compile(loss='categorical_crossentropy', optimizer='adam', metrics=['accuracy'])\n",
        "history=MLP1.fit(X_train, Y_train, epochs=50, batch_size=250, verbose=1, validation_split=0.2)\n"
      ],
      "metadata": {
        "id": "boQC_kFulaKd"
      },
      "execution_count": null,
      "outputs": []
    },
    {
      "cell_type": "code",
      "source": [
        "Y_train.shape"
      ],
      "metadata": {
        "id": "oclMgwy3lt6L",
        "colab": {
          "base_uri": "https://localhost:8080/"
        },
        "outputId": "9599d3a4-546b-4c6f-c0ca-bed21a153268"
      },
      "execution_count": null,
      "outputs": [
        {
          "output_type": "execute_result",
          "data": {
            "text/plain": [
              "(60000,)"
            ]
          },
          "metadata": {},
          "execution_count": 28
        }
      ]
    },
    {
      "cell_type": "code",
      "source": [
        "print(history.history.keys())\n",
        "\n",
        "plt.plot(history.history['accuracy'])\n",
        "plt.plot(history.history['val_accuracy'])\n",
        "plt.title('model accuracy')\n",
        "plt.ylabel('accuracy')\n",
        "plt.xlabel('epoch')\n",
        "plt.legend(['train', 'test'], loc='upper left')\n",
        "\n",
        "plt.show()\n",
        "\n",
        "plt.plot(history.history['loss'])\n",
        "plt.plot(history.history['val_loss'])\n",
        "plt.title('loss function')\n",
        "plt.ylabel('loss function')\n",
        "plt.xlabel('epoch')\n",
        "plt.legend(['train', 'test'], loc='upper left')\n",
        "plt.show()"
      ],
      "metadata": {
        "colab": {
          "base_uri": "https://localhost:8080/",
          "height": 590
        },
        "id": "ny5MnTA_oK5u",
        "outputId": "714bdceb-312d-4681-b41b-7c66083174fc"
      },
      "execution_count": null,
      "outputs": [
        {
          "output_type": "stream",
          "name": "stdout",
          "text": [
            "dict_keys(['loss', 'accuracy', 'val_loss', 'val_accuracy'])\n"
          ]
        },
        {
          "output_type": "display_data",
          "data": {
            "text/plain": [
              "<Figure size 432x288 with 1 Axes>"
            ],
            "image/png": "[encoded data removed]"
          },
          "metadata": {
            "needs_background": "light"
          }
        },
        {
          "output_type": "display_data",
          "data": {
            "text/plain": [
              "<Figure size 432x288 with 1 Axes>"
            ],
            "image/png": "[encoded data removed]"
          },
          "metadata": {
            "needs_background": "light"
          }
        }
      ]
    },
    {
      "cell_type": "code",
      "source": [
        "history.history['loss']"
      ],
      "metadata": {
        "id": "aWYlzmRatbTm"
      },
      "execution_count": null,
      "outputs": []
    },
    {
      "cell_type": "code",
      "source": [
        "Hid=Hidden(X_train).numpy()\n",
        "Hid.shape"
      ],
      "metadata": {
        "colab": {
          "base_uri": "https://localhost:8080/"
        },
        "id": "0KY5qP5PsvpS",
        "outputId": "0776516d-98d9-4e2b-8107-a2b96c0ef38c"
      },
      "execution_count": null,
      "outputs": [
        {
          "output_type": "execute_result",
          "data": {
            "text/plain": [
              "(60000, 200)"
            ]
          },
          "metadata": {},
          "execution_count": 7
        }
      ]
    },
    {
      "cell_type": "code",
      "source": [
        "from sklearn.decomposition import PCA\n",
        "pca = PCA(n_components=0.95, svd_solver='full')\n",
        "X=pca.fit_transform(Hid,)\n",
        "X.shape"
      ],
      "metadata": {
        "id": "uxA7D5usuPXz",
        "colab": {
          "base_uri": "https://localhost:8080/"
        },
        "outputId": "0c224360-e3c5-413e-9275-e0cfd91b6104"
      },
      "execution_count": null,
      "outputs": [
        {
          "output_type": "execute_result",
          "data": {
            "text/plain": [
              "(60000, 77)"
            ]
          },
          "metadata": {},
          "execution_count": 9
        }
      ]
    },
    {
      "cell_type": "code",
      "source": [
        "auto_input = tf.keras.Input(shape=(200,))\n",
        "encoder = Dense(77, activation='relu')(auto_input)\n",
        "decoder = Dense(200, activation='linear')(encoder)\n",
        "\n",
        "Autoencoder = tf.keras.Model(auto_input, decoder)\n",
        "Encoder=tf.keras.Model(auto_input,encoder)\n",
        "\n",
        "# Configure the model and start training\n",
        "Autoencoder.compile(loss='mse', optimizer='adam', metrics=['mse'])\n",
        "history1= Autoencoder.fit(Hid, Hid, epochs=40, batch_size=500, verbose=1, validation_split=0.2)\n",
        "\n"
      ],
      "metadata": {
        "id": "3RVqiHjfu4i9"
      },
      "execution_count": null,
      "outputs": []
    },
    {
      "cell_type": "code",
      "source": [
        "print(history1.history.keys())\n",
        "plt.plot(history1.history['loss'])\n",
        "plt.plot(history1.history['val_loss'])\n",
        "plt.title('LOSS')\n",
        "plt.ylabel('LOSS')\n",
        "plt.xlabel('epoch')\n",
        "plt.legend(['train', 'validation'], loc='upper left')\n",
        "plt.show()\n"
      ],
      "metadata": {
        "colab": {
          "base_uri": "https://localhost:8080/",
          "height": 312
        },
        "id": "SQv289g_wrdg",
        "outputId": "9979f6c7-1198-4cb9-ce2e-9d41d9f4f2b2"
      },
      "execution_count": null,
      "outputs": [
        {
          "output_type": "stream",
          "name": "stdout",
          "text": [
            "dict_keys(['loss', 'mse', 'val_loss', 'val_mse'])\n"
          ]
        },
        {
          "output_type": "display_data",
          "data": {
            "text/plain": [
              "<Figure size 432x288 with 1 Axes>"
            ],
            "image/png": "[encoded data removed]"
          },
          "metadata": {
            "needs_background": "light"
          }
        }
      ]
    },
    {
      "cell_type": "code",
      "source": [
        "Newinput=Encoder(Hid).numpy()\n",
        "print(Newinput.shape)\n",
        "\n",
        "input2 = tf.keras.Input(shape=(77,))\n",
        "hidden2 = Dense(50, activation='relu')(input2)\n",
        "output2 = Dense(10, activation='softmax')(hidden2)\n",
        "\n",
        "MLP2 = tf.keras.Model(input2, output2)"
      ],
      "metadata": {
        "colab": {
          "base_uri": "https://localhost:8080/"
        },
        "id": "FBKoVfxMy1Qt",
        "outputId": "4ce0eea1-0a39-4064-bce7-39c29a095cda"
      },
      "execution_count": null,
      "outputs": [
        {
          "output_type": "stream",
          "name": "stdout",
          "text": [
            "(60000, 77)\n"
          ]
        }
      ]
    },
    {
      "cell_type": "code",
      "source": [
        "Newinput.shape"
      ],
      "metadata": {
        "id": "RfBxDff10GX_",
        "colab": {
          "base_uri": "https://localhost:8080/"
        },
        "outputId": "1b8e17a1-d463-4ed4-9acf-d1b99ab7f79e"
      },
      "execution_count": null,
      "outputs": [
        {
          "output_type": "execute_result",
          "data": {
            "text/plain": [
              "(60000, 77)"
            ]
          },
          "metadata": {},
          "execution_count": 26
        }
      ]
    },
    {
      "cell_type": "code",
      "source": [
        "MLP2.compile(loss='categorical_crossentropy', optimizer='adam', metrics=['accuracy'])\n",
        "history3=MLP2.fit(Newinput, Y_train, epochs=50, batch_size=250, verbose=1, validation_split=0.2)\n"
      ],
      "metadata": {
        "id": "teu-Y1hhzUD2",
        "colab": {
          "base_uri": "https://localhost:8080/"
        },
        "outputId": "626f0d01-9d17-4376-9449-b62111f53ee5"
      },
      "execution_count": null,
      "outputs": [
        {
          "output_type": "stream",
          "name": "stdout",
          "text": [
            "Epoch 1/50\n",
            "192/192 [==============================] - 1s 4ms/step - loss: 0.9396 - accuracy: 0.7365 - val_loss: 0.2782 - val_accuracy: 0.9293\n",
            "Epoch 2/50\n",
            "192/192 [==============================] - 1s 4ms/step - loss: 0.1840 - accuracy: 0.9537 - val_loss: 0.1555 - val_accuracy: 0.9578\n",
            "Epoch 3/50\n",
            "192/192 [==============================] - 1s 3ms/step - loss: 0.1088 - accuracy: 0.9721 - val_loss: 0.1234 - val_accuracy: 0.9645\n",
            "Epoch 4/50\n",
            "192/192 [==============================] - 1s 3ms/step - loss: 0.0773 - accuracy: 0.9802 - val_loss: 0.1066 - val_accuracy: 0.9686\n",
            "Epoch 5/50\n",
            "192/192 [==============================] - 1s 3ms/step - loss: 0.0594 - accuracy: 0.9848 - val_loss: 0.0998 - val_accuracy: 0.9697\n",
            "Epoch 6/50\n",
            "192/192 [==============================] - 1s 3ms/step - loss: 0.0476 - accuracy: 0.9885 - val_loss: 0.0988 - val_accuracy: 0.9699\n",
            "Epoch 7/50\n",
            "192/192 [==============================] - 1s 3ms/step - loss: 0.0399 - accuracy: 0.9906 - val_loss: 0.0912 - val_accuracy: 0.9728\n",
            "Epoch 8/50\n",
            "192/192 [==============================] - 1s 3ms/step - loss: 0.0338 - accuracy: 0.9920 - val_loss: 0.0877 - val_accuracy: 0.9734\n",
            "Epoch 9/50\n",
            "192/192 [==============================] - 1s 3ms/step - loss: 0.0286 - accuracy: 0.9937 - val_loss: 0.0862 - val_accuracy: 0.9741\n",
            "Epoch 10/50\n",
            "192/192 [==============================] - 1s 3ms/step - loss: 0.0251 - accuracy: 0.9948 - val_loss: 0.0857 - val_accuracy: 0.9731\n",
            "Epoch 11/50\n",
            "192/192 [==============================] - 1s 3ms/step - loss: 0.0222 - accuracy: 0.9956 - val_loss: 0.0866 - val_accuracy: 0.9745\n",
            "Epoch 12/50\n",
            "192/192 [==============================] - 1s 3ms/step - loss: 0.0200 - accuracy: 0.9963 - val_loss: 0.0914 - val_accuracy: 0.9743\n",
            "Epoch 13/50\n",
            "192/192 [==============================] - 1s 3ms/step - loss: 0.0174 - accuracy: 0.9969 - val_loss: 0.0854 - val_accuracy: 0.9756\n",
            "Epoch 14/50\n",
            "192/192 [==============================] - 1s 3ms/step - loss: 0.0159 - accuracy: 0.9973 - val_loss: 0.0899 - val_accuracy: 0.9732\n",
            "Epoch 15/50\n",
            "192/192 [==============================] - 1s 3ms/step - loss: 0.0152 - accuracy: 0.9970 - val_loss: 0.0866 - val_accuracy: 0.9744\n",
            "Epoch 16/50\n",
            "192/192 [==============================] - 1s 3ms/step - loss: 0.0130 - accuracy: 0.9979 - val_loss: 0.0848 - val_accuracy: 0.9762\n",
            "Epoch 17/50\n",
            "192/192 [==============================] - 1s 3ms/step - loss: 0.0126 - accuracy: 0.9980 - val_loss: 0.0859 - val_accuracy: 0.9772\n",
            "Epoch 18/50\n",
            "192/192 [==============================] - 1s 3ms/step - loss: 0.0113 - accuracy: 0.9982 - val_loss: 0.0884 - val_accuracy: 0.9760\n",
            "Epoch 19/50\n",
            "192/192 [==============================] - 1s 3ms/step - loss: 0.0107 - accuracy: 0.9981 - val_loss: 0.0855 - val_accuracy: 0.9772\n",
            "Epoch 20/50\n",
            "192/192 [==============================] - 1s 3ms/step - loss: 0.0093 - accuracy: 0.9986 - val_loss: 0.0883 - val_accuracy: 0.9773\n",
            "Epoch 21/50\n",
            "192/192 [==============================] - 1s 3ms/step - loss: 0.0091 - accuracy: 0.9986 - val_loss: 0.0889 - val_accuracy: 0.9768\n",
            "Epoch 22/50\n",
            "192/192 [==============================] - 1s 3ms/step - loss: 0.0080 - accuracy: 0.9988 - val_loss: 0.0927 - val_accuracy: 0.9769\n",
            "Epoch 23/50\n",
            "192/192 [==============================] - 1s 3ms/step - loss: 0.0085 - accuracy: 0.9985 - val_loss: 0.0918 - val_accuracy: 0.9767\n",
            "Epoch 24/50\n",
            "192/192 [==============================] - 1s 3ms/step - loss: 0.0080 - accuracy: 0.9987 - val_loss: 0.0945 - val_accuracy: 0.9753\n",
            "Epoch 25/50\n",
            "192/192 [==============================] - 1s 3ms/step - loss: 0.0066 - accuracy: 0.9991 - val_loss: 0.0915 - val_accuracy: 0.9771\n",
            "Epoch 26/50\n",
            "192/192 [==============================] - 1s 3ms/step - loss: 0.0070 - accuracy: 0.9987 - val_loss: 0.0979 - val_accuracy: 0.9757\n",
            "Epoch 27/50\n",
            "192/192 [==============================] - 1s 3ms/step - loss: 0.0065 - accuracy: 0.9989 - val_loss: 0.0953 - val_accuracy: 0.9759\n",
            "Epoch 28/50\n",
            "192/192 [==============================] - 1s 3ms/step - loss: 0.0055 - accuracy: 0.9994 - val_loss: 0.0967 - val_accuracy: 0.9758\n",
            "Epoch 29/50\n",
            "192/192 [==============================] - 1s 3ms/step - loss: 0.0057 - accuracy: 0.9990 - val_loss: 0.0994 - val_accuracy: 0.9753\n",
            "Epoch 30/50\n",
            "192/192 [==============================] - 1s 3ms/step - loss: 0.0053 - accuracy: 0.9991 - val_loss: 0.1000 - val_accuracy: 0.9769\n",
            "Epoch 31/50\n",
            "192/192 [==============================] - 1s 3ms/step - loss: 0.0058 - accuracy: 0.9990 - val_loss: 0.1029 - val_accuracy: 0.9766\n",
            "Epoch 32/50\n",
            "192/192 [==============================] - 1s 3ms/step - loss: 0.0053 - accuracy: 0.9990 - val_loss: 0.1016 - val_accuracy: 0.9771\n",
            "Epoch 33/50\n",
            "192/192 [==============================] - 1s 3ms/step - loss: 0.0049 - accuracy: 0.9992 - val_loss: 0.1023 - val_accuracy: 0.9772\n",
            "Epoch 34/50\n",
            "192/192 [==============================] - 1s 3ms/step - loss: 0.0042 - accuracy: 0.9994 - val_loss: 0.1033 - val_accuracy: 0.9757\n",
            "Epoch 35/50\n",
            "192/192 [==============================] - 1s 3ms/step - loss: 0.0042 - accuracy: 0.9993 - val_loss: 0.1048 - val_accuracy: 0.9775\n",
            "Epoch 36/50\n",
            "192/192 [==============================] - 1s 3ms/step - loss: 0.0037 - accuracy: 0.9994 - val_loss: 0.1039 - val_accuracy: 0.9768\n",
            "Epoch 37/50\n",
            "192/192 [==============================] - 1s 3ms/step - loss: 0.0039 - accuracy: 0.9994 - val_loss: 0.1324 - val_accuracy: 0.9714\n",
            "Epoch 38/50\n",
            "192/192 [==============================] - 1s 3ms/step - loss: 0.0043 - accuracy: 0.9993 - val_loss: 0.1070 - val_accuracy: 0.9759\n",
            "Epoch 39/50\n",
            "192/192 [==============================] - 1s 3ms/step - loss: 0.0029 - accuracy: 0.9998 - val_loss: 0.1056 - val_accuracy: 0.9772\n",
            "Epoch 40/50\n",
            "192/192 [==============================] - 1s 3ms/step - loss: 0.0040 - accuracy: 0.9992 - val_loss: 0.1123 - val_accuracy: 0.9752\n",
            "Epoch 41/50\n",
            "192/192 [==============================] - 1s 3ms/step - loss: 0.0035 - accuracy: 0.9993 - val_loss: 0.1100 - val_accuracy: 0.9768\n",
            "Epoch 42/50\n",
            "192/192 [==============================] - 1s 3ms/step - loss: 0.0032 - accuracy: 0.9995 - val_loss: 0.1118 - val_accuracy: 0.9770\n",
            "Epoch 43/50\n",
            "192/192 [==============================] - 1s 3ms/step - loss: 0.0030 - accuracy: 0.9995 - val_loss: 0.1270 - val_accuracy: 0.9745\n",
            "Epoch 44/50\n",
            "192/192 [==============================] - 1s 3ms/step - loss: 0.0031 - accuracy: 0.9996 - val_loss: 0.1189 - val_accuracy: 0.9757\n",
            "Epoch 45/50\n",
            "192/192 [==============================] - 1s 3ms/step - loss: 0.0023 - accuracy: 0.9997 - val_loss: 0.1135 - val_accuracy: 0.9769\n",
            "Epoch 46/50\n",
            "192/192 [==============================] - 1s 3ms/step - loss: 0.0029 - accuracy: 0.9995 - val_loss: 0.1160 - val_accuracy: 0.9759\n",
            "Epoch 47/50\n",
            "192/192 [==============================] - 1s 3ms/step - loss: 0.0032 - accuracy: 0.9995 - val_loss: 0.1155 - val_accuracy: 0.9766\n",
            "Epoch 48/50\n",
            "192/192 [==============================] - 1s 3ms/step - loss: 0.0035 - accuracy: 0.9992 - val_loss: 0.1169 - val_accuracy: 0.9766\n",
            "Epoch 49/50\n",
            "192/192 [==============================] - 1s 3ms/step - loss: 0.0026 - accuracy: 0.9995 - val_loss: 0.1194 - val_accuracy: 0.9776\n",
            "Epoch 50/50\n",
            "192/192 [==============================] - 1s 3ms/step - loss: 0.0021 - accuracy: 0.9998 - val_loss: 0.1233 - val_accuracy: 0.9759\n"
          ]
        }
      ]
    },
    {
      "cell_type": "code",
      "source": [
        "print(history3.history.keys())\n",
        "plt.plot(history3.history['accuracy'])\n",
        "plt.plot(history3.history['val_accuracy'])\n",
        "plt.title('model accuracy')\n",
        "plt.ylabel('accuracy')\n",
        "plt.xlabel('epoch')\n",
        "plt.legend(['train', 'test'], loc='upper left')\n",
        "plt.show()\n",
        "\n",
        "plt.plot(history3.history['loss'])\n",
        "plt.plot(history3.history['val_loss'])\n",
        "plt.title('loss function')\n",
        "plt.ylabel('loss function')\n",
        "plt.xlabel('epoch')\n",
        "plt.legend(['train', 'test'], loc='upper left')\n",
        "plt.show()"
      ],
      "metadata": {
        "colab": {
          "base_uri": "https://localhost:8080/",
          "height": 590
        },
        "id": "FgnEWGD41F7u",
        "outputId": "739c65c9-35f6-46ae-e14c-bf48d2194159"
      },
      "execution_count": null,
      "outputs": [
        {
          "output_type": "stream",
          "name": "stdout",
          "text": [
            "dict_keys(['loss', 'accuracy', 'val_loss', 'val_accuracy'])\n"
          ]
        },
        {
          "output_type": "display_data",
          "data": {
            "text/plain": [
              "<Figure size 432x288 with 1 Axes>"
            ],
            "image/png": "[encoded data removed]"
          },
          "metadata": {
            "needs_background": "light"
          }
        },
        {
          "output_type": "display_data",
          "data": {
            "text/plain": [
              "<Figure size 432x288 with 1 Axes>"
            ],
            "image/png": "[encoded data removed]"
          },
          "metadata": {
            "needs_background": "light"
          }
        }
      ]
    },
    {
      "cell_type": "code",
      "source": [
        "import numpy as np\n",
        "Newprediction=MLP2(Newinput).numpy()\n",
        "print(Newprediction[0])\n",
        "Prediction=np.argmax(Newprediction, axis=1)\n",
        "Y_train=np.argmax(Y_train,axis=1)\n",
        "tf.math.confusion_matrix(Prediction, Y_train)"
      ],
      "metadata": {
        "colab": {
          "base_uri": "https://localhost:8080/"
        },
        "id": "YtPi6gIJ1YXL",
        "outputId": "dc7ef641-69f3-4c00-a488-6674762a5612"
      },
      "execution_count": null,
      "outputs": [
        {
          "output_type": "stream",
          "name": "stdout",
          "text": [
            "[1.53414541e-26 5.29119024e-22 1.11356314e-20 1.36761577e-04\n",
            " 0.00000000e+00 9.99863267e-01 3.22294176e-26 7.00905873e-26\n",
            " 2.84371833e-24 3.88102210e-23]\n"
          ]
        },
        {
          "output_type": "execute_result",
          "data": {
            "text/plain": [
              "<tf.Tensor: shape=(10, 10), dtype=int32, numpy=\n",
              "array([[5910,    0,    4,    0,    0,    1,   11,    1,    6,    6],\n",
              "       [   0, 6729,    3,    0,    6,    0,    0,    3,    2,    4],\n",
              "       [   4,    1, 5926,    6,    0,    1,    1,    4,    2,    0],\n",
              "       [   0,    2,    5, 6101,    0,   12,    0,    7,    9,    6],\n",
              "       [   0,    1,    3,    0, 5823,    2,    6,    3,    1,   24],\n",
              "       [   2,    0,    1,   13,    0, 5375,    2,    4,    5,    2],\n",
              "       [   0,    4,    0,    1,    2,   19, 5896,    0,    2,    0],\n",
              "       [   1,    1,    5,    3,    3,    0,    0, 6240,    3,    9],\n",
              "       [   4,    4,   11,    5,    0,    5,    2,    2, 5815,    6],\n",
              "       [   2,    0,    0,    2,    8,    6,    0,    1,    6, 5892]],\n",
              "      dtype=int32)>"
            ]
          },
          "metadata": {},
          "execution_count": 22
        }
      ]
    },
    {
      "cell_type": "code",
      "source": [
        "ML=[MLP1,MLP2]\n",
        "ML[0]\n",
        "\n",
        "i=1\n",
        "print(eval('MLP'+str(i)))"
      ],
      "metadata": {
        "colab": {
          "base_uri": "https://localhost:8080/"
        },
        "id": "yBT8wLzyJC1L",
        "outputId": "37e3876f-98ff-4f60-82b3-696b0b0d36b4"
      },
      "execution_count": null,
      "outputs": [
        {
          "output_type": "stream",
          "name": "stdout",
          "text": [
            "<keras.engine.functional.Functional object at 0x7fbeeee033d0>\n"
          ]
        }
      ]
    }
  ]
}